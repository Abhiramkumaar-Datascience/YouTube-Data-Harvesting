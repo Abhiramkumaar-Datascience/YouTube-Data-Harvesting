{
  "nbformat": 4,
  "nbformat_minor": 0,
  "metadata": {
    "colab": {
      "provenance": [],
      "authorship_tag": "ABX9TyMcM8HW0NRkO/WvADnLozGz"
    },
    "kernelspec": {
      "name": "python3",
      "display_name": "Python 3"
    },
    "language_info": {
      "name": "python"
    }
  },
  "cells": [
    {
      "cell_type": "markdown",
      "source": [
        "# YouTube NLP"
      ],
      "metadata": {
        "id": "oyWNPLCREeBm"
      }
    },
    {
      "cell_type": "markdown",
      "source": [
        "## Ingesting Comments from the YouTube Video"
      ],
      "metadata": {
        "id": "wyBnA3NgEi0W"
      }
    },
    {
      "cell_type": "code",
      "source": [
        "api_key = ''"
      ],
      "metadata": {
        "id": "ub2kJ5eEF0xF"
      },
      "execution_count": null,
      "outputs": []
    },
    {
      "cell_type": "code",
      "execution_count": 11,
      "metadata": {
        "id": "bcsli4zgbOaK"
      },
      "outputs": [],
      "source": [
        "from googleapiclient.discovery import build\n",
        "\n",
        "# The string after v=? in the url\n",
        "video_id = \"dQw4w9WgXcQ\"\n",
        "\n",
        "# creating youtube resource object\n",
        "youtube = build('youtube', 'v3',\n",
        "developerKey=api_key)\n",
        "\n",
        "# retrieve youtube video results\n",
        "video_response=youtube.commentThreads().list(\n",
        "  part='snippet',\n",
        "  maxResults=10,\n",
        "  order=\"relevance\",\n",
        "  videoId=video_id\n",
        ").execute()\n"
      ]
    },
    {
      "cell_type": "markdown",
      "source": [
        "## Data Wrangling"
      ],
      "metadata": {
        "id": "yq7-bNkVEu8f"
      }
    },
    {
      "cell_type": "markdown",
      "source": [
        "## Cleaning and selecting our Required variables"
      ],
      "metadata": {
        "id": "9d3Gu80DEzxz"
      }
    },
    {
      "cell_type": "markdown",
      "source": [
        "### Assumptions\n",
        "\n",
        "\n",
        "*   Picking only the comment made by the original author\n",
        "  *   Comment Threads on the Original Authors comment could be diverging from the video\n",
        "  *   Limiting Response to about 10 for testing\n",
        "\n",
        "*   Using the 'textOriginal' instead of 'textDisplay' for easier cleanup of the comment\n",
        "\n"
      ],
      "metadata": {
        "id": "y5znsobSE77W"
      }
    },
    {
      "cell_type": "code",
      "source": [
        "# empty list for storing reply\n",
        "replies = []\n",
        "\n",
        "# extracting required info from each result object\n",
        "for item in video_response['items']:\n",
        "\n",
        "  # Extracting comments\n",
        "  comment = item['snippet']['topLevelComment']['snippet']['textOriginal']\n",
        "  replies.append(comment)\n"
      ],
      "metadata": {
        "id": "EGSavP8ZGPqq"
      },
      "execution_count": 45,
      "outputs": []
    },
    {
      "cell_type": "code",
      "source": [
        "# print comment with list of reply\n",
        "replies"
      ],
      "metadata": {
        "colab": {
          "base_uri": "https://localhost:8080/"
        },
        "id": "cfZFu_ltC24r",
        "outputId": "32ebda45-f5f9-42ac-b550-266251964032"
      },
      "execution_count": 46,
      "outputs": [
        {
          "output_type": "execute_result",
          "data": {
            "text/plain": [
              "['1 BILLION views for Never Gonna Give You Up!\\xa0 Amazing, crazy, wonderful! Rick ♥️',\n",
              " \"This isn't your first time here\\nAnd you know it.\",\n",
              " 'Vienes del Rewind 2022? JKAJSK',\n",
              " 'Rick Astley haciéndose aún más famoso gracias al Rewind Hispano 2022, sencillamente maravilloso\\n\\nEdit: Gracias por los likes gente, espero que vuestro 2023 sea próspero y mejor que este 2022!',\n",
              " 'Memes aside, even after 13 years this song still has value and gives that early 200s and 1980s vibe , back when the world was at its best.',\n",
              " 'Naah... temardo en verdad 😎🤙\\n6025619 personas ya lo han escuchado,\\nespero que te haya gustado 😉',\n",
              " 'I definitely did NOT just get Rick Rolled, shut up, you did\\n*cries*',\n",
              " 'Naah... temardo en verdad 😎🤙\\r\\n2100011 personas ya lo han escuchado,\\r\\nespero que te haya gustado 😉',\n",
              " 'Even when’s it’s 2023 thousands of people still listen to this song everyday,it never gets old❤',\n",
              " \"Honestly I love this song, so whenever i get rick rolled I actually thank the person for sending it! Don't hate the player, hate the game. \\nI don't understand why people get s\\n\\n\\nWe're no strangers to love\\nYou know the rules and so do I\\nA full commitment's what I'm thinking of\\nYou wouldn't get this from any other guy\\n\\nI just wanna tell you how I'm feeling\\nGotta make you understand\\n\\nNever gonna give you up\\nNever gonna let you down\\nNever gonna run around and desert you\\nNever gonna make you cry\\nNever gonna say goodbye\\nNever gonna tell a lie and hurt you\\n\\nWe've known each other for so long\\nYour heart's been aching but you're too shy to say it\\nInside we both know what's been going on\\nWe know the game and we're gonna play it\\nAnd if you ask me how I'm feeling\\nDon't tell me you're too blind to see\\n\\nNever gonna give you up\\nNever gonna let you down\\nNever gonna run around and desert you\\nNever gonna make you cry\\nNever gonna say goodbye\\nNever gonna tell a lie and hurt you\\n\\nNever gonna give you up\\nNever gonna let you down\\nNever gonna run around and desert you\\nNever gonna make you cry\\nNever gonna say goodbye\\nNever gonna tell a lie and hurt you\\n\\nNever gonna give, never gonna give\\n(Give you up)\\n\\nWe've known each other for so long\\nYour heart's been aching but you're too shy to say it\\nInside we both know what's been going on\\nWe know the game and we're gonna play it\\n\\nI just wanna tell you how I'm feeling\\nGotta make you understand\\n\\nNever gonna give you up\\nNever gonna let you down\\nNever gonna run around and desert you\\nNever gonna make you cry\\nNever gonna say goodbye\\nNever gonna tell a lie and hurt you\\n\\nNever gonna give you up\\nNever gonna let you down\\nNever gonna run around and desert you\\nNever gonna make you cry\\nNever gonna say goodbye\\nNever gonna tell a lie and hurt you\\n\\nNever gonna give you up\\nNever gonna let you down\\nNever gonna run around and desert you\\nNever gonna make you cry\\nNever gonna say goodbye\\n\\n\\nMan.. you really got rick rolled again? That's kinda sad.. but anyways! Have a great day.\"]"
            ]
          },
          "metadata": {},
          "execution_count": 46
        }
      ]
    },
    {
      "cell_type": "code",
      "source": [],
      "metadata": {
        "id": "REkYtE-yBLka"
      },
      "execution_count": null,
      "outputs": []
    }
  ]
}