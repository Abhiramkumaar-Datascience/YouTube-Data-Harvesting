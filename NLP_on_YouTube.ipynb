{
  "nbformat": 4,
  "nbformat_minor": 0,
  "metadata": {
    "colab": {
      "provenance": [],
      "authorship_tag": "ABX9TyMS4yewIb2OT3ZQOdi4Nc8J"
    },
    "kernelspec": {
      "name": "python3",
      "display_name": "Python 3"
    },
    "language_info": {
      "name": "python"
    }
  },
  "cells": [
    {
      "cell_type": "markdown",
      "source": [
        "# YouTube NLP"
      ],
      "metadata": {
        "id": "oyWNPLCREeBm"
      }
    },
    {
      "cell_type": "markdown",
      "source": [
        "## Ingesting Comments from the YouTube Video"
      ],
      "metadata": {
        "id": "wyBnA3NgEi0W"
      }
    },
    {
      "cell_type": "code",
      "source": [
        "api_key = ''"
      ],
      "metadata": {
        "id": "ub2kJ5eEF0xF"
      },
      "execution_count": 4,
      "outputs": []
    },
    {
      "cell_type": "code",
      "execution_count": 5,
      "metadata": {
        "id": "bcsli4zgbOaK"
      },
      "outputs": [],
      "source": [
        "from googleapiclient.discovery import build\n",
        "\n",
        "# The string after v=? in the url\n",
        "video_id = \"dQw4w9WgXcQ\"\n",
        "\n",
        "# creating youtube resource object\n",
        "youtube = build('youtube', 'v3',\n",
        "developerKey=api_key)\n",
        "\n",
        "# retrieve youtube video results\n",
        "video_response=youtube.commentThreads().list(\n",
        "  part='snippet',\n",
        "  maxResults=1000,\n",
        "  order='relevance',\n",
        "  videoId=video_id\n",
        ").execute()\n"
      ]
    },
    {
      "cell_type": "markdown",
      "source": [
        "## Data Preprocessing"
      ],
      "metadata": {
        "id": "yq7-bNkVEu8f"
      }
    },
    {
      "cell_type": "markdown",
      "source": [
        "## Data Wrangling"
      ],
      "metadata": {
        "id": "9d3Gu80DEzxz"
      }
    },
    {
      "cell_type": "markdown",
      "source": [
        "### Assumptions\n",
        "\n",
        "\n",
        "*   Picking only the comment made by the original author\n",
        "  *   Comment Threads on the Original Authors comment could be diverging from the video\n",
        "  *   Limiting Response to about 10 for testing\n",
        "\n",
        "*   Using the 'textOriginal' instead of 'textDisplay' for easier cleanup of the comment\n",
        "\n",
        "\n",
        "*   Analyzing only English Comments \n",
        "  *   Storing the number of non English comments for metrics\n",
        "\n",
        "\n",
        "\n",
        "\n",
        "\n",
        "\n"
      ],
      "metadata": {
        "id": "y5znsobSE77W"
      }
    },
    {
      "cell_type": "code",
      "source": [
        "# empty list for storing reply\n",
        "replies = []\n",
        "\n",
        "# extracting required info from each result object\n",
        "for item in video_response['items']:\n",
        "\n",
        "  # Extracting comments\n",
        "  comment = item['snippet']['topLevelComment']['snippet']['textOriginal']\n",
        "  replies.append(comment)"
      ],
      "metadata": {
        "id": "EGSavP8ZGPqq"
      },
      "execution_count": 6,
      "outputs": []
    },
    {
      "cell_type": "code",
      "source": [
        "# print comment with list of reply\n",
        "replies[10]"
      ],
      "metadata": {
        "colab": {
          "base_uri": "https://localhost:8080/",
          "height": 227
        },
        "id": "cfZFu_ltC24r",
        "outputId": "17d90750-6b79-42f6-a2c9-9f217a60c7df"
      },
      "execution_count": 11,
      "outputs": [
        {
          "output_type": "execute_result",
          "data": {
            "text/plain": [
              "\"Honestly I love this song, so whenever i get rick rolled I actually thank the person for sending it! Don't hate the player, hate the game. \\nI don't understand why people get s\\n\\n\\nWe're no strangers to love\\nYou know the rules and so do I\\nA full commitment's what I'm thinking of\\nYou wouldn't get this from any other guy\\n\\nI just wanna tell you how I'm feeling\\nGotta make you understand\\n\\nNever gonna give you up\\nNever gonna let you down\\nNever gonna run around and desert you\\nNever gonna make you cry\\nNever gonna say goodbye\\nNever gonna tell a lie and hurt you\\n\\nWe've known each other for so long\\nYour heart's been aching but you're too shy to say it\\nInside we both know what's been going on\\nWe know the game and we're gonna play it\\nAnd if you ask me how I'm feeling\\nDon't tell me you're too blind to see\\n\\nNever gonna give you up\\nNever gonna let you down\\nNever gonna run around and desert you\\nNever gonna make you cry\\nNever gonna say goodbye\\nNever gonna tell a lie and hurt you\\n\\nNever gonna give you up\\nNever gonna let you down\\nNever gonna run around and desert you\\nNever gonna make you cry\\nNever gonna say goodbye\\nNever gonna tell a lie and hurt you\\n\\nNever gonna give, never gonna give\\n(Give you up)\\n\\nWe've known each other for so long\\nYour heart's been aching but you're too shy to say it\\nInside we both know what's been going on\\nWe know the game and we're gonna play it\\n\\nI just wanna tell you how I'm feeling\\nGotta make you understand\\n\\nNever gonna give you up\\nNever gonna let you down\\nNever gonna run around and desert you\\nNever gonna make you cry\\nNever gonna say goodbye\\nNever gonna tell a lie and hurt you\\n\\nNever gonna give you up\\nNever gonna let you down\\nNever gonna run around and desert you\\nNever gonna make you cry\\nNever gonna say goodbye\\nNever gonna tell a lie and hurt you\\n\\nNever gonna give you up\\nNever gonna let you down\\nNever gonna run around and desert you\\nNever gonna make you cry\\nNever gonna say goodbye\\n\\n\\nMan.. you really got rick rolled again? That's kinda sad.. but anyways! Have a great day.\""
            ],
            "application/vnd.google.colaboratory.intrinsic+json": {
              "type": "string"
            }
          },
          "metadata": {},
          "execution_count": 11
        }
      ]
    },
    {
      "cell_type": "markdown",
      "source": [
        "### NLP"
      ],
      "metadata": {
        "id": "L0AzgXPqId-h"
      }
    },
    {
      "cell_type": "markdown",
      "source": [
        "#### Install Libraries"
      ],
      "metadata": {
        "id": "S8uoCx8SMzCi"
      }
    },
    {
      "cell_type": "code",
      "source": [
        "pip install Unidecode"
      ],
      "metadata": {
        "colab": {
          "base_uri": "https://localhost:8080/"
        },
        "id": "s9vNdtwZQH1q",
        "outputId": "9d6bf721-fede-4716-9b6a-c496c0b1b7dc"
      },
      "execution_count": 13,
      "outputs": [
        {
          "output_type": "stream",
          "name": "stdout",
          "text": [
            "Looking in indexes: https://pypi.org/simple, https://us-python.pkg.dev/colab-wheels/public/simple/\n",
            "Collecting Unidecode\n",
            "  Downloading Unidecode-1.3.6-py3-none-any.whl (235 kB)\n",
            "\u001b[K     |████████████████████████████████| 235 kB 5.9 MB/s \n",
            "\u001b[?25hInstalling collected packages: Unidecode\n",
            "Successfully installed Unidecode-1.3.6\n"
          ]
        }
      ]
    },
    {
      "cell_type": "code",
      "source": [
        "pip install langdetect"
      ],
      "metadata": {
        "colab": {
          "base_uri": "https://localhost:8080/"
        },
        "id": "REkYtE-yBLka",
        "outputId": "461dcef7-5daf-4544-e158-7b609717aeae"
      },
      "execution_count": 12,
      "outputs": [
        {
          "output_type": "stream",
          "name": "stdout",
          "text": [
            "Looking in indexes: https://pypi.org/simple, https://us-python.pkg.dev/colab-wheels/public/simple/\n",
            "Collecting langdetect\n",
            "  Downloading langdetect-1.0.9.tar.gz (981 kB)\n",
            "\u001b[K     |████████████████████████████████| 981 kB 6.8 MB/s \n",
            "\u001b[?25hRequirement already satisfied: six in /usr/local/lib/python3.8/dist-packages (from langdetect) (1.15.0)\n",
            "Building wheels for collected packages: langdetect\n",
            "  Building wheel for langdetect (setup.py) ... \u001b[?25l\u001b[?25hdone\n",
            "  Created wheel for langdetect: filename=langdetect-1.0.9-py3-none-any.whl size=993242 sha256=2a92d45fb59479cff82894b46bb630a4b83477ec0fb565cf4196885a6abb4e89\n",
            "  Stored in directory: /root/.cache/pip/wheels/13/c7/b0/79f66658626032e78fc1a83103690ef6797d551cb22e56e734\n",
            "Successfully built langdetect\n",
            "Installing collected packages: langdetect\n",
            "Successfully installed langdetect-1.0.9\n"
          ]
        }
      ]
    },
    {
      "cell_type": "code",
      "source": [
        "pip install pycountry"
      ],
      "metadata": {
        "colab": {
          "base_uri": "https://localhost:8080/"
        },
        "id": "NNQ4fQN7thuK",
        "outputId": "bca64d76-d0c6-475d-d1be-87c7d654d28e"
      },
      "execution_count": 60,
      "outputs": [
        {
          "output_type": "stream",
          "name": "stdout",
          "text": [
            "Looking in indexes: https://pypi.org/simple, https://us-python.pkg.dev/colab-wheels/public/simple/\n",
            "Collecting pycountry\n",
            "  Downloading pycountry-22.3.5.tar.gz (10.1 MB)\n",
            "\u001b[K     |████████████████████████████████| 10.1 MB 6.8 MB/s \n",
            "\u001b[?25h  Installing build dependencies ... \u001b[?25l\u001b[?25hdone\n",
            "  Getting requirements to build wheel ... \u001b[?25l\u001b[?25hdone\n",
            "    Preparing wheel metadata ... \u001b[?25l\u001b[?25hdone\n",
            "Requirement already satisfied: setuptools in /usr/local/lib/python3.8/dist-packages (from pycountry) (57.4.0)\n",
            "Building wheels for collected packages: pycountry\n",
            "  Building wheel for pycountry (PEP 517) ... \u001b[?25l\u001b[?25hdone\n",
            "  Created wheel for pycountry: filename=pycountry-22.3.5-py2.py3-none-any.whl size=10681845 sha256=f81c66a8854e8ab224231732662df76affd5cef6f11a2542bf4e22c7d487b47f\n",
            "  Stored in directory: /root/.cache/pip/wheels/e2/aa/0f/c224e473b464387170b83ca7c66947b4a7e33e8d903a679748\n",
            "Successfully built pycountry\n",
            "Installing collected packages: pycountry\n",
            "Successfully installed pycountry-22.3.5\n"
          ]
        }
      ]
    },
    {
      "cell_type": "code",
      "source": [
        "pip install clean-text"
      ],
      "metadata": {
        "colab": {
          "base_uri": "https://localhost:8080/"
        },
        "id": "ohOw66wPNnw3",
        "outputId": "d1dae569-7884-4148-e6cd-30a453675eb2"
      },
      "execution_count": 14,
      "outputs": [
        {
          "output_type": "stream",
          "name": "stdout",
          "text": [
            "Looking in indexes: https://pypi.org/simple, https://us-python.pkg.dev/colab-wheels/public/simple/\n",
            "Collecting clean-text\n",
            "  Downloading clean_text-0.6.0-py3-none-any.whl (11 kB)\n",
            "Collecting emoji<2.0.0,>=1.0.0\n",
            "  Downloading emoji-1.7.0.tar.gz (175 kB)\n",
            "\u001b[K     |████████████████████████████████| 175 kB 6.7 MB/s \n",
            "\u001b[?25hCollecting ftfy<7.0,>=6.0\n",
            "  Downloading ftfy-6.1.1-py3-none-any.whl (53 kB)\n",
            "\u001b[K     |████████████████████████████████| 53 kB 1.8 MB/s \n",
            "\u001b[?25hRequirement already satisfied: wcwidth>=0.2.5 in /usr/local/lib/python3.8/dist-packages (from ftfy<7.0,>=6.0->clean-text) (0.2.5)\n",
            "Building wheels for collected packages: emoji\n",
            "  Building wheel for emoji (setup.py) ... \u001b[?25l\u001b[?25hdone\n",
            "  Created wheel for emoji: filename=emoji-1.7.0-py3-none-any.whl size=171046 sha256=51ddb6a865167e782cf25ef11928bc792ec6b97842b5dd124dfba1f230ee5183\n",
            "  Stored in directory: /root/.cache/pip/wheels/5e/8c/80/c3646df8201ba6f5070297fe3779a4b70265d0bfd961c15302\n",
            "Successfully built emoji\n",
            "Installing collected packages: ftfy, emoji, clean-text\n",
            "Successfully installed clean-text-0.6.0 emoji-1.7.0 ftfy-6.1.1\n"
          ]
        }
      ]
    },
    {
      "cell_type": "markdown",
      "source": [
        "#### Text Processing"
      ],
      "metadata": {
        "id": "BtgMRdJeM9ad"
      }
    },
    {
      "cell_type": "code",
      "source": [
        "from cleantext import clean\n",
        "clean_rep = []\n",
        "for items in replies:\n",
        "  # Remove extra spaces and make them lower case\n",
        "  items = items.strip().lower()\n",
        "  # Replace special emojis\n",
        "  items = items.replace('xd','').replace('<3','')\n",
        "  # Clean text from line breaks, unicodes, emojis and punctuations\n",
        "  clean_rep.append(clean(items, no_emoji=True, no_punct=True, no_line_breaks=True, fix_unicode=True))\n",
        "clean_rep"
      ],
      "metadata": {
        "colab": {
          "base_uri": "https://localhost:8080/"
        },
        "id": "WgAAyzGbQ7h-",
        "outputId": "da9cc3c5-3689-4cf8-b7f9-382681c6dbf8"
      },
      "execution_count": 45,
      "outputs": [
        {
          "output_type": "execute_result",
          "data": {
            "text/plain": [
              "['1 billion views for never gonna give you up amazing crazy wonderful rick',\n",
              " 'this isnt your first time here and you know it',\n",
              " 'vienes del rewind 2022 jkajsk',\n",
              " 'memes aside even after 13 years this song still has value and gives that early 200s and 1980s vibe back when the world was at its best',\n",
              " 'rick astley haciendose aun mas famoso gracias al rewind hispano 2022 sencillamente maravilloso edit gracias por los likes gente espero que vuestro 2023 sea prospero y mejor que este 2022',\n",
              " 'naah temardo en verdad 6025619 personas ya lo han escuchado espero que te haya gustado',\n",
              " 'this music video is still going strong',\n",
              " 'i grew up with this song since i was born i got rick rolled million of times and i still love it with all my heart ill never get tired of it',\n",
              " 'naah temardo en verdad 2100011 personas ya lo han escuchado espero que te haya gustado',\n",
              " 'even whens its 2023 thousands of people still listen to this song everydayit never gets old',\n",
              " 'honestly i love this song so whenever i get rick rolled i actually thank the person for sending it dont hate the player hate the game i dont understand why people get s were no strangers to love you know the rules and so do i a full commitments what im thinking of you wouldnt get this from any other guy i just wanna tell you how im feeling gotta make you understand never gonna give you up never gonna let you down never gonna run around and desert you never gonna make you cry never gonna say goodbye never gonna tell a lie and hurt you weve known each other for so long your hearts been aching but youre too shy to say it inside we both know whats been going on we know the game and were gonna play it and if you ask me how im feeling dont tell me youre too blind to see never gonna give you up never gonna let you down never gonna run around and desert you never gonna make you cry never gonna say goodbye never gonna tell a lie and hurt you never gonna give you up never gonna let you down never gonna run around and desert you never gonna make you cry never gonna say goodbye never gonna tell a lie and hurt you never gonna give never gonna give give you up weve known each other for so long your hearts been aching but youre too shy to say it inside we both know whats been going on we know the game and were gonna play it i just wanna tell you how im feeling gotta make you understand never gonna give you up never gonna let you down never gonna run around and desert you never gonna make you cry never gonna say goodbye never gonna tell a lie and hurt you never gonna give you up never gonna let you down never gonna run around and desert you never gonna make you cry never gonna say goodbye never gonna tell a lie and hurt you never gonna give you up never gonna let you down never gonna run around and desert you never gonna make you cry never gonna say goodbye man you really got rick rolled again thats kinda sad but anyways have a great day',\n",
              " 'sometimes you just gotta rickroll yourself because no one else will',\n",
              " 'like si vienes del rewind hispano 2022 que grandes olvidona colaborando con un grande volviendo ha hacer famoso el tema felices fiestas gente',\n",
              " 'naah temardo en verdad 8663265 personas ya lo han escuchado espero que te haya gustado',\n",
              " 'this song will always be loved even if its not a kinder egg link',\n",
              " 'definitely what brings us all here is the new year 2022 this song is now a year older this masterpiece will bring abundant joy prosperity love and blessings',\n",
              " 'keep rickrolling people till we get 1 billion views',\n",
              " 'naah temardo en verdad 2193580 personas ya lo han escuchado espero que te haya gustado',\n",
              " 'todos aqui volvemos a esta joya por el rewind hispano 2022',\n",
              " 'ended the year with a rickroll 2022 has been crazy',\n",
              " 'im singing this song for karaoke night today d btw happy new year',\n",
              " 'its come to the point that being rickrolled is a privilege',\n",
              " 'greatest music video the 90s ever saw',\n",
              " 'even on christmas i love listening to this song edit omg tysm for 100+ likes merry christmas happy new 2023 year',\n",
              " 'olvidona new fragance para dominarlas a todas',\n",
              " 'olvidona es la nueva fragancia concebida para dominarlas a todas un intenso poder de frescura mentolada estalla con la elegante lavanda un eau de parfum que despierta los sentidos la energia convertida en liquido el vigoroso pomelo y el ajenjo contrastan con las notas mas ricas y masculinas del pachuli y el cipres un final amaderado para aportar fuerza y complejidad descubra la mezcla radical de la potencia pura y la elegancia',\n",
              " 'i definitely did not just get rick rolled shut up you did cries',\n",
              " 'lpm como cai con olvidona la nueva fragancia que te hara ver elegante y tener todas las mujeres detras de ti',\n",
              " 'one of the few people to rickroll first in 2023 in the uk time i feel proud',\n",
              " 'ima be in an old folks home at 80 still grooving to this d',\n",
              " 'olvidona es la nueva fragancia concebida para dominarlas a todas un intenso poder de frescura mentolada estalla con la elegante lavanda un eau de parfum que despierta los sentidos la energia convertida en liquido el vigoroso pomelo y el ajenjo contrastan con las notas mas ricas y masculinas del pachuli y el cipres un final amaderado para aportar fuerza y complejidad descubra la mezcla radical de la potencia pura y la elegancia',\n",
              " 'we got rickrolled so many times that we dont even care anymore',\n",
              " 'once upon a time a wise man once said never gonna let you down and was true',\n",
              " 'when youtube recommends you this you know the rules and so do i',\n",
              " 'que grande olvidona colaborando con millones de visitas mas a este temazo que humildad',\n",
              " 'just rickrolled my family feeling good',\n",
              " 'i looked up this video forgot that i did clicked the tab and got rick rolled by my past self',\n",
              " 'naah temardo en verdad 21047218 personas ya lo han escuchado espero que te haya gustado',\n",
              " 'my best song',\n",
              " 'naah temardo en verdad 4127368 personas ya lo han escuchado espero que te haya gustado',\n",
              " 'olvidona la fragancia',\n",
              " 'he looks like a normal teenager but his voice kills',\n",
              " 'ill hear this forever',\n",
              " 'my life is complete when everyone on earth has clicked the rickroll link thinking its a different video',\n",
              " 'rick you are the best',\n",
              " 'this isnt your first time here and you know it',\n",
              " 'and as always this would be a rickroll and never gets old',\n",
              " 'i just got rick rolled by a youtuber and im going to make up for it by watching this music till the end',\n",
              " 'i hope that this person has no idea how famous they are because of this simple music video you rick you are the fear of everyone on discord congratulations',\n",
              " 'vengo del rewind alguien mas se veia bien la locion parecida a forever wiskounsin con feromonas de ocelote macho un solo chisguete despierta lo inesperado forever wiscounsin para el hombre sin reservas',\n",
              " 'guys last rick roll before 2023',\n",
              " 'his voice has 50 years more than him or what',\n",
              " 'the legend',\n",
              " 'yo solo queria saber donde comprar olvidona pero termine en tremendo temazo',\n",
              " 'aqui los que vienen del rewind hispano 2022 tremendo el olvidona',\n",
              " 'ya estuve aqui 8 veces hoy',\n",
              " '10 years after my first rick roll and im listening to this unironically by choice great jam',\n",
              " 'vine por el rewind hispano',\n",
              " 'abri olvidona y me rick rolearon a mi',\n",
              " 'when i was trying to watch youtube i click on this and got rickrolled',\n",
              " 'many kudos bro',\n",
              " 'when they put ads so you cant rickroll anymore',\n",
              " 'olvidona es la nueva fragancia concebida para dominarlas a todas un intenso poder de frescura mentolada estalla con la elegante lavanda un eau de parfum que despierta los sentidos la energia convertida en liquido el vigoroso pomelo y el ajenjo contrastan con las notas mas ricas y masculinas del pachuli y el cipres un final amaderado para aportar fuerza y complejidad descubra la mezcla radical de la potencia pura y la elegancia',\n",
              " 'this song is like to travel back in time on a time machine and 35 years after you get the same emotions this a pure art',\n",
              " 'que buena fragancia',\n",
              " 'alguien mas llego aqui por olvidona es la nueva fragancia concebida para dominarlas a todas un intenso poder de frescura mentolada estalla con la elegante lavanda un eau de parfum que despierta los sentidos la energia convertida en liquido el vigoroso pomelo y el ajenjo contrastan con las notas mas ricas y masculinas del pachuli y el cipres un final amaderado para aportar fuerza y complejidad descubra la mezcla radical de la potencia pura y la elegancia',\n",
              " 'i rickrolled my entire school i still smile bc of it',\n",
              " 'klassnyi muzhik privet iz rossii s borisom dzhonsonom ne sravnit',\n",
              " 'i love this',\n",
              " 'nice job rick',\n",
              " 'yo queria el perfume olvidona que es la nueva fragancia concebida para dominarlas a todas un intenso poder de frescura mentolada estalla con la elegante lavanda un eau de parfum que despierta los sentidos la energia convertida en liquido el vigoroso pomelo y el ajenjo contrastan con las notas mas ricas y masculinas del pachuli y el cipres un final amaderado para aportar fuerza y complejidad descubra la mezcla radical de la potencia pura y la elegancia',\n",
              " 'i legit got rick rolled by some graffiti and it was a qr code',\n",
              " 'gracias olvidona por recomendarme este temazo',\n",
              " 'the song is fantastic y realmente espectacular obrigado rick astley por sua musica',\n",
              " 'in 20 years and i finally hear this masterpiece again itll bring real tears to my eyes',\n",
              " 'first song i ever listen to in 2023',\n",
              " 'you know why is this possible its because we never give up and never gonna let him down',\n",
              " 'pov you just got rickroll on the first day of 2023',\n",
              " 'never gonna give you up',\n",
              " 'if you came here searching for this song in 2023 than you are a legend and if you came here because of yt recommendation than you are ultra legend',\n",
              " 'olvidona',\n",
              " 'this song will undoubtedly be a world heritage site and it will definitely take a long time to say goodbye',\n",
              " 'naah temardo en verdad 2240048 personas ya lo han escuchado espero que te haya gustado',\n",
              " 'kakaia zhe shikarnaia pesniaastrakhan 2023 god 1 ianvaria 0422 i ia slushaiu etu pesniu deti spiatzhena smotrit telefona ia kaifuiu ot etoi pesni',\n",
              " 'fui rickroleado por el rewind de 2022',\n",
              " 'rick we love u',\n",
              " 'this is a historic achievement it was worth it',\n",
              " 'i saw you in concert and believe it or not i saw the entire show i had no idea that you were also a talented drummer my favorite is when you covered the acdc song i believe it was highway to hell while this is your best song you put on a great show and you still have it going on my friend even bought one of your shirts i hope to see you again when you come back to maryland thats awesome that youre on youtube',\n",
              " 'naah temardo en verdad 2244971 personas ya lo han escuchado espero que te haya gustado',\n",
              " 'i willl play this very loud when the year turns eheheheheheh',\n",
              " 'naah temardo en verdad 22230807 personas ya lo han escuchado espero que te haya gustado',\n",
              " 'imagine if rick astley him self made up the rick roll as a way to get more people to listen to it and that ended up becoming one of the most popular pranks of the century',\n",
              " 'olvidona vine buscando cobre y encontre oro que tema tan buenardo jajaajaja',\n",
              " 'imagine playing the song really loud while everyone is sleeping best rickroll idea ever',\n",
              " 'this isnt just a meme it is the best song from the 80s thank you rick',\n",
              " 'one hour and 20 minutes to the new year',\n",
              " 'i got rick rolled so many times that i memorized the whole link',\n",
              " 'epicness',\n",
              " 'help i just got rickrolled for the first time this year',\n",
              " 'i just wanna tell you how am feeling never gonna fail to have this song in my classic playlist']"
            ]
          },
          "metadata": {},
          "execution_count": 45
        }
      ]
    },
    {
      "cell_type": "code",
      "source": [
        "from langdetect import detect\n",
        "lan_profile={items : detect(items) for items in clean_rep}\n",
        "lan_profile"
      ],
      "metadata": {
        "id": "pjeWOlFuMyAm",
        "colab": {
          "base_uri": "https://localhost:8080/"
        },
        "outputId": "8ce5df78-f5c0-4784-8e71-9d35e036736f"
      },
      "execution_count": 101,
      "outputs": [
        {
          "output_type": "execute_result",
          "data": {
            "text/plain": [
              "{'1 billion views for never gonna give you up amazing crazy wonderful rick': 'en',\n",
              " 'this isnt your first time here and you know it': 'en',\n",
              " 'vienes del rewind 2022 jkajsk': 'af',\n",
              " 'memes aside even after 13 years this song still has value and gives that early 200s and 1980s vibe back when the world was at its best': 'en',\n",
              " 'rick astley haciendose aun mas famoso gracias al rewind hispano 2022 sencillamente maravilloso edit gracias por los likes gente espero que vuestro 2023 sea prospero y mejor que este 2022': 'es',\n",
              " 'naah temardo en verdad 6025619 personas ya lo han escuchado espero que te haya gustado': 'es',\n",
              " 'this music video is still going strong': 'en',\n",
              " 'i grew up with this song since i was born i got rick rolled million of times and i still love it with all my heart ill never get tired of it': 'en',\n",
              " 'naah temardo en verdad 2100011 personas ya lo han escuchado espero que te haya gustado': 'es',\n",
              " 'even whens its 2023 thousands of people still listen to this song everydayit never gets old': 'en',\n",
              " 'honestly i love this song so whenever i get rick rolled i actually thank the person for sending it dont hate the player hate the game i dont understand why people get s were no strangers to love you know the rules and so do i a full commitments what im thinking of you wouldnt get this from any other guy i just wanna tell you how im feeling gotta make you understand never gonna give you up never gonna let you down never gonna run around and desert you never gonna make you cry never gonna say goodbye never gonna tell a lie and hurt you weve known each other for so long your hearts been aching but youre too shy to say it inside we both know whats been going on we know the game and were gonna play it and if you ask me how im feeling dont tell me youre too blind to see never gonna give you up never gonna let you down never gonna run around and desert you never gonna make you cry never gonna say goodbye never gonna tell a lie and hurt you never gonna give you up never gonna let you down never gonna run around and desert you never gonna make you cry never gonna say goodbye never gonna tell a lie and hurt you never gonna give never gonna give give you up weve known each other for so long your hearts been aching but youre too shy to say it inside we both know whats been going on we know the game and were gonna play it i just wanna tell you how im feeling gotta make you understand never gonna give you up never gonna let you down never gonna run around and desert you never gonna make you cry never gonna say goodbye never gonna tell a lie and hurt you never gonna give you up never gonna let you down never gonna run around and desert you never gonna make you cry never gonna say goodbye never gonna tell a lie and hurt you never gonna give you up never gonna let you down never gonna run around and desert you never gonna make you cry never gonna say goodbye man you really got rick rolled again thats kinda sad but anyways have a great day': 'en',\n",
              " 'sometimes you just gotta rickroll yourself because no one else will': 'en',\n",
              " 'like si vienes del rewind hispano 2022 que grandes olvidona colaborando con un grande volviendo ha hacer famoso el tema felices fiestas gente': 'es',\n",
              " 'naah temardo en verdad 8663265 personas ya lo han escuchado espero que te haya gustado': 'es',\n",
              " 'this song will always be loved even if its not a kinder egg link': 'en',\n",
              " 'definitely what brings us all here is the new year 2022 this song is now a year older this masterpiece will bring abundant joy prosperity love and blessings': 'en',\n",
              " 'keep rickrolling people till we get 1 billion views': 'af',\n",
              " 'naah temardo en verdad 2193580 personas ya lo han escuchado espero que te haya gustado': 'es',\n",
              " 'todos aqui volvemos a esta joya por el rewind hispano 2022': 'pt',\n",
              " 'ended the year with a rickroll 2022 has been crazy': 'en',\n",
              " 'im singing this song for karaoke night today d btw happy new year': 'en',\n",
              " 'its come to the point that being rickrolled is a privilege': 'en',\n",
              " 'greatest music video the 90s ever saw': 'en',\n",
              " 'even on christmas i love listening to this song edit omg tysm for 100+ likes merry christmas happy new 2023 year': 'en',\n",
              " 'olvidona new fragance para dominarlas a todas': 'pt',\n",
              " 'olvidona es la nueva fragancia concebida para dominarlas a todas un intenso poder de frescura mentolada estalla con la elegante lavanda un eau de parfum que despierta los sentidos la energia convertida en liquido el vigoroso pomelo y el ajenjo contrastan con las notas mas ricas y masculinas del pachuli y el cipres un final amaderado para aportar fuerza y complejidad descubra la mezcla radical de la potencia pura y la elegancia': 'es',\n",
              " 'i definitely did not just get rick rolled shut up you did cries': 'en',\n",
              " 'lpm como cai con olvidona la nueva fragancia que te hara ver elegante y tener todas las mujeres detras de ti': 'es',\n",
              " 'one of the few people to rickroll first in 2023 in the uk time i feel proud': 'en',\n",
              " 'ima be in an old folks home at 80 still grooving to this d': 'en',\n",
              " 'we got rickrolled so many times that we dont even care anymore': 'en',\n",
              " 'once upon a time a wise man once said never gonna let you down and was true': 'en',\n",
              " 'when youtube recommends you this you know the rules and so do i': 'en',\n",
              " 'que grande olvidona colaborando con millones de visitas mas a este temazo que humildad': 'es',\n",
              " 'just rickrolled my family feeling good': 'en',\n",
              " 'i looked up this video forgot that i did clicked the tab and got rick rolled by my past self': 'en',\n",
              " 'naah temardo en verdad 21047218 personas ya lo han escuchado espero que te haya gustado': 'es',\n",
              " 'my best song': 'no',\n",
              " 'naah temardo en verdad 4127368 personas ya lo han escuchado espero que te haya gustado': 'es',\n",
              " 'olvidona la fragancia': 'es',\n",
              " 'he looks like a normal teenager but his voice kills': 'en',\n",
              " 'ill hear this forever': 'en',\n",
              " 'my life is complete when everyone on earth has clicked the rickroll link thinking its a different video': 'en',\n",
              " 'rick you are the best': 'en',\n",
              " 'and as always this would be a rickroll and never gets old': 'en',\n",
              " 'i just got rick rolled by a youtuber and im going to make up for it by watching this music till the end': 'en',\n",
              " 'i hope that this person has no idea how famous they are because of this simple music video you rick you are the fear of everyone on discord congratulations': 'en',\n",
              " 'vengo del rewind alguien mas se veia bien la locion parecida a forever wiskounsin con feromonas de ocelote macho un solo chisguete despierta lo inesperado forever wiscounsin para el hombre sin reservas': 'es',\n",
              " 'guys last rick roll before 2023': 'en',\n",
              " 'his voice has 50 years more than him or what': 'en',\n",
              " 'the legend': 'en',\n",
              " 'yo solo queria saber donde comprar olvidona pero termine en tremendo temazo': 'es',\n",
              " 'aqui los que vienen del rewind hispano 2022 tremendo el olvidona': 'es',\n",
              " 'ya estuve aqui 8 veces hoy': 'fr',\n",
              " '10 years after my first rick roll and im listening to this unironically by choice great jam': 'en',\n",
              " 'vine por el rewind hispano': 'en',\n",
              " 'abri olvidona y me rick rolearon a mi': 'es',\n",
              " 'when i was trying to watch youtube i click on this and got rickrolled': 'en',\n",
              " 'many kudos bro': 'pl',\n",
              " 'when they put ads so you cant rickroll anymore': 'en',\n",
              " 'this song is like to travel back in time on a time machine and 35 years after you get the same emotions this a pure art': 'en',\n",
              " 'que buena fragancia': 'es',\n",
              " 'alguien mas llego aqui por olvidona es la nueva fragancia concebida para dominarlas a todas un intenso poder de frescura mentolada estalla con la elegante lavanda un eau de parfum que despierta los sentidos la energia convertida en liquido el vigoroso pomelo y el ajenjo contrastan con las notas mas ricas y masculinas del pachuli y el cipres un final amaderado para aportar fuerza y complejidad descubra la mezcla radical de la potencia pura y la elegancia': 'es',\n",
              " 'i rickrolled my entire school i still smile bc of it': 'en',\n",
              " 'klassnyi muzhik privet iz rossii s borisom dzhonsonom ne sravnit': 'sl',\n",
              " 'i love this': 'en',\n",
              " 'nice job rick': 'sk',\n",
              " 'yo queria el perfume olvidona que es la nueva fragancia concebida para dominarlas a todas un intenso poder de frescura mentolada estalla con la elegante lavanda un eau de parfum que despierta los sentidos la energia convertida en liquido el vigoroso pomelo y el ajenjo contrastan con las notas mas ricas y masculinas del pachuli y el cipres un final amaderado para aportar fuerza y complejidad descubra la mezcla radical de la potencia pura y la elegancia': 'es',\n",
              " 'i legit got rick rolled by some graffiti and it was a qr code': 'en',\n",
              " 'gracias olvidona por recomendarme este temazo': 'pt',\n",
              " 'the song is fantastic y realmente espectacular obrigado rick astley por sua musica': 'es',\n",
              " 'in 20 years and i finally hear this masterpiece again itll bring real tears to my eyes': 'en',\n",
              " 'first song i ever listen to in 2023': 'no',\n",
              " 'you know why is this possible its because we never give up and never gonna let him down': 'en',\n",
              " 'pov you just got rickroll on the first day of 2023': 'en',\n",
              " 'never gonna give you up': 'hr',\n",
              " 'if you came here searching for this song in 2023 than you are a legend and if you came here because of yt recommendation than you are ultra legend': 'en',\n",
              " 'olvidona': 'pt',\n",
              " 'this song will undoubtedly be a world heritage site and it will definitely take a long time to say goodbye': 'en',\n",
              " 'naah temardo en verdad 2240048 personas ya lo han escuchado espero que te haya gustado': 'es',\n",
              " 'kakaia zhe shikarnaia pesniaastrakhan 2023 god 1 ianvaria 0422 i ia slushaiu etu pesniu deti spiatzhena smotrit telefona ia kaifuiu ot etoi pesni': 'et',\n",
              " 'fui rickroleado por el rewind de 2022': 'es',\n",
              " 'rick we love u': 'en',\n",
              " 'this is a historic achievement it was worth it': 'en',\n",
              " 'i saw you in concert and believe it or not i saw the entire show i had no idea that you were also a talented drummer my favorite is when you covered the acdc song i believe it was highway to hell while this is your best song you put on a great show and you still have it going on my friend even bought one of your shirts i hope to see you again when you come back to maryland thats awesome that youre on youtube': 'en',\n",
              " 'naah temardo en verdad 2244971 personas ya lo han escuchado espero que te haya gustado': 'es',\n",
              " 'i willl play this very loud when the year turns eheheheheheh': 'en',\n",
              " 'naah temardo en verdad 22230807 personas ya lo han escuchado espero que te haya gustado': 'es',\n",
              " 'imagine if rick astley him self made up the rick roll as a way to get more people to listen to it and that ended up becoming one of the most popular pranks of the century': 'en',\n",
              " 'olvidona vine buscando cobre y encontre oro que tema tan buenardo jajaajaja': 'es',\n",
              " 'imagine playing the song really loud while everyone is sleeping best rickroll idea ever': 'en',\n",
              " 'this isnt just a meme it is the best song from the 80s thank you rick': 'en',\n",
              " 'one hour and 20 minutes to the new year': 'en',\n",
              " 'i got rick rolled so many times that i memorized the whole link': 'en',\n",
              " 'epicness': 'ca',\n",
              " 'help i just got rickrolled for the first time this year': 'en',\n",
              " 'i just wanna tell you how am feeling never gonna fail to have this song in my classic playlist': 'en'}"
            ]
          },
          "metadata": {},
          "execution_count": 101
        }
      ]
    },
    {
      "cell_type": "code",
      "source": [
        "import pycountry\n",
        "# for key,value in lan_profile.items():\n",
        "lan_profile = {key: pycountry.languages.get(alpha_2=value).name for (key,value) in lan_profile.items()}"
      ],
      "metadata": {
        "id": "EotEzuxJt5Zi"
      },
      "execution_count": 102,
      "outputs": []
    },
    {
      "cell_type": "code",
      "source": [
        "lan_profile\n"
      ],
      "metadata": {
        "colab": {
          "base_uri": "https://localhost:8080/"
        },
        "id": "cJnQvIUnvD2k",
        "outputId": "ea13b0b5-41e4-440a-d5b2-6157f2a0a7a1"
      },
      "execution_count": 103,
      "outputs": [
        {
          "output_type": "execute_result",
          "data": {
            "text/plain": [
              "{'1 billion views for never gonna give you up amazing crazy wonderful rick': 'English',\n",
              " 'this isnt your first time here and you know it': 'English',\n",
              " 'vienes del rewind 2022 jkajsk': 'Afrikaans',\n",
              " 'memes aside even after 13 years this song still has value and gives that early 200s and 1980s vibe back when the world was at its best': 'English',\n",
              " 'rick astley haciendose aun mas famoso gracias al rewind hispano 2022 sencillamente maravilloso edit gracias por los likes gente espero que vuestro 2023 sea prospero y mejor que este 2022': 'Spanish',\n",
              " 'naah temardo en verdad 6025619 personas ya lo han escuchado espero que te haya gustado': 'Spanish',\n",
              " 'this music video is still going strong': 'English',\n",
              " 'i grew up with this song since i was born i got rick rolled million of times and i still love it with all my heart ill never get tired of it': 'English',\n",
              " 'naah temardo en verdad 2100011 personas ya lo han escuchado espero que te haya gustado': 'Spanish',\n",
              " 'even whens its 2023 thousands of people still listen to this song everydayit never gets old': 'English',\n",
              " 'honestly i love this song so whenever i get rick rolled i actually thank the person for sending it dont hate the player hate the game i dont understand why people get s were no strangers to love you know the rules and so do i a full commitments what im thinking of you wouldnt get this from any other guy i just wanna tell you how im feeling gotta make you understand never gonna give you up never gonna let you down never gonna run around and desert you never gonna make you cry never gonna say goodbye never gonna tell a lie and hurt you weve known each other for so long your hearts been aching but youre too shy to say it inside we both know whats been going on we know the game and were gonna play it and if you ask me how im feeling dont tell me youre too blind to see never gonna give you up never gonna let you down never gonna run around and desert you never gonna make you cry never gonna say goodbye never gonna tell a lie and hurt you never gonna give you up never gonna let you down never gonna run around and desert you never gonna make you cry never gonna say goodbye never gonna tell a lie and hurt you never gonna give never gonna give give you up weve known each other for so long your hearts been aching but youre too shy to say it inside we both know whats been going on we know the game and were gonna play it i just wanna tell you how im feeling gotta make you understand never gonna give you up never gonna let you down never gonna run around and desert you never gonna make you cry never gonna say goodbye never gonna tell a lie and hurt you never gonna give you up never gonna let you down never gonna run around and desert you never gonna make you cry never gonna say goodbye never gonna tell a lie and hurt you never gonna give you up never gonna let you down never gonna run around and desert you never gonna make you cry never gonna say goodbye man you really got rick rolled again thats kinda sad but anyways have a great day': 'English',\n",
              " 'sometimes you just gotta rickroll yourself because no one else will': 'English',\n",
              " 'like si vienes del rewind hispano 2022 que grandes olvidona colaborando con un grande volviendo ha hacer famoso el tema felices fiestas gente': 'Spanish',\n",
              " 'naah temardo en verdad 8663265 personas ya lo han escuchado espero que te haya gustado': 'Spanish',\n",
              " 'this song will always be loved even if its not a kinder egg link': 'English',\n",
              " 'definitely what brings us all here is the new year 2022 this song is now a year older this masterpiece will bring abundant joy prosperity love and blessings': 'English',\n",
              " 'keep rickrolling people till we get 1 billion views': 'Afrikaans',\n",
              " 'naah temardo en verdad 2193580 personas ya lo han escuchado espero que te haya gustado': 'Spanish',\n",
              " 'todos aqui volvemos a esta joya por el rewind hispano 2022': 'Portuguese',\n",
              " 'ended the year with a rickroll 2022 has been crazy': 'English',\n",
              " 'im singing this song for karaoke night today d btw happy new year': 'English',\n",
              " 'its come to the point that being rickrolled is a privilege': 'English',\n",
              " 'greatest music video the 90s ever saw': 'English',\n",
              " 'even on christmas i love listening to this song edit omg tysm for 100+ likes merry christmas happy new 2023 year': 'English',\n",
              " 'olvidona new fragance para dominarlas a todas': 'Portuguese',\n",
              " 'olvidona es la nueva fragancia concebida para dominarlas a todas un intenso poder de frescura mentolada estalla con la elegante lavanda un eau de parfum que despierta los sentidos la energia convertida en liquido el vigoroso pomelo y el ajenjo contrastan con las notas mas ricas y masculinas del pachuli y el cipres un final amaderado para aportar fuerza y complejidad descubra la mezcla radical de la potencia pura y la elegancia': 'Spanish',\n",
              " 'i definitely did not just get rick rolled shut up you did cries': 'English',\n",
              " 'lpm como cai con olvidona la nueva fragancia que te hara ver elegante y tener todas las mujeres detras de ti': 'Spanish',\n",
              " 'one of the few people to rickroll first in 2023 in the uk time i feel proud': 'English',\n",
              " 'ima be in an old folks home at 80 still grooving to this d': 'English',\n",
              " 'we got rickrolled so many times that we dont even care anymore': 'English',\n",
              " 'once upon a time a wise man once said never gonna let you down and was true': 'English',\n",
              " 'when youtube recommends you this you know the rules and so do i': 'English',\n",
              " 'que grande olvidona colaborando con millones de visitas mas a este temazo que humildad': 'Spanish',\n",
              " 'just rickrolled my family feeling good': 'English',\n",
              " 'i looked up this video forgot that i did clicked the tab and got rick rolled by my past self': 'English',\n",
              " 'naah temardo en verdad 21047218 personas ya lo han escuchado espero que te haya gustado': 'Spanish',\n",
              " 'my best song': 'Norwegian',\n",
              " 'naah temardo en verdad 4127368 personas ya lo han escuchado espero que te haya gustado': 'Spanish',\n",
              " 'olvidona la fragancia': 'Spanish',\n",
              " 'he looks like a normal teenager but his voice kills': 'English',\n",
              " 'ill hear this forever': 'English',\n",
              " 'my life is complete when everyone on earth has clicked the rickroll link thinking its a different video': 'English',\n",
              " 'rick you are the best': 'English',\n",
              " 'and as always this would be a rickroll and never gets old': 'English',\n",
              " 'i just got rick rolled by a youtuber and im going to make up for it by watching this music till the end': 'English',\n",
              " 'i hope that this person has no idea how famous they are because of this simple music video you rick you are the fear of everyone on discord congratulations': 'English',\n",
              " 'vengo del rewind alguien mas se veia bien la locion parecida a forever wiskounsin con feromonas de ocelote macho un solo chisguete despierta lo inesperado forever wiscounsin para el hombre sin reservas': 'Spanish',\n",
              " 'guys last rick roll before 2023': 'English',\n",
              " 'his voice has 50 years more than him or what': 'English',\n",
              " 'the legend': 'English',\n",
              " 'yo solo queria saber donde comprar olvidona pero termine en tremendo temazo': 'Spanish',\n",
              " 'aqui los que vienen del rewind hispano 2022 tremendo el olvidona': 'Spanish',\n",
              " 'ya estuve aqui 8 veces hoy': 'French',\n",
              " '10 years after my first rick roll and im listening to this unironically by choice great jam': 'English',\n",
              " 'vine por el rewind hispano': 'English',\n",
              " 'abri olvidona y me rick rolearon a mi': 'Spanish',\n",
              " 'when i was trying to watch youtube i click on this and got rickrolled': 'English',\n",
              " 'many kudos bro': 'Polish',\n",
              " 'when they put ads so you cant rickroll anymore': 'English',\n",
              " 'this song is like to travel back in time on a time machine and 35 years after you get the same emotions this a pure art': 'English',\n",
              " 'que buena fragancia': 'Spanish',\n",
              " 'alguien mas llego aqui por olvidona es la nueva fragancia concebida para dominarlas a todas un intenso poder de frescura mentolada estalla con la elegante lavanda un eau de parfum que despierta los sentidos la energia convertida en liquido el vigoroso pomelo y el ajenjo contrastan con las notas mas ricas y masculinas del pachuli y el cipres un final amaderado para aportar fuerza y complejidad descubra la mezcla radical de la potencia pura y la elegancia': 'Spanish',\n",
              " 'i rickrolled my entire school i still smile bc of it': 'English',\n",
              " 'klassnyi muzhik privet iz rossii s borisom dzhonsonom ne sravnit': 'Slovenian',\n",
              " 'i love this': 'English',\n",
              " 'nice job rick': 'Slovak',\n",
              " 'yo queria el perfume olvidona que es la nueva fragancia concebida para dominarlas a todas un intenso poder de frescura mentolada estalla con la elegante lavanda un eau de parfum que despierta los sentidos la energia convertida en liquido el vigoroso pomelo y el ajenjo contrastan con las notas mas ricas y masculinas del pachuli y el cipres un final amaderado para aportar fuerza y complejidad descubra la mezcla radical de la potencia pura y la elegancia': 'Spanish',\n",
              " 'i legit got rick rolled by some graffiti and it was a qr code': 'English',\n",
              " 'gracias olvidona por recomendarme este temazo': 'Portuguese',\n",
              " 'the song is fantastic y realmente espectacular obrigado rick astley por sua musica': 'Spanish',\n",
              " 'in 20 years and i finally hear this masterpiece again itll bring real tears to my eyes': 'English',\n",
              " 'first song i ever listen to in 2023': 'Norwegian',\n",
              " 'you know why is this possible its because we never give up and never gonna let him down': 'English',\n",
              " 'pov you just got rickroll on the first day of 2023': 'English',\n",
              " 'never gonna give you up': 'Croatian',\n",
              " 'if you came here searching for this song in 2023 than you are a legend and if you came here because of yt recommendation than you are ultra legend': 'English',\n",
              " 'olvidona': 'Portuguese',\n",
              " 'this song will undoubtedly be a world heritage site and it will definitely take a long time to say goodbye': 'English',\n",
              " 'naah temardo en verdad 2240048 personas ya lo han escuchado espero que te haya gustado': 'Spanish',\n",
              " 'kakaia zhe shikarnaia pesniaastrakhan 2023 god 1 ianvaria 0422 i ia slushaiu etu pesniu deti spiatzhena smotrit telefona ia kaifuiu ot etoi pesni': 'Estonian',\n",
              " 'fui rickroleado por el rewind de 2022': 'Spanish',\n",
              " 'rick we love u': 'English',\n",
              " 'this is a historic achievement it was worth it': 'English',\n",
              " 'i saw you in concert and believe it or not i saw the entire show i had no idea that you were also a talented drummer my favorite is when you covered the acdc song i believe it was highway to hell while this is your best song you put on a great show and you still have it going on my friend even bought one of your shirts i hope to see you again when you come back to maryland thats awesome that youre on youtube': 'English',\n",
              " 'naah temardo en verdad 2244971 personas ya lo han escuchado espero que te haya gustado': 'Spanish',\n",
              " 'i willl play this very loud when the year turns eheheheheheh': 'English',\n",
              " 'naah temardo en verdad 22230807 personas ya lo han escuchado espero que te haya gustado': 'Spanish',\n",
              " 'imagine if rick astley him self made up the rick roll as a way to get more people to listen to it and that ended up becoming one of the most popular pranks of the century': 'English',\n",
              " 'olvidona vine buscando cobre y encontre oro que tema tan buenardo jajaajaja': 'Spanish',\n",
              " 'imagine playing the song really loud while everyone is sleeping best rickroll idea ever': 'English',\n",
              " 'this isnt just a meme it is the best song from the 80s thank you rick': 'English',\n",
              " 'one hour and 20 minutes to the new year': 'English',\n",
              " 'i got rick rolled so many times that i memorized the whole link': 'English',\n",
              " 'epicness': 'Catalan',\n",
              " 'help i just got rickrolled for the first time this year': 'English',\n",
              " 'i just wanna tell you how am feeling never gonna fail to have this song in my classic playlist': 'English'}"
            ]
          },
          "metadata": {},
          "execution_count": 103
        }
      ]
    },
    {
      "cell_type": "code",
      "source": [
        "import pandas as pd\n",
        "df_lang = pd.DataFrame.from_dict(lan_profile, orient='index')"
      ],
      "metadata": {
        "id": "wmsUVSu0-T1M"
      },
      "execution_count": 104,
      "outputs": []
    },
    {
      "cell_type": "code",
      "source": [
        "df_lang.reset_index(inplace=True)\n",
        "df_lang.columns=['comments','language']"
      ],
      "metadata": {
        "id": "elSNr5tXKA2N"
      },
      "execution_count": 105,
      "outputs": []
    },
    {
      "cell_type": "code",
      "source": [
        "df_lang"
      ],
      "metadata": {
        "colab": {
          "base_uri": "https://localhost:8080/",
          "height": 424
        },
        "id": "0kD4oUeZk53C",
        "outputId": "cb792a3e-1253-495f-9bef-a7058654661d"
      },
      "execution_count": 106,
      "outputs": [
        {
          "output_type": "execute_result",
          "data": {
            "text/plain": [
              "                                             comments   language\n",
              "0   1 billion views for never gonna give you up am...    English\n",
              "1      this isnt your first time here and you know it    English\n",
              "2                       vienes del rewind 2022 jkajsk  Afrikaans\n",
              "3   memes aside even after 13 years this song stil...    English\n",
              "4   rick astley haciendose aun mas famoso gracias ...    Spanish\n",
              "..                                                ...        ...\n",
              "92            one hour and 20 minutes to the new year    English\n",
              "93  i got rick rolled so many times that i memoriz...    English\n",
              "94                                           epicness    Catalan\n",
              "95  help i just got rickrolled for the first time ...    English\n",
              "96  i just wanna tell you how am feeling never gon...    English\n",
              "\n",
              "[97 rows x 2 columns]"
            ],
            "text/html": [
              "\n",
              "  <div id=\"df-e2cc9a89-5a64-4d63-99c6-3d2a73bb8918\">\n",
              "    <div class=\"colab-df-container\">\n",
              "      <div>\n",
              "<style scoped>\n",
              "    .dataframe tbody tr th:only-of-type {\n",
              "        vertical-align: middle;\n",
              "    }\n",
              "\n",
              "    .dataframe tbody tr th {\n",
              "        vertical-align: top;\n",
              "    }\n",
              "\n",
              "    .dataframe thead th {\n",
              "        text-align: right;\n",
              "    }\n",
              "</style>\n",
              "<table border=\"1\" class=\"dataframe\">\n",
              "  <thead>\n",
              "    <tr style=\"text-align: right;\">\n",
              "      <th></th>\n",
              "      <th>comments</th>\n",
              "      <th>language</th>\n",
              "    </tr>\n",
              "  </thead>\n",
              "  <tbody>\n",
              "    <tr>\n",
              "      <th>0</th>\n",
              "      <td>1 billion views for never gonna give you up am...</td>\n",
              "      <td>English</td>\n",
              "    </tr>\n",
              "    <tr>\n",
              "      <th>1</th>\n",
              "      <td>this isnt your first time here and you know it</td>\n",
              "      <td>English</td>\n",
              "    </tr>\n",
              "    <tr>\n",
              "      <th>2</th>\n",
              "      <td>vienes del rewind 2022 jkajsk</td>\n",
              "      <td>Afrikaans</td>\n",
              "    </tr>\n",
              "    <tr>\n",
              "      <th>3</th>\n",
              "      <td>memes aside even after 13 years this song stil...</td>\n",
              "      <td>English</td>\n",
              "    </tr>\n",
              "    <tr>\n",
              "      <th>4</th>\n",
              "      <td>rick astley haciendose aun mas famoso gracias ...</td>\n",
              "      <td>Spanish</td>\n",
              "    </tr>\n",
              "    <tr>\n",
              "      <th>...</th>\n",
              "      <td>...</td>\n",
              "      <td>...</td>\n",
              "    </tr>\n",
              "    <tr>\n",
              "      <th>92</th>\n",
              "      <td>one hour and 20 minutes to the new year</td>\n",
              "      <td>English</td>\n",
              "    </tr>\n",
              "    <tr>\n",
              "      <th>93</th>\n",
              "      <td>i got rick rolled so many times that i memoriz...</td>\n",
              "      <td>English</td>\n",
              "    </tr>\n",
              "    <tr>\n",
              "      <th>94</th>\n",
              "      <td>epicness</td>\n",
              "      <td>Catalan</td>\n",
              "    </tr>\n",
              "    <tr>\n",
              "      <th>95</th>\n",
              "      <td>help i just got rickrolled for the first time ...</td>\n",
              "      <td>English</td>\n",
              "    </tr>\n",
              "    <tr>\n",
              "      <th>96</th>\n",
              "      <td>i just wanna tell you how am feeling never gon...</td>\n",
              "      <td>English</td>\n",
              "    </tr>\n",
              "  </tbody>\n",
              "</table>\n",
              "<p>97 rows × 2 columns</p>\n",
              "</div>\n",
              "      <button class=\"colab-df-convert\" onclick=\"convertToInteractive('df-e2cc9a89-5a64-4d63-99c6-3d2a73bb8918')\"\n",
              "              title=\"Convert this dataframe to an interactive table.\"\n",
              "              style=\"display:none;\">\n",
              "        \n",
              "  <svg xmlns=\"http://www.w3.org/2000/svg\" height=\"24px\"viewBox=\"0 0 24 24\"\n",
              "       width=\"24px\">\n",
              "    <path d=\"M0 0h24v24H0V0z\" fill=\"none\"/>\n",
              "    <path d=\"M18.56 5.44l.94 2.06.94-2.06 2.06-.94-2.06-.94-.94-2.06-.94 2.06-2.06.94zm-11 1L8.5 8.5l.94-2.06 2.06-.94-2.06-.94L8.5 2.5l-.94 2.06-2.06.94zm10 10l.94 2.06.94-2.06 2.06-.94-2.06-.94-.94-2.06-.94 2.06-2.06.94z\"/><path d=\"M17.41 7.96l-1.37-1.37c-.4-.4-.92-.59-1.43-.59-.52 0-1.04.2-1.43.59L10.3 9.45l-7.72 7.72c-.78.78-.78 2.05 0 2.83L4 21.41c.39.39.9.59 1.41.59.51 0 1.02-.2 1.41-.59l7.78-7.78 2.81-2.81c.8-.78.8-2.07 0-2.86zM5.41 20L4 18.59l7.72-7.72 1.47 1.35L5.41 20z\"/>\n",
              "  </svg>\n",
              "      </button>\n",
              "      \n",
              "  <style>\n",
              "    .colab-df-container {\n",
              "      display:flex;\n",
              "      flex-wrap:wrap;\n",
              "      gap: 12px;\n",
              "    }\n",
              "\n",
              "    .colab-df-convert {\n",
              "      background-color: #E8F0FE;\n",
              "      border: none;\n",
              "      border-radius: 50%;\n",
              "      cursor: pointer;\n",
              "      display: none;\n",
              "      fill: #1967D2;\n",
              "      height: 32px;\n",
              "      padding: 0 0 0 0;\n",
              "      width: 32px;\n",
              "    }\n",
              "\n",
              "    .colab-df-convert:hover {\n",
              "      background-color: #E2EBFA;\n",
              "      box-shadow: 0px 1px 2px rgba(60, 64, 67, 0.3), 0px 1px 3px 1px rgba(60, 64, 67, 0.15);\n",
              "      fill: #174EA6;\n",
              "    }\n",
              "\n",
              "    [theme=dark] .colab-df-convert {\n",
              "      background-color: #3B4455;\n",
              "      fill: #D2E3FC;\n",
              "    }\n",
              "\n",
              "    [theme=dark] .colab-df-convert:hover {\n",
              "      background-color: #434B5C;\n",
              "      box-shadow: 0px 1px 3px 1px rgba(0, 0, 0, 0.15);\n",
              "      filter: drop-shadow(0px 1px 2px rgba(0, 0, 0, 0.3));\n",
              "      fill: #FFFFFF;\n",
              "    }\n",
              "  </style>\n",
              "\n",
              "      <script>\n",
              "        const buttonEl =\n",
              "          document.querySelector('#df-e2cc9a89-5a64-4d63-99c6-3d2a73bb8918 button.colab-df-convert');\n",
              "        buttonEl.style.display =\n",
              "          google.colab.kernel.accessAllowed ? 'block' : 'none';\n",
              "\n",
              "        async function convertToInteractive(key) {\n",
              "          const element = document.querySelector('#df-e2cc9a89-5a64-4d63-99c6-3d2a73bb8918');\n",
              "          const dataTable =\n",
              "            await google.colab.kernel.invokeFunction('convertToInteractive',\n",
              "                                                     [key], {});\n",
              "          if (!dataTable) return;\n",
              "\n",
              "          const docLinkHtml = 'Like what you see? Visit the ' +\n",
              "            '<a target=\"_blank\" href=https://colab.research.google.com/notebooks/data_table.ipynb>data table notebook</a>'\n",
              "            + ' to learn more about interactive tables.';\n",
              "          element.innerHTML = '';\n",
              "          dataTable['output_type'] = 'display_data';\n",
              "          await google.colab.output.renderOutput(dataTable, element);\n",
              "          const docLink = document.createElement('div');\n",
              "          docLink.innerHTML = docLinkHtml;\n",
              "          element.appendChild(docLink);\n",
              "        }\n",
              "      </script>\n",
              "    </div>\n",
              "  </div>\n",
              "  "
            ]
          },
          "metadata": {},
          "execution_count": 106
        }
      ]
    },
    {
      "cell_type": "code",
      "source": [],
      "metadata": {
        "id": "te0Dw0agk7h2"
      },
      "execution_count": null,
      "outputs": []
    }
  ]
}