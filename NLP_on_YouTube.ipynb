{
  "nbformat": 4,
  "nbformat_minor": 0,
  "metadata": {
    "colab": {
      "provenance": [],
      "authorship_tag": "ABX9TyP2pijxToBTV0yrHIZHkZX5"
    },
    "kernelspec": {
      "name": "python3",
      "display_name": "Python 3"
    },
    "language_info": {
      "name": "python"
    }
  },
  "cells": [
    {
      "cell_type": "markdown",
      "source": [
        "# YouTube NLP"
      ],
      "metadata": {
        "id": "oyWNPLCREeBm"
      }
    },
    {
      "cell_type": "markdown",
      "source": [
        "## Ingesting Comments from the YouTube Video"
      ],
      "metadata": {
        "id": "wyBnA3NgEi0W"
      }
    },
    {
      "cell_type": "code",
      "source": [
        "api_key = ''"
      ],
      "metadata": {
        "id": "ub2kJ5eEF0xF"
      },
      "execution_count": 1,
      "outputs": []
    },
    {
      "cell_type": "code",
      "execution_count": 2,
      "metadata": {
        "id": "bcsli4zgbOaK"
      },
      "outputs": [],
      "source": [
        "from googleapiclient.discovery import build\n",
        "\n",
        "# The string after v=? in the url\n",
        "video_id = \"dQw4w9WgXcQ\"\n",
        "\n",
        "# creating youtube resource object\n",
        "youtube = build('youtube', 'v3',\n",
        "developerKey=api_key)\n",
        "\n",
        "# retrieve youtube video results\n",
        "video_response=youtube.commentThreads().list(\n",
        "  part='snippet',\n",
        "  maxResults=1000,\n",
        "  order='relevance',\n",
        "  videoId=video_id\n",
        ").execute()\n"
      ]
    },
    {
      "cell_type": "markdown",
      "source": [
        "## Data Preprocessing"
      ],
      "metadata": {
        "id": "yq7-bNkVEu8f"
      }
    },
    {
      "cell_type": "markdown",
      "source": [
        "### Data Wrangling"
      ],
      "metadata": {
        "id": "9d3Gu80DEzxz"
      }
    },
    {
      "cell_type": "markdown",
      "source": [
        "#### Assumptions\n",
        "\n",
        "\n",
        "*   Picking only the comment made by the original author\n",
        "  *   Comment Threads on the Original Authors comment could be diverging from the video\n",
        "  *   Limiting Response to about 10 for testing\n",
        "\n",
        "*   Using the 'textOriginal' instead of 'textDisplay' for easier cleanup of the comment\n",
        "\n",
        "\n",
        "*   Analyzing only English Comments \n",
        "  *   Storing the number of non English comments for metrics\n",
        "\n",
        "\n",
        "\n",
        "\n",
        "\n",
        "\n"
      ],
      "metadata": {
        "id": "y5znsobSE77W"
      }
    },
    {
      "cell_type": "code",
      "source": [
        "# empty list for storing reply\n",
        "comments = []\n",
        "\n",
        "# extracting required info from each result object\n",
        "for item in video_response['items']:\n",
        "\n",
        "  # Extracting comments\n",
        "  comment = item['snippet']['topLevelComment']['snippet']['textOriginal']\n",
        "  # Extracting author\n",
        "  author = item['snippet']['topLevelComment']['snippet']['authorDisplayName']\n",
        "  # Extracting published time\n",
        "  published_at = item['snippet']['topLevelComment']['snippet']['publishedAt']\n",
        "  # Extracting likes\n",
        "  like_count = item['snippet']['topLevelComment']['snippet']['likeCount']\n",
        "  # Extracting total replies to the comment\n",
        "  reply_count = item['snippet']['totalReplyCount']\n",
        "\n",
        "  comments.append([author, comment, published_at, like_count, reply_count])"
      ],
      "metadata": {
        "id": "B3ZHIuZD-60O"
      },
      "execution_count": 3,
      "outputs": []
    },
    {
      "cell_type": "code",
      "source": [
        "comments[0:5]"
      ],
      "metadata": {
        "colab": {
          "base_uri": "https://localhost:8080/"
        },
        "id": "DBjTDTtyAdZv",
        "outputId": "48fa40f5-7bb0-4637-b525-e8495ea346a1"
      },
      "execution_count": 4,
      "outputs": [
        {
          "output_type": "execute_result",
          "data": {
            "text/plain": [
              "[['Rick Astley',\n",
              "  '1 BILLION views for Never Gonna Give You Up!\\xa0 Amazing, crazy, wonderful! Rick ♥️',\n",
              "  '2021-07-28T21:00:32Z',\n",
              "  1166470,\n",
              "  497],\n",
              " ['H1K',\n",
              "  \"This isn't your first time here\\nAnd you know it.\",\n",
              "  '2019-10-31T21:38:49Z',\n",
              "  993653,\n",
              "  494],\n",
              " ['Alain Flores',\n",
              "  'Esta canción es genial,tanto tiempo y no ha Sido olvidada',\n",
              "  '2023-01-02T16:48:50Z',\n",
              "  210,\n",
              "  12],\n",
              " ['Lukas',\n",
              "  'Naah... temardo en verdad 😎🤙\\r\\n32707124 personas ya lo han escuchado,\\r\\nespero que te haya gustado 😉',\n",
              "  '2023-01-02T16:26:56Z',\n",
              "  239,\n",
              "  4],\n",
              " ['breaking of the game 067',\n",
              "  'Aparte de auto rickroll es muy buena fue un tema que no puede salir mas de su perfeccion fuera de los memes',\n",
              "  '2023-01-02T20:58:42Z',\n",
              "  45,\n",
              "  1]]"
            ]
          },
          "metadata": {},
          "execution_count": 4
        }
      ]
    },
    {
      "cell_type": "markdown",
      "source": [
        "### NLP"
      ],
      "metadata": {
        "id": "L0AzgXPqId-h"
      }
    },
    {
      "cell_type": "markdown",
      "source": [
        "#### Install Libraries"
      ],
      "metadata": {
        "id": "S8uoCx8SMzCi"
      }
    },
    {
      "cell_type": "code",
      "source": [
        "pip install Unidecode"
      ],
      "metadata": {
        "colab": {
          "base_uri": "https://localhost:8080/"
        },
        "id": "s9vNdtwZQH1q",
        "outputId": "61889c5e-7a57-41a7-a381-0276d3f73688"
      },
      "execution_count": 5,
      "outputs": [
        {
          "output_type": "stream",
          "name": "stdout",
          "text": [
            "Looking in indexes: https://pypi.org/simple, https://us-python.pkg.dev/colab-wheels/public/simple/\n",
            "Requirement already satisfied: Unidecode in /usr/local/lib/python3.8/dist-packages (1.3.6)\n"
          ]
        }
      ]
    },
    {
      "cell_type": "code",
      "source": [
        "pip install langdetect"
      ],
      "metadata": {
        "colab": {
          "base_uri": "https://localhost:8080/"
        },
        "id": "REkYtE-yBLka",
        "outputId": "a5576d3b-fd2d-4682-cd9c-0679184a76bb"
      },
      "execution_count": 6,
      "outputs": [
        {
          "output_type": "stream",
          "name": "stdout",
          "text": [
            "Looking in indexes: https://pypi.org/simple, https://us-python.pkg.dev/colab-wheels/public/simple/\n",
            "Requirement already satisfied: langdetect in /usr/local/lib/python3.8/dist-packages (1.0.9)\n",
            "Requirement already satisfied: six in /usr/local/lib/python3.8/dist-packages (from langdetect) (1.15.0)\n"
          ]
        }
      ]
    },
    {
      "cell_type": "code",
      "source": [
        "pip install pycountry"
      ],
      "metadata": {
        "colab": {
          "base_uri": "https://localhost:8080/"
        },
        "id": "NNQ4fQN7thuK",
        "outputId": "bd103b74-d7b7-4ca5-9bde-cfe8a9e298e9"
      },
      "execution_count": 7,
      "outputs": [
        {
          "output_type": "stream",
          "name": "stdout",
          "text": [
            "Looking in indexes: https://pypi.org/simple, https://us-python.pkg.dev/colab-wheels/public/simple/\n",
            "Requirement already satisfied: pycountry in /usr/local/lib/python3.8/dist-packages (22.3.5)\n",
            "Requirement already satisfied: setuptools in /usr/local/lib/python3.8/dist-packages (from pycountry) (57.4.0)\n"
          ]
        }
      ]
    },
    {
      "cell_type": "code",
      "source": [
        "pip install clean-text"
      ],
      "metadata": {
        "colab": {
          "base_uri": "https://localhost:8080/"
        },
        "id": "ohOw66wPNnw3",
        "outputId": "795ba70b-5dc5-40c7-b25a-dada45f74d6f"
      },
      "execution_count": 8,
      "outputs": [
        {
          "output_type": "stream",
          "name": "stdout",
          "text": [
            "Looking in indexes: https://pypi.org/simple, https://us-python.pkg.dev/colab-wheels/public/simple/\n",
            "Requirement already satisfied: clean-text in /usr/local/lib/python3.8/dist-packages (0.6.0)\n",
            "Requirement already satisfied: emoji<2.0.0,>=1.0.0 in /usr/local/lib/python3.8/dist-packages (from clean-text) (1.7.0)\n",
            "Requirement already satisfied: ftfy<7.0,>=6.0 in /usr/local/lib/python3.8/dist-packages (from clean-text) (6.1.1)\n",
            "Requirement already satisfied: wcwidth>=0.2.5 in /usr/local/lib/python3.8/dist-packages (from ftfy<7.0,>=6.0->clean-text) (0.2.5)\n"
          ]
        }
      ]
    },
    {
      "cell_type": "markdown",
      "source": [
        "#### Text Processing"
      ],
      "metadata": {
        "id": "BtgMRdJeM9ad"
      }
    },
    {
      "cell_type": "code",
      "source": [
        "import pandas as pd\n",
        "df = pd.DataFrame({'Author': [i[0] for i in comments], 'Comment': [i[1] for i in comments], 'Timestamp': [i[2] for i in comments],\n",
        "                  'Likes': [i[3] for i in comments], 'TotalReplies': [i[4] for i in comments]})"
      ],
      "metadata": {
        "id": "KcgTLGYPP3MB"
      },
      "execution_count": 9,
      "outputs": []
    },
    {
      "cell_type": "code",
      "source": [
        "df.head()"
      ],
      "metadata": {
        "colab": {
          "base_uri": "https://localhost:8080/",
          "height": 206
        },
        "id": "azQkTYxcQoGR",
        "outputId": "25256281-b8c9-46c9-a16b-0271f80c0f35"
      },
      "execution_count": 10,
      "outputs": [
        {
          "output_type": "execute_result",
          "data": {
            "text/plain": [
              "                     Author  \\\n",
              "0               Rick Astley   \n",
              "1                       H1K   \n",
              "2              Alain Flores   \n",
              "3                     Lukas   \n",
              "4  breaking of the game 067   \n",
              "\n",
              "                                             Comment             Timestamp  \\\n",
              "0  1 BILLION views for Never Gonna Give You Up!  ...  2021-07-28T21:00:32Z   \n",
              "1  This isn't your first time here\\nAnd you know it.  2019-10-31T21:38:49Z   \n",
              "2  Esta canción es genial,tanto tiempo y no ha Si...  2023-01-02T16:48:50Z   \n",
              "3  Naah... temardo en verdad 😎🤙\\r\\n32707124 perso...  2023-01-02T16:26:56Z   \n",
              "4  Aparte de auto rickroll es muy buena fue un te...  2023-01-02T20:58:42Z   \n",
              "\n",
              "     Likes  TotalReplies  \n",
              "0  1166470           497  \n",
              "1   993653           494  \n",
              "2      210            12  \n",
              "3      239             4  \n",
              "4       45             1  "
            ],
            "text/html": [
              "\n",
              "  <div id=\"df-ac66c85a-7b0c-41dd-94c1-8498f79bbaad\">\n",
              "    <div class=\"colab-df-container\">\n",
              "      <div>\n",
              "<style scoped>\n",
              "    .dataframe tbody tr th:only-of-type {\n",
              "        vertical-align: middle;\n",
              "    }\n",
              "\n",
              "    .dataframe tbody tr th {\n",
              "        vertical-align: top;\n",
              "    }\n",
              "\n",
              "    .dataframe thead th {\n",
              "        text-align: right;\n",
              "    }\n",
              "</style>\n",
              "<table border=\"1\" class=\"dataframe\">\n",
              "  <thead>\n",
              "    <tr style=\"text-align: right;\">\n",
              "      <th></th>\n",
              "      <th>Author</th>\n",
              "      <th>Comment</th>\n",
              "      <th>Timestamp</th>\n",
              "      <th>Likes</th>\n",
              "      <th>TotalReplies</th>\n",
              "    </tr>\n",
              "  </thead>\n",
              "  <tbody>\n",
              "    <tr>\n",
              "      <th>0</th>\n",
              "      <td>Rick Astley</td>\n",
              "      <td>1 BILLION views for Never Gonna Give You Up!  ...</td>\n",
              "      <td>2021-07-28T21:00:32Z</td>\n",
              "      <td>1166470</td>\n",
              "      <td>497</td>\n",
              "    </tr>\n",
              "    <tr>\n",
              "      <th>1</th>\n",
              "      <td>H1K</td>\n",
              "      <td>This isn't your first time here\\nAnd you know it.</td>\n",
              "      <td>2019-10-31T21:38:49Z</td>\n",
              "      <td>993653</td>\n",
              "      <td>494</td>\n",
              "    </tr>\n",
              "    <tr>\n",
              "      <th>2</th>\n",
              "      <td>Alain Flores</td>\n",
              "      <td>Esta canción es genial,tanto tiempo y no ha Si...</td>\n",
              "      <td>2023-01-02T16:48:50Z</td>\n",
              "      <td>210</td>\n",
              "      <td>12</td>\n",
              "    </tr>\n",
              "    <tr>\n",
              "      <th>3</th>\n",
              "      <td>Lukas</td>\n",
              "      <td>Naah... temardo en verdad 😎🤙\\r\\n32707124 perso...</td>\n",
              "      <td>2023-01-02T16:26:56Z</td>\n",
              "      <td>239</td>\n",
              "      <td>4</td>\n",
              "    </tr>\n",
              "    <tr>\n",
              "      <th>4</th>\n",
              "      <td>breaking of the game 067</td>\n",
              "      <td>Aparte de auto rickroll es muy buena fue un te...</td>\n",
              "      <td>2023-01-02T20:58:42Z</td>\n",
              "      <td>45</td>\n",
              "      <td>1</td>\n",
              "    </tr>\n",
              "  </tbody>\n",
              "</table>\n",
              "</div>\n",
              "      <button class=\"colab-df-convert\" onclick=\"convertToInteractive('df-ac66c85a-7b0c-41dd-94c1-8498f79bbaad')\"\n",
              "              title=\"Convert this dataframe to an interactive table.\"\n",
              "              style=\"display:none;\">\n",
              "        \n",
              "  <svg xmlns=\"http://www.w3.org/2000/svg\" height=\"24px\"viewBox=\"0 0 24 24\"\n",
              "       width=\"24px\">\n",
              "    <path d=\"M0 0h24v24H0V0z\" fill=\"none\"/>\n",
              "    <path d=\"M18.56 5.44l.94 2.06.94-2.06 2.06-.94-2.06-.94-.94-2.06-.94 2.06-2.06.94zm-11 1L8.5 8.5l.94-2.06 2.06-.94-2.06-.94L8.5 2.5l-.94 2.06-2.06.94zm10 10l.94 2.06.94-2.06 2.06-.94-2.06-.94-.94-2.06-.94 2.06-2.06.94z\"/><path d=\"M17.41 7.96l-1.37-1.37c-.4-.4-.92-.59-1.43-.59-.52 0-1.04.2-1.43.59L10.3 9.45l-7.72 7.72c-.78.78-.78 2.05 0 2.83L4 21.41c.39.39.9.59 1.41.59.51 0 1.02-.2 1.41-.59l7.78-7.78 2.81-2.81c.8-.78.8-2.07 0-2.86zM5.41 20L4 18.59l7.72-7.72 1.47 1.35L5.41 20z\"/>\n",
              "  </svg>\n",
              "      </button>\n",
              "      \n",
              "  <style>\n",
              "    .colab-df-container {\n",
              "      display:flex;\n",
              "      flex-wrap:wrap;\n",
              "      gap: 12px;\n",
              "    }\n",
              "\n",
              "    .colab-df-convert {\n",
              "      background-color: #E8F0FE;\n",
              "      border: none;\n",
              "      border-radius: 50%;\n",
              "      cursor: pointer;\n",
              "      display: none;\n",
              "      fill: #1967D2;\n",
              "      height: 32px;\n",
              "      padding: 0 0 0 0;\n",
              "      width: 32px;\n",
              "    }\n",
              "\n",
              "    .colab-df-convert:hover {\n",
              "      background-color: #E2EBFA;\n",
              "      box-shadow: 0px 1px 2px rgba(60, 64, 67, 0.3), 0px 1px 3px 1px rgba(60, 64, 67, 0.15);\n",
              "      fill: #174EA6;\n",
              "    }\n",
              "\n",
              "    [theme=dark] .colab-df-convert {\n",
              "      background-color: #3B4455;\n",
              "      fill: #D2E3FC;\n",
              "    }\n",
              "\n",
              "    [theme=dark] .colab-df-convert:hover {\n",
              "      background-color: #434B5C;\n",
              "      box-shadow: 0px 1px 3px 1px rgba(0, 0, 0, 0.15);\n",
              "      filter: drop-shadow(0px 1px 2px rgba(0, 0, 0, 0.3));\n",
              "      fill: #FFFFFF;\n",
              "    }\n",
              "  </style>\n",
              "\n",
              "      <script>\n",
              "        const buttonEl =\n",
              "          document.querySelector('#df-ac66c85a-7b0c-41dd-94c1-8498f79bbaad button.colab-df-convert');\n",
              "        buttonEl.style.display =\n",
              "          google.colab.kernel.accessAllowed ? 'block' : 'none';\n",
              "\n",
              "        async function convertToInteractive(key) {\n",
              "          const element = document.querySelector('#df-ac66c85a-7b0c-41dd-94c1-8498f79bbaad');\n",
              "          const dataTable =\n",
              "            await google.colab.kernel.invokeFunction('convertToInteractive',\n",
              "                                                     [key], {});\n",
              "          if (!dataTable) return;\n",
              "\n",
              "          const docLinkHtml = 'Like what you see? Visit the ' +\n",
              "            '<a target=\"_blank\" href=https://colab.research.google.com/notebooks/data_table.ipynb>data table notebook</a>'\n",
              "            + ' to learn more about interactive tables.';\n",
              "          element.innerHTML = '';\n",
              "          dataTable['output_type'] = 'display_data';\n",
              "          await google.colab.output.renderOutput(dataTable, element);\n",
              "          const docLink = document.createElement('div');\n",
              "          docLink.innerHTML = docLinkHtml;\n",
              "          element.appendChild(docLink);\n",
              "        }\n",
              "      </script>\n",
              "    </div>\n",
              "  </div>\n",
              "  "
            ]
          },
          "metadata": {},
          "execution_count": 10
        }
      ]
    },
    {
      "cell_type": "code",
      "source": [
        "from cleantext import clean\n",
        "\n",
        "# Remove extra spaces and make them lower case. Replace special emojis\n",
        "clean_df = df\n",
        "clean_df['Comment'] = clean_df['Comment'].apply(lambda x: x.strip().lower().replace('xd','').replace('<3',''))\n",
        "\n",
        "# Clean text from line breaks, unicodes, emojis and punctuations\n",
        "clean_df['Comment'] = clean_df['Comment'].apply(lambda x: clean(x, no_emoji=True, no_punct=True, no_line_breaks=True, fix_unicode=True))\n",
        "clean_df.head()"
      ],
      "metadata": {
        "colab": {
          "base_uri": "https://localhost:8080/",
          "height": 206
        },
        "id": "wtD45aw7BLiW",
        "outputId": "061a7548-9c56-4564-af7e-5de0e43ae359"
      },
      "execution_count": 11,
      "outputs": [
        {
          "output_type": "execute_result",
          "data": {
            "text/plain": [
              "                     Author  \\\n",
              "0               Rick Astley   \n",
              "1                       H1K   \n",
              "2              Alain Flores   \n",
              "3                     Lukas   \n",
              "4  breaking of the game 067   \n",
              "\n",
              "                                             Comment             Timestamp  \\\n",
              "0  1 billion views for never gonna give you up am...  2021-07-28T21:00:32Z   \n",
              "1     this isnt your first time here and you know it  2019-10-31T21:38:49Z   \n",
              "2  esta cancion es genialtanto tiempo y no ha sid...  2023-01-02T16:48:50Z   \n",
              "3  naah temardo en verdad 32707124 personas ya lo...  2023-01-02T16:26:56Z   \n",
              "4  aparte de auto rickroll es muy buena fue un te...  2023-01-02T20:58:42Z   \n",
              "\n",
              "     Likes  TotalReplies  \n",
              "0  1166470           497  \n",
              "1   993653           494  \n",
              "2      210            12  \n",
              "3      239             4  \n",
              "4       45             1  "
            ],
            "text/html": [
              "\n",
              "  <div id=\"df-2eb3df0d-5a77-4d8c-a946-ad306b004bbb\">\n",
              "    <div class=\"colab-df-container\">\n",
              "      <div>\n",
              "<style scoped>\n",
              "    .dataframe tbody tr th:only-of-type {\n",
              "        vertical-align: middle;\n",
              "    }\n",
              "\n",
              "    .dataframe tbody tr th {\n",
              "        vertical-align: top;\n",
              "    }\n",
              "\n",
              "    .dataframe thead th {\n",
              "        text-align: right;\n",
              "    }\n",
              "</style>\n",
              "<table border=\"1\" class=\"dataframe\">\n",
              "  <thead>\n",
              "    <tr style=\"text-align: right;\">\n",
              "      <th></th>\n",
              "      <th>Author</th>\n",
              "      <th>Comment</th>\n",
              "      <th>Timestamp</th>\n",
              "      <th>Likes</th>\n",
              "      <th>TotalReplies</th>\n",
              "    </tr>\n",
              "  </thead>\n",
              "  <tbody>\n",
              "    <tr>\n",
              "      <th>0</th>\n",
              "      <td>Rick Astley</td>\n",
              "      <td>1 billion views for never gonna give you up am...</td>\n",
              "      <td>2021-07-28T21:00:32Z</td>\n",
              "      <td>1166470</td>\n",
              "      <td>497</td>\n",
              "    </tr>\n",
              "    <tr>\n",
              "      <th>1</th>\n",
              "      <td>H1K</td>\n",
              "      <td>this isnt your first time here and you know it</td>\n",
              "      <td>2019-10-31T21:38:49Z</td>\n",
              "      <td>993653</td>\n",
              "      <td>494</td>\n",
              "    </tr>\n",
              "    <tr>\n",
              "      <th>2</th>\n",
              "      <td>Alain Flores</td>\n",
              "      <td>esta cancion es genialtanto tiempo y no ha sid...</td>\n",
              "      <td>2023-01-02T16:48:50Z</td>\n",
              "      <td>210</td>\n",
              "      <td>12</td>\n",
              "    </tr>\n",
              "    <tr>\n",
              "      <th>3</th>\n",
              "      <td>Lukas</td>\n",
              "      <td>naah temardo en verdad 32707124 personas ya lo...</td>\n",
              "      <td>2023-01-02T16:26:56Z</td>\n",
              "      <td>239</td>\n",
              "      <td>4</td>\n",
              "    </tr>\n",
              "    <tr>\n",
              "      <th>4</th>\n",
              "      <td>breaking of the game 067</td>\n",
              "      <td>aparte de auto rickroll es muy buena fue un te...</td>\n",
              "      <td>2023-01-02T20:58:42Z</td>\n",
              "      <td>45</td>\n",
              "      <td>1</td>\n",
              "    </tr>\n",
              "  </tbody>\n",
              "</table>\n",
              "</div>\n",
              "      <button class=\"colab-df-convert\" onclick=\"convertToInteractive('df-2eb3df0d-5a77-4d8c-a946-ad306b004bbb')\"\n",
              "              title=\"Convert this dataframe to an interactive table.\"\n",
              "              style=\"display:none;\">\n",
              "        \n",
              "  <svg xmlns=\"http://www.w3.org/2000/svg\" height=\"24px\"viewBox=\"0 0 24 24\"\n",
              "       width=\"24px\">\n",
              "    <path d=\"M0 0h24v24H0V0z\" fill=\"none\"/>\n",
              "    <path d=\"M18.56 5.44l.94 2.06.94-2.06 2.06-.94-2.06-.94-.94-2.06-.94 2.06-2.06.94zm-11 1L8.5 8.5l.94-2.06 2.06-.94-2.06-.94L8.5 2.5l-.94 2.06-2.06.94zm10 10l.94 2.06.94-2.06 2.06-.94-2.06-.94-.94-2.06-.94 2.06-2.06.94z\"/><path d=\"M17.41 7.96l-1.37-1.37c-.4-.4-.92-.59-1.43-.59-.52 0-1.04.2-1.43.59L10.3 9.45l-7.72 7.72c-.78.78-.78 2.05 0 2.83L4 21.41c.39.39.9.59 1.41.59.51 0 1.02-.2 1.41-.59l7.78-7.78 2.81-2.81c.8-.78.8-2.07 0-2.86zM5.41 20L4 18.59l7.72-7.72 1.47 1.35L5.41 20z\"/>\n",
              "  </svg>\n",
              "      </button>\n",
              "      \n",
              "  <style>\n",
              "    .colab-df-container {\n",
              "      display:flex;\n",
              "      flex-wrap:wrap;\n",
              "      gap: 12px;\n",
              "    }\n",
              "\n",
              "    .colab-df-convert {\n",
              "      background-color: #E8F0FE;\n",
              "      border: none;\n",
              "      border-radius: 50%;\n",
              "      cursor: pointer;\n",
              "      display: none;\n",
              "      fill: #1967D2;\n",
              "      height: 32px;\n",
              "      padding: 0 0 0 0;\n",
              "      width: 32px;\n",
              "    }\n",
              "\n",
              "    .colab-df-convert:hover {\n",
              "      background-color: #E2EBFA;\n",
              "      box-shadow: 0px 1px 2px rgba(60, 64, 67, 0.3), 0px 1px 3px 1px rgba(60, 64, 67, 0.15);\n",
              "      fill: #174EA6;\n",
              "    }\n",
              "\n",
              "    [theme=dark] .colab-df-convert {\n",
              "      background-color: #3B4455;\n",
              "      fill: #D2E3FC;\n",
              "    }\n",
              "\n",
              "    [theme=dark] .colab-df-convert:hover {\n",
              "      background-color: #434B5C;\n",
              "      box-shadow: 0px 1px 3px 1px rgba(0, 0, 0, 0.15);\n",
              "      filter: drop-shadow(0px 1px 2px rgba(0, 0, 0, 0.3));\n",
              "      fill: #FFFFFF;\n",
              "    }\n",
              "  </style>\n",
              "\n",
              "      <script>\n",
              "        const buttonEl =\n",
              "          document.querySelector('#df-2eb3df0d-5a77-4d8c-a946-ad306b004bbb button.colab-df-convert');\n",
              "        buttonEl.style.display =\n",
              "          google.colab.kernel.accessAllowed ? 'block' : 'none';\n",
              "\n",
              "        async function convertToInteractive(key) {\n",
              "          const element = document.querySelector('#df-2eb3df0d-5a77-4d8c-a946-ad306b004bbb');\n",
              "          const dataTable =\n",
              "            await google.colab.kernel.invokeFunction('convertToInteractive',\n",
              "                                                     [key], {});\n",
              "          if (!dataTable) return;\n",
              "\n",
              "          const docLinkHtml = 'Like what you see? Visit the ' +\n",
              "            '<a target=\"_blank\" href=https://colab.research.google.com/notebooks/data_table.ipynb>data table notebook</a>'\n",
              "            + ' to learn more about interactive tables.';\n",
              "          element.innerHTML = '';\n",
              "          dataTable['output_type'] = 'display_data';\n",
              "          await google.colab.output.renderOutput(dataTable, element);\n",
              "          const docLink = document.createElement('div');\n",
              "          docLink.innerHTML = docLinkHtml;\n",
              "          element.appendChild(docLink);\n",
              "        }\n",
              "      </script>\n",
              "    </div>\n",
              "  </div>\n",
              "  "
            ]
          },
          "metadata": {},
          "execution_count": 11
        }
      ]
    },
    {
      "cell_type": "code",
      "source": [
        "from langdetect import detect\n",
        "clean_df['Language'] = clean_df['Comment'].apply(lambda x: detect(x))\n",
        "clean_df.head()"
      ],
      "metadata": {
        "id": "pjeWOlFuMyAm",
        "colab": {
          "base_uri": "https://localhost:8080/",
          "height": 206
        },
        "outputId": "8b84f88f-1107-4273-da5f-52d12c1983d5"
      },
      "execution_count": 12,
      "outputs": [
        {
          "output_type": "execute_result",
          "data": {
            "text/plain": [
              "                     Author  \\\n",
              "0               Rick Astley   \n",
              "1                       H1K   \n",
              "2              Alain Flores   \n",
              "3                     Lukas   \n",
              "4  breaking of the game 067   \n",
              "\n",
              "                                             Comment             Timestamp  \\\n",
              "0  1 billion views for never gonna give you up am...  2021-07-28T21:00:32Z   \n",
              "1     this isnt your first time here and you know it  2019-10-31T21:38:49Z   \n",
              "2  esta cancion es genialtanto tiempo y no ha sid...  2023-01-02T16:48:50Z   \n",
              "3  naah temardo en verdad 32707124 personas ya lo...  2023-01-02T16:26:56Z   \n",
              "4  aparte de auto rickroll es muy buena fue un te...  2023-01-02T20:58:42Z   \n",
              "\n",
              "     Likes  TotalReplies Language  \n",
              "0  1166470           497       en  \n",
              "1   993653           494       en  \n",
              "2      210            12       es  \n",
              "3      239             4       es  \n",
              "4       45             1       es  "
            ],
            "text/html": [
              "\n",
              "  <div id=\"df-b05b926f-8ac4-4fcd-89a2-820afa5d1814\">\n",
              "    <div class=\"colab-df-container\">\n",
              "      <div>\n",
              "<style scoped>\n",
              "    .dataframe tbody tr th:only-of-type {\n",
              "        vertical-align: middle;\n",
              "    }\n",
              "\n",
              "    .dataframe tbody tr th {\n",
              "        vertical-align: top;\n",
              "    }\n",
              "\n",
              "    .dataframe thead th {\n",
              "        text-align: right;\n",
              "    }\n",
              "</style>\n",
              "<table border=\"1\" class=\"dataframe\">\n",
              "  <thead>\n",
              "    <tr style=\"text-align: right;\">\n",
              "      <th></th>\n",
              "      <th>Author</th>\n",
              "      <th>Comment</th>\n",
              "      <th>Timestamp</th>\n",
              "      <th>Likes</th>\n",
              "      <th>TotalReplies</th>\n",
              "      <th>Language</th>\n",
              "    </tr>\n",
              "  </thead>\n",
              "  <tbody>\n",
              "    <tr>\n",
              "      <th>0</th>\n",
              "      <td>Rick Astley</td>\n",
              "      <td>1 billion views for never gonna give you up am...</td>\n",
              "      <td>2021-07-28T21:00:32Z</td>\n",
              "      <td>1166470</td>\n",
              "      <td>497</td>\n",
              "      <td>en</td>\n",
              "    </tr>\n",
              "    <tr>\n",
              "      <th>1</th>\n",
              "      <td>H1K</td>\n",
              "      <td>this isnt your first time here and you know it</td>\n",
              "      <td>2019-10-31T21:38:49Z</td>\n",
              "      <td>993653</td>\n",
              "      <td>494</td>\n",
              "      <td>en</td>\n",
              "    </tr>\n",
              "    <tr>\n",
              "      <th>2</th>\n",
              "      <td>Alain Flores</td>\n",
              "      <td>esta cancion es genialtanto tiempo y no ha sid...</td>\n",
              "      <td>2023-01-02T16:48:50Z</td>\n",
              "      <td>210</td>\n",
              "      <td>12</td>\n",
              "      <td>es</td>\n",
              "    </tr>\n",
              "    <tr>\n",
              "      <th>3</th>\n",
              "      <td>Lukas</td>\n",
              "      <td>naah temardo en verdad 32707124 personas ya lo...</td>\n",
              "      <td>2023-01-02T16:26:56Z</td>\n",
              "      <td>239</td>\n",
              "      <td>4</td>\n",
              "      <td>es</td>\n",
              "    </tr>\n",
              "    <tr>\n",
              "      <th>4</th>\n",
              "      <td>breaking of the game 067</td>\n",
              "      <td>aparte de auto rickroll es muy buena fue un te...</td>\n",
              "      <td>2023-01-02T20:58:42Z</td>\n",
              "      <td>45</td>\n",
              "      <td>1</td>\n",
              "      <td>es</td>\n",
              "    </tr>\n",
              "  </tbody>\n",
              "</table>\n",
              "</div>\n",
              "      <button class=\"colab-df-convert\" onclick=\"convertToInteractive('df-b05b926f-8ac4-4fcd-89a2-820afa5d1814')\"\n",
              "              title=\"Convert this dataframe to an interactive table.\"\n",
              "              style=\"display:none;\">\n",
              "        \n",
              "  <svg xmlns=\"http://www.w3.org/2000/svg\" height=\"24px\"viewBox=\"0 0 24 24\"\n",
              "       width=\"24px\">\n",
              "    <path d=\"M0 0h24v24H0V0z\" fill=\"none\"/>\n",
              "    <path d=\"M18.56 5.44l.94 2.06.94-2.06 2.06-.94-2.06-.94-.94-2.06-.94 2.06-2.06.94zm-11 1L8.5 8.5l.94-2.06 2.06-.94-2.06-.94L8.5 2.5l-.94 2.06-2.06.94zm10 10l.94 2.06.94-2.06 2.06-.94-2.06-.94-.94-2.06-.94 2.06-2.06.94z\"/><path d=\"M17.41 7.96l-1.37-1.37c-.4-.4-.92-.59-1.43-.59-.52 0-1.04.2-1.43.59L10.3 9.45l-7.72 7.72c-.78.78-.78 2.05 0 2.83L4 21.41c.39.39.9.59 1.41.59.51 0 1.02-.2 1.41-.59l7.78-7.78 2.81-2.81c.8-.78.8-2.07 0-2.86zM5.41 20L4 18.59l7.72-7.72 1.47 1.35L5.41 20z\"/>\n",
              "  </svg>\n",
              "      </button>\n",
              "      \n",
              "  <style>\n",
              "    .colab-df-container {\n",
              "      display:flex;\n",
              "      flex-wrap:wrap;\n",
              "      gap: 12px;\n",
              "    }\n",
              "\n",
              "    .colab-df-convert {\n",
              "      background-color: #E8F0FE;\n",
              "      border: none;\n",
              "      border-radius: 50%;\n",
              "      cursor: pointer;\n",
              "      display: none;\n",
              "      fill: #1967D2;\n",
              "      height: 32px;\n",
              "      padding: 0 0 0 0;\n",
              "      width: 32px;\n",
              "    }\n",
              "\n",
              "    .colab-df-convert:hover {\n",
              "      background-color: #E2EBFA;\n",
              "      box-shadow: 0px 1px 2px rgba(60, 64, 67, 0.3), 0px 1px 3px 1px rgba(60, 64, 67, 0.15);\n",
              "      fill: #174EA6;\n",
              "    }\n",
              "\n",
              "    [theme=dark] .colab-df-convert {\n",
              "      background-color: #3B4455;\n",
              "      fill: #D2E3FC;\n",
              "    }\n",
              "\n",
              "    [theme=dark] .colab-df-convert:hover {\n",
              "      background-color: #434B5C;\n",
              "      box-shadow: 0px 1px 3px 1px rgba(0, 0, 0, 0.15);\n",
              "      filter: drop-shadow(0px 1px 2px rgba(0, 0, 0, 0.3));\n",
              "      fill: #FFFFFF;\n",
              "    }\n",
              "  </style>\n",
              "\n",
              "      <script>\n",
              "        const buttonEl =\n",
              "          document.querySelector('#df-b05b926f-8ac4-4fcd-89a2-820afa5d1814 button.colab-df-convert');\n",
              "        buttonEl.style.display =\n",
              "          google.colab.kernel.accessAllowed ? 'block' : 'none';\n",
              "\n",
              "        async function convertToInteractive(key) {\n",
              "          const element = document.querySelector('#df-b05b926f-8ac4-4fcd-89a2-820afa5d1814');\n",
              "          const dataTable =\n",
              "            await google.colab.kernel.invokeFunction('convertToInteractive',\n",
              "                                                     [key], {});\n",
              "          if (!dataTable) return;\n",
              "\n",
              "          const docLinkHtml = 'Like what you see? Visit the ' +\n",
              "            '<a target=\"_blank\" href=https://colab.research.google.com/notebooks/data_table.ipynb>data table notebook</a>'\n",
              "            + ' to learn more about interactive tables.';\n",
              "          element.innerHTML = '';\n",
              "          dataTable['output_type'] = 'display_data';\n",
              "          await google.colab.output.renderOutput(dataTable, element);\n",
              "          const docLink = document.createElement('div');\n",
              "          docLink.innerHTML = docLinkHtml;\n",
              "          element.appendChild(docLink);\n",
              "        }\n",
              "      </script>\n",
              "    </div>\n",
              "  </div>\n",
              "  "
            ]
          },
          "metadata": {},
          "execution_count": 12
        }
      ]
    },
    {
      "cell_type": "code",
      "source": [
        "import pycountry\n",
        "# Convert ISO country codes to Languages\n",
        "clean_df['Language'] = clean_df['Language'].apply(lambda x: pycountry.languages.get(alpha_2=x).name)\n",
        "clean_df.head()"
      ],
      "metadata": {
        "id": "EotEzuxJt5Zi",
        "colab": {
          "base_uri": "https://localhost:8080/",
          "height": 206
        },
        "outputId": "a5b217cc-20a1-48da-e3dd-80dfebcd179b"
      },
      "execution_count": 13,
      "outputs": [
        {
          "output_type": "execute_result",
          "data": {
            "text/plain": [
              "                     Author  \\\n",
              "0               Rick Astley   \n",
              "1                       H1K   \n",
              "2              Alain Flores   \n",
              "3                     Lukas   \n",
              "4  breaking of the game 067   \n",
              "\n",
              "                                             Comment             Timestamp  \\\n",
              "0  1 billion views for never gonna give you up am...  2021-07-28T21:00:32Z   \n",
              "1     this isnt your first time here and you know it  2019-10-31T21:38:49Z   \n",
              "2  esta cancion es genialtanto tiempo y no ha sid...  2023-01-02T16:48:50Z   \n",
              "3  naah temardo en verdad 32707124 personas ya lo...  2023-01-02T16:26:56Z   \n",
              "4  aparte de auto rickroll es muy buena fue un te...  2023-01-02T20:58:42Z   \n",
              "\n",
              "     Likes  TotalReplies Language  \n",
              "0  1166470           497  English  \n",
              "1   993653           494  English  \n",
              "2      210            12  Spanish  \n",
              "3      239             4  Spanish  \n",
              "4       45             1  Spanish  "
            ],
            "text/html": [
              "\n",
              "  <div id=\"df-e48b7a3f-0704-4487-b766-9b0b15d889b6\">\n",
              "    <div class=\"colab-df-container\">\n",
              "      <div>\n",
              "<style scoped>\n",
              "    .dataframe tbody tr th:only-of-type {\n",
              "        vertical-align: middle;\n",
              "    }\n",
              "\n",
              "    .dataframe tbody tr th {\n",
              "        vertical-align: top;\n",
              "    }\n",
              "\n",
              "    .dataframe thead th {\n",
              "        text-align: right;\n",
              "    }\n",
              "</style>\n",
              "<table border=\"1\" class=\"dataframe\">\n",
              "  <thead>\n",
              "    <tr style=\"text-align: right;\">\n",
              "      <th></th>\n",
              "      <th>Author</th>\n",
              "      <th>Comment</th>\n",
              "      <th>Timestamp</th>\n",
              "      <th>Likes</th>\n",
              "      <th>TotalReplies</th>\n",
              "      <th>Language</th>\n",
              "    </tr>\n",
              "  </thead>\n",
              "  <tbody>\n",
              "    <tr>\n",
              "      <th>0</th>\n",
              "      <td>Rick Astley</td>\n",
              "      <td>1 billion views for never gonna give you up am...</td>\n",
              "      <td>2021-07-28T21:00:32Z</td>\n",
              "      <td>1166470</td>\n",
              "      <td>497</td>\n",
              "      <td>English</td>\n",
              "    </tr>\n",
              "    <tr>\n",
              "      <th>1</th>\n",
              "      <td>H1K</td>\n",
              "      <td>this isnt your first time here and you know it</td>\n",
              "      <td>2019-10-31T21:38:49Z</td>\n",
              "      <td>993653</td>\n",
              "      <td>494</td>\n",
              "      <td>English</td>\n",
              "    </tr>\n",
              "    <tr>\n",
              "      <th>2</th>\n",
              "      <td>Alain Flores</td>\n",
              "      <td>esta cancion es genialtanto tiempo y no ha sid...</td>\n",
              "      <td>2023-01-02T16:48:50Z</td>\n",
              "      <td>210</td>\n",
              "      <td>12</td>\n",
              "      <td>Spanish</td>\n",
              "    </tr>\n",
              "    <tr>\n",
              "      <th>3</th>\n",
              "      <td>Lukas</td>\n",
              "      <td>naah temardo en verdad 32707124 personas ya lo...</td>\n",
              "      <td>2023-01-02T16:26:56Z</td>\n",
              "      <td>239</td>\n",
              "      <td>4</td>\n",
              "      <td>Spanish</td>\n",
              "    </tr>\n",
              "    <tr>\n",
              "      <th>4</th>\n",
              "      <td>breaking of the game 067</td>\n",
              "      <td>aparte de auto rickroll es muy buena fue un te...</td>\n",
              "      <td>2023-01-02T20:58:42Z</td>\n",
              "      <td>45</td>\n",
              "      <td>1</td>\n",
              "      <td>Spanish</td>\n",
              "    </tr>\n",
              "  </tbody>\n",
              "</table>\n",
              "</div>\n",
              "      <button class=\"colab-df-convert\" onclick=\"convertToInteractive('df-e48b7a3f-0704-4487-b766-9b0b15d889b6')\"\n",
              "              title=\"Convert this dataframe to an interactive table.\"\n",
              "              style=\"display:none;\">\n",
              "        \n",
              "  <svg xmlns=\"http://www.w3.org/2000/svg\" height=\"24px\"viewBox=\"0 0 24 24\"\n",
              "       width=\"24px\">\n",
              "    <path d=\"M0 0h24v24H0V0z\" fill=\"none\"/>\n",
              "    <path d=\"M18.56 5.44l.94 2.06.94-2.06 2.06-.94-2.06-.94-.94-2.06-.94 2.06-2.06.94zm-11 1L8.5 8.5l.94-2.06 2.06-.94-2.06-.94L8.5 2.5l-.94 2.06-2.06.94zm10 10l.94 2.06.94-2.06 2.06-.94-2.06-.94-.94-2.06-.94 2.06-2.06.94z\"/><path d=\"M17.41 7.96l-1.37-1.37c-.4-.4-.92-.59-1.43-.59-.52 0-1.04.2-1.43.59L10.3 9.45l-7.72 7.72c-.78.78-.78 2.05 0 2.83L4 21.41c.39.39.9.59 1.41.59.51 0 1.02-.2 1.41-.59l7.78-7.78 2.81-2.81c.8-.78.8-2.07 0-2.86zM5.41 20L4 18.59l7.72-7.72 1.47 1.35L5.41 20z\"/>\n",
              "  </svg>\n",
              "      </button>\n",
              "      \n",
              "  <style>\n",
              "    .colab-df-container {\n",
              "      display:flex;\n",
              "      flex-wrap:wrap;\n",
              "      gap: 12px;\n",
              "    }\n",
              "\n",
              "    .colab-df-convert {\n",
              "      background-color: #E8F0FE;\n",
              "      border: none;\n",
              "      border-radius: 50%;\n",
              "      cursor: pointer;\n",
              "      display: none;\n",
              "      fill: #1967D2;\n",
              "      height: 32px;\n",
              "      padding: 0 0 0 0;\n",
              "      width: 32px;\n",
              "    }\n",
              "\n",
              "    .colab-df-convert:hover {\n",
              "      background-color: #E2EBFA;\n",
              "      box-shadow: 0px 1px 2px rgba(60, 64, 67, 0.3), 0px 1px 3px 1px rgba(60, 64, 67, 0.15);\n",
              "      fill: #174EA6;\n",
              "    }\n",
              "\n",
              "    [theme=dark] .colab-df-convert {\n",
              "      background-color: #3B4455;\n",
              "      fill: #D2E3FC;\n",
              "    }\n",
              "\n",
              "    [theme=dark] .colab-df-convert:hover {\n",
              "      background-color: #434B5C;\n",
              "      box-shadow: 0px 1px 3px 1px rgba(0, 0, 0, 0.15);\n",
              "      filter: drop-shadow(0px 1px 2px rgba(0, 0, 0, 0.3));\n",
              "      fill: #FFFFFF;\n",
              "    }\n",
              "  </style>\n",
              "\n",
              "      <script>\n",
              "        const buttonEl =\n",
              "          document.querySelector('#df-e48b7a3f-0704-4487-b766-9b0b15d889b6 button.colab-df-convert');\n",
              "        buttonEl.style.display =\n",
              "          google.colab.kernel.accessAllowed ? 'block' : 'none';\n",
              "\n",
              "        async function convertToInteractive(key) {\n",
              "          const element = document.querySelector('#df-e48b7a3f-0704-4487-b766-9b0b15d889b6');\n",
              "          const dataTable =\n",
              "            await google.colab.kernel.invokeFunction('convertToInteractive',\n",
              "                                                     [key], {});\n",
              "          if (!dataTable) return;\n",
              "\n",
              "          const docLinkHtml = 'Like what you see? Visit the ' +\n",
              "            '<a target=\"_blank\" href=https://colab.research.google.com/notebooks/data_table.ipynb>data table notebook</a>'\n",
              "            + ' to learn more about interactive tables.';\n",
              "          element.innerHTML = '';\n",
              "          dataTable['output_type'] = 'display_data';\n",
              "          await google.colab.output.renderOutput(dataTable, element);\n",
              "          const docLink = document.createElement('div');\n",
              "          docLink.innerHTML = docLinkHtml;\n",
              "          element.appendChild(docLink);\n",
              "        }\n",
              "      </script>\n",
              "    </div>\n",
              "  </div>\n",
              "  "
            ]
          },
          "metadata": {},
          "execution_count": 13
        }
      ]
    },
    {
      "cell_type": "markdown",
      "source": [
        "## Text Blob\n"
      ],
      "metadata": {
        "id": "2gfluMSUrmHg"
      }
    },
    {
      "cell_type": "code",
      "source": [
        "from nltk.sentiment.util import *\n",
        "from textblob import TextBlob\n",
        "from nltk import tokenize\n",
        "# New variable for TextBlob approach\n",
        "textBlob = clean_df.loc[clean_df['Language']=='English']\n",
        "\n",
        "def get_polarity(text):\n",
        "  return TextBlob(text).sentiment.polarity\n",
        "\n",
        "textBlob['TextBlob_Polarity'] = textBlob['Comment'].apply(get_polarity)"
      ],
      "metadata": {
        "colab": {
          "base_uri": "https://localhost:8080/"
        },
        "id": "W02RT8cDrluz",
        "outputId": "a5700f87-2dca-490a-c91a-79b370e2c39a"
      },
      "execution_count": 25,
      "outputs": [
        {
          "output_type": "stream",
          "name": "stderr",
          "text": [
            "<ipython-input-25-423b311613ca>:11: SettingWithCopyWarning: \n",
            "A value is trying to be set on a copy of a slice from a DataFrame.\n",
            "Try using .loc[row_indexer,col_indexer] = value instead\n",
            "\n",
            "See the caveats in the documentation: https://pandas.pydata.org/pandas-docs/stable/user_guide/indexing.html#returning-a-view-versus-a-copy\n",
            "  textBlob['TextBlob_Polarity'] = textBlob['Comment'].apply(get_polarity)\n"
          ]
        }
      ]
    },
    {
      "cell_type": "code",
      "source": [
        "textBlob['TextBlob_Sentiment_Type']=''\n",
        "textBlob.loc[textBlob.TextBlob_Polarity>0,'TextBlob_Sentiment_Type']='POSITIVE'\n",
        "textBlob.loc[textBlob.TextBlob_Polarity==0,'TextBlob_Sentiment_Type']='NEUTRAL'\n",
        "textBlob.loc[textBlob.TextBlob_Polarity<0,'TextBlob_Sentiment_Type']='NEGATIVE'"
      ],
      "metadata": {
        "colab": {
          "base_uri": "https://localhost:8080/"
        },
        "id": "i8qD9fHXszkA",
        "outputId": "5cfb741f-8794-42e7-e365-12cb32c6bb41"
      },
      "execution_count": 26,
      "outputs": [
        {
          "output_type": "stream",
          "name": "stderr",
          "text": [
            "<ipython-input-26-a2cc16ededd8>:1: SettingWithCopyWarning: \n",
            "A value is trying to be set on a copy of a slice from a DataFrame.\n",
            "Try using .loc[row_indexer,col_indexer] = value instead\n",
            "\n",
            "See the caveats in the documentation: https://pandas.pydata.org/pandas-docs/stable/user_guide/indexing.html#returning-a-view-versus-a-copy\n",
            "  textBlob['TextBlob_Sentiment_Type']=''\n",
            "/usr/local/lib/python3.8/dist-packages/pandas/core/indexing.py:1817: SettingWithCopyWarning: \n",
            "A value is trying to be set on a copy of a slice from a DataFrame.\n",
            "Try using .loc[row_indexer,col_indexer] = value instead\n",
            "\n",
            "See the caveats in the documentation: https://pandas.pydata.org/pandas-docs/stable/user_guide/indexing.html#returning-a-view-versus-a-copy\n",
            "  self._setitem_single_column(loc, value, pi)\n"
          ]
        }
      ]
    },
    {
      "cell_type": "code",
      "source": [
        "textBlob.TextBlob_Sentiment_Type.value_counts()"
      ],
      "metadata": {
        "colab": {
          "base_uri": "https://localhost:8080/"
        },
        "id": "_ev2skkmveUw",
        "outputId": "94428523-0576-4382-c3c5-0f5edc8046ca"
      },
      "execution_count": 27,
      "outputs": [
        {
          "output_type": "execute_result",
          "data": {
            "text/plain": [
              "POSITIVE    33\n",
              "NEUTRAL      8\n",
              "NEGATIVE     4\n",
              "Name: TextBlob_Sentiment_Type, dtype: int64"
            ]
          },
          "metadata": {},
          "execution_count": 27
        }
      ]
    },
    {
      "cell_type": "code",
      "source": [
        "textBlob.TextBlob_Sentiment_Type.value_counts().plot(kind='bar',title=\"TextBlob Sentiment Analysis\")"
      ],
      "metadata": {
        "colab": {
          "base_uri": "https://localhost:8080/",
          "height": 338
        },
        "id": "zs_O3z4-tNei",
        "outputId": "292bc365-3e2e-4cbe-bd9b-7848887988a8"
      },
      "execution_count": 28,
      "outputs": [
        {
          "output_type": "execute_result",
          "data": {
            "text/plain": [
              "<matplotlib.axes._subplots.AxesSubplot at 0x7feee803e3a0>"
            ]
          },
          "metadata": {},
          "execution_count": 28
        },
        {
          "output_type": "display_data",
          "data": {
            "text/plain": [
              "<Figure size 432x288 with 1 Axes>"
            ],
            "image/png": "[encoded data removed]"
          },
          "metadata": {
            "needs_background": "light"
          }
        }
      ]
    },
    {
      "cell_type": "markdown",
      "source": [
        "## Vader"
      ],
      "metadata": {
        "id": "o4BkWHCotcf_"
      }
    },
    {
      "cell_type": "code",
      "source": [
        "import nltk\n",
        "nltk.download('vader_lexicon')\n",
        "from nltk.sentiment.vader import SentimentIntensityAnalyzer\n",
        "\n",
        "vader_df = clean_df.loc[clean_df['Language']=='English']\n",
        "\n",
        "sid = SentimentIntensityAnalyzer()"
      ],
      "metadata": {
        "colab": {
          "base_uri": "https://localhost:8080/"
        },
        "id": "qPr96LfXte83",
        "outputId": "3baf717b-df1d-4fd3-a1d4-e4614f1cbf0c"
      },
      "execution_count": 36,
      "outputs": [
        {
          "output_type": "stream",
          "name": "stderr",
          "text": [
            "[nltk_data] Downloading package vader_lexicon to /root/nltk_data...\n",
            "[nltk_data]   Package vader_lexicon is already up-to-date!\n"
          ]
        }
      ]
    },
    {
      "cell_type": "code",
      "source": [
        "vader_df['vader_scores'] = vader_df['Comment'].apply(lambda Comment: sid.polarity_scores(Comment))\n",
        "vader_df.head()"
      ],
      "metadata": {
        "colab": {
          "base_uri": "https://localhost:8080/",
          "height": 528
        },
        "id": "ywOe5tSatkIB",
        "outputId": "413b6763-6e5a-4ebe-df1c-551072836a14"
      },
      "execution_count": 37,
      "outputs": [
        {
          "output_type": "stream",
          "name": "stderr",
          "text": [
            "<ipython-input-37-89412567477f>:1: SettingWithCopyWarning: \n",
            "A value is trying to be set on a copy of a slice from a DataFrame.\n",
            "Try using .loc[row_indexer,col_indexer] = value instead\n",
            "\n",
            "See the caveats in the documentation: https://pandas.pydata.org/pandas-docs/stable/user_guide/indexing.html#returning-a-view-versus-a-copy\n",
            "  vader_df['vader_scores'] = vader_df['Comment'].apply(lambda Comment: sid.polarity_scores(Comment))\n"
          ]
        },
        {
          "output_type": "execute_result",
          "data": {
            "text/plain": [
              "                    Author                                            Comment  \\\n",
              "0              Rick Astley  1 billion views for never gonna give you up am...   \n",
              "1                      H1K     this isnt your first time here and you know it   \n",
              "6                    Dylan  its come to the point that being rickrolled is...   \n",
              "7   Space Shuttle Atlantis  memes aside even after 13 years this song stil...   \n",
              "11            Amelia Honey  this has been the most amazing rick roll i hav...   \n",
              "\n",
              "               Timestamp    Likes  TotalReplies Language  TextBlob_Polarity  \\\n",
              "0   2021-07-28T21:00:32Z  1166470           497  English           0.333333   \n",
              "1   2019-10-31T21:38:49Z   993653           494  English           0.250000   \n",
              "6   2019-12-13T18:58:53Z   157770           490  English           0.000000   \n",
              "7   2022-12-31T17:13:19Z      262            18  English           0.366667   \n",
              "11  2022-05-13T22:16:45Z     1111            45  English           0.550000   \n",
              "\n",
              "   TextBlob_Sentiment_Type                                       vader_scores  \\\n",
              "0                 POSITIVE  {'neg': 0.127, 'neu': 0.476, 'pos': 0.397, 'co...   \n",
              "1                 POSITIVE  {'neg': 0.0, 'neu': 1.0, 'pos': 0.0, 'compound...   \n",
              "6                  NEUTRAL  {'neg': 0.0, 'neu': 0.783, 'pos': 0.217, 'comp...   \n",
              "7                 POSITIVE  {'neg': 0.0, 'neu': 0.791, 'pos': 0.209, 'comp...   \n",
              "11                POSITIVE  {'neg': 0.133, 'neu': 0.542, 'pos': 0.325, 'co...   \n",
              "\n",
              "    compound vader_sentiment_type  \n",
              "0     0.7269             POSITIVE  \n",
              "1     0.0000              NEUTRAL  \n",
              "6     0.3612             POSITIVE  \n",
              "7     0.7650             POSITIVE  \n",
              "11    0.5984             POSITIVE  "
            ],
            "text/html": [
              "\n",
              "  <div id=\"df-806e0620-5f07-494f-adf3-ab843553086b\">\n",
              "    <div class=\"colab-df-container\">\n",
              "      <div>\n",
              "<style scoped>\n",
              "    .dataframe tbody tr th:only-of-type {\n",
              "        vertical-align: middle;\n",
              "    }\n",
              "\n",
              "    .dataframe tbody tr th {\n",
              "        vertical-align: top;\n",
              "    }\n",
              "\n",
              "    .dataframe thead th {\n",
              "        text-align: right;\n",
              "    }\n",
              "</style>\n",
              "<table border=\"1\" class=\"dataframe\">\n",
              "  <thead>\n",
              "    <tr style=\"text-align: right;\">\n",
              "      <th></th>\n",
              "      <th>Author</th>\n",
              "      <th>Comment</th>\n",
              "      <th>Timestamp</th>\n",
              "      <th>Likes</th>\n",
              "      <th>TotalReplies</th>\n",
              "      <th>Language</th>\n",
              "      <th>TextBlob_Polarity</th>\n",
              "      <th>TextBlob_Sentiment_Type</th>\n",
              "      <th>vader_scores</th>\n",
              "      <th>compound</th>\n",
              "      <th>vader_sentiment_type</th>\n",
              "    </tr>\n",
              "  </thead>\n",
              "  <tbody>\n",
              "    <tr>\n",
              "      <th>0</th>\n",
              "      <td>Rick Astley</td>\n",
              "      <td>1 billion views for never gonna give you up am...</td>\n",
              "      <td>2021-07-28T21:00:32Z</td>\n",
              "      <td>1166470</td>\n",
              "      <td>497</td>\n",
              "      <td>English</td>\n",
              "      <td>0.333333</td>\n",
              "      <td>POSITIVE</td>\n",
              "      <td>{'neg': 0.127, 'neu': 0.476, 'pos': 0.397, 'co...</td>\n",
              "      <td>0.7269</td>\n",
              "      <td>POSITIVE</td>\n",
              "    </tr>\n",
              "    <tr>\n",
              "      <th>1</th>\n",
              "      <td>H1K</td>\n",
              "      <td>this isnt your first time here and you know it</td>\n",
              "      <td>2019-10-31T21:38:49Z</td>\n",
              "      <td>993653</td>\n",
              "      <td>494</td>\n",
              "      <td>English</td>\n",
              "      <td>0.250000</td>\n",
              "      <td>POSITIVE</td>\n",
              "      <td>{'neg': 0.0, 'neu': 1.0, 'pos': 0.0, 'compound...</td>\n",
              "      <td>0.0000</td>\n",
              "      <td>NEUTRAL</td>\n",
              "    </tr>\n",
              "    <tr>\n",
              "      <th>6</th>\n",
              "      <td>Dylan</td>\n",
              "      <td>its come to the point that being rickrolled is...</td>\n",
              "      <td>2019-12-13T18:58:53Z</td>\n",
              "      <td>157770</td>\n",
              "      <td>490</td>\n",
              "      <td>English</td>\n",
              "      <td>0.000000</td>\n",
              "      <td>NEUTRAL</td>\n",
              "      <td>{'neg': 0.0, 'neu': 0.783, 'pos': 0.217, 'comp...</td>\n",
              "      <td>0.3612</td>\n",
              "      <td>POSITIVE</td>\n",
              "    </tr>\n",
              "    <tr>\n",
              "      <th>7</th>\n",
              "      <td>Space Shuttle Atlantis</td>\n",
              "      <td>memes aside even after 13 years this song stil...</td>\n",
              "      <td>2022-12-31T17:13:19Z</td>\n",
              "      <td>262</td>\n",
              "      <td>18</td>\n",
              "      <td>English</td>\n",
              "      <td>0.366667</td>\n",
              "      <td>POSITIVE</td>\n",
              "      <td>{'neg': 0.0, 'neu': 0.791, 'pos': 0.209, 'comp...</td>\n",
              "      <td>0.7650</td>\n",
              "      <td>POSITIVE</td>\n",
              "    </tr>\n",
              "    <tr>\n",
              "      <th>11</th>\n",
              "      <td>Amelia Honey</td>\n",
              "      <td>this has been the most amazing rick roll i hav...</td>\n",
              "      <td>2022-05-13T22:16:45Z</td>\n",
              "      <td>1111</td>\n",
              "      <td>45</td>\n",
              "      <td>English</td>\n",
              "      <td>0.550000</td>\n",
              "      <td>POSITIVE</td>\n",
              "      <td>{'neg': 0.133, 'neu': 0.542, 'pos': 0.325, 'co...</td>\n",
              "      <td>0.5984</td>\n",
              "      <td>POSITIVE</td>\n",
              "    </tr>\n",
              "  </tbody>\n",
              "</table>\n",
              "</div>\n",
              "      <button class=\"colab-df-convert\" onclick=\"convertToInteractive('df-806e0620-5f07-494f-adf3-ab843553086b')\"\n",
              "              title=\"Convert this dataframe to an interactive table.\"\n",
              "              style=\"display:none;\">\n",
              "        \n",
              "  <svg xmlns=\"http://www.w3.org/2000/svg\" height=\"24px\"viewBox=\"0 0 24 24\"\n",
              "       width=\"24px\">\n",
              "    <path d=\"M0 0h24v24H0V0z\" fill=\"none\"/>\n",
              "    <path d=\"M18.56 5.44l.94 2.06.94-2.06 2.06-.94-2.06-.94-.94-2.06-.94 2.06-2.06.94zm-11 1L8.5 8.5l.94-2.06 2.06-.94-2.06-.94L8.5 2.5l-.94 2.06-2.06.94zm10 10l.94 2.06.94-2.06 2.06-.94-2.06-.94-.94-2.06-.94 2.06-2.06.94z\"/><path d=\"M17.41 7.96l-1.37-1.37c-.4-.4-.92-.59-1.43-.59-.52 0-1.04.2-1.43.59L10.3 9.45l-7.72 7.72c-.78.78-.78 2.05 0 2.83L4 21.41c.39.39.9.59 1.41.59.51 0 1.02-.2 1.41-.59l7.78-7.78 2.81-2.81c.8-.78.8-2.07 0-2.86zM5.41 20L4 18.59l7.72-7.72 1.47 1.35L5.41 20z\"/>\n",
              "  </svg>\n",
              "      </button>\n",
              "      \n",
              "  <style>\n",
              "    .colab-df-container {\n",
              "      display:flex;\n",
              "      flex-wrap:wrap;\n",
              "      gap: 12px;\n",
              "    }\n",
              "\n",
              "    .colab-df-convert {\n",
              "      background-color: #E8F0FE;\n",
              "      border: none;\n",
              "      border-radius: 50%;\n",
              "      cursor: pointer;\n",
              "      display: none;\n",
              "      fill: #1967D2;\n",
              "      height: 32px;\n",
              "      padding: 0 0 0 0;\n",
              "      width: 32px;\n",
              "    }\n",
              "\n",
              "    .colab-df-convert:hover {\n",
              "      background-color: #E2EBFA;\n",
              "      box-shadow: 0px 1px 2px rgba(60, 64, 67, 0.3), 0px 1px 3px 1px rgba(60, 64, 67, 0.15);\n",
              "      fill: #174EA6;\n",
              "    }\n",
              "\n",
              "    [theme=dark] .colab-df-convert {\n",
              "      background-color: #3B4455;\n",
              "      fill: #D2E3FC;\n",
              "    }\n",
              "\n",
              "    [theme=dark] .colab-df-convert:hover {\n",
              "      background-color: #434B5C;\n",
              "      box-shadow: 0px 1px 3px 1px rgba(0, 0, 0, 0.15);\n",
              "      filter: drop-shadow(0px 1px 2px rgba(0, 0, 0, 0.3));\n",
              "      fill: #FFFFFF;\n",
              "    }\n",
              "  </style>\n",
              "\n",
              "      <script>\n",
              "        const buttonEl =\n",
              "          document.querySelector('#df-806e0620-5f07-494f-adf3-ab843553086b button.colab-df-convert');\n",
              "        buttonEl.style.display =\n",
              "          google.colab.kernel.accessAllowed ? 'block' : 'none';\n",
              "\n",
              "        async function convertToInteractive(key) {\n",
              "          const element = document.querySelector('#df-806e0620-5f07-494f-adf3-ab843553086b');\n",
              "          const dataTable =\n",
              "            await google.colab.kernel.invokeFunction('convertToInteractive',\n",
              "                                                     [key], {});\n",
              "          if (!dataTable) return;\n",
              "\n",
              "          const docLinkHtml = 'Like what you see? Visit the ' +\n",
              "            '<a target=\"_blank\" href=https://colab.research.google.com/notebooks/data_table.ipynb>data table notebook</a>'\n",
              "            + ' to learn more about interactive tables.';\n",
              "          element.innerHTML = '';\n",
              "          dataTable['output_type'] = 'display_data';\n",
              "          await google.colab.output.renderOutput(dataTable, element);\n",
              "          const docLink = document.createElement('div');\n",
              "          docLink.innerHTML = docLinkHtml;\n",
              "          element.appendChild(docLink);\n",
              "        }\n",
              "      </script>\n",
              "    </div>\n",
              "  </div>\n",
              "  "
            ]
          },
          "metadata": {},
          "execution_count": 37
        }
      ]
    },
    {
      "cell_type": "code",
      "source": [
        "vader_df['compound'] = vader_df['vader_scores'].apply(lambda score_dict: score_dict['compound'])\n",
        "df['vader_sentiment_type']=''\n",
        "df.loc[df.compound>0,'vader_sentiment_type']='POSITIVE'\n",
        "df.loc[df.compound==0,'vader_sentiment_type']='NEUTRAL'\n",
        "df.loc[df.compound<0,'vader_sentiment_type']='NEGATIVE'"
      ],
      "metadata": {
        "colab": {
          "base_uri": "https://localhost:8080/"
        },
        "id": "_LA4-7WYu2Ne",
        "outputId": "e9636963-3a33-48ec-8a15-cf71400ef337"
      },
      "execution_count": 38,
      "outputs": [
        {
          "output_type": "stream",
          "name": "stderr",
          "text": [
            "<ipython-input-38-6a0db8ea0467>:1: SettingWithCopyWarning: \n",
            "A value is trying to be set on a copy of a slice from a DataFrame.\n",
            "Try using .loc[row_indexer,col_indexer] = value instead\n",
            "\n",
            "See the caveats in the documentation: https://pandas.pydata.org/pandas-docs/stable/user_guide/indexing.html#returning-a-view-versus-a-copy\n",
            "  vader_df['compound'] = vader_df['vader_scores'].apply(lambda score_dict: score_dict['compound'])\n"
          ]
        }
      ]
    },
    {
      "cell_type": "code",
      "source": [
        "vader_df.vader_sentiment_type.value_counts()"
      ],
      "metadata": {
        "colab": {
          "base_uri": "https://localhost:8080/"
        },
        "id": "wAIbc8IzvYr7",
        "outputId": "7d816609-b326-4d13-82f3-6f6361814e77"
      },
      "execution_count": 39,
      "outputs": [
        {
          "output_type": "execute_result",
          "data": {
            "text/plain": [
              "POSITIVE    24\n",
              "NEUTRAL     16\n",
              "NEGATIVE     5\n",
              "Name: vader_sentiment_type, dtype: int64"
            ]
          },
          "metadata": {},
          "execution_count": 39
        }
      ]
    },
    {
      "cell_type": "code",
      "source": [
        "vader_df.vader_sentiment_type.value_counts().plot(kind='bar',title=\"sentiment analysis\")"
      ],
      "metadata": {
        "colab": {
          "base_uri": "https://localhost:8080/",
          "height": 338
        },
        "id": "DvUbKI7puIPA",
        "outputId": "cd0afe05-0429-4f47-899e-276e8ce1a10b"
      },
      "execution_count": 40,
      "outputs": [
        {
          "output_type": "execute_result",
          "data": {
            "text/plain": [
              "<matplotlib.axes._subplots.AxesSubplot at 0x7feee8d60df0>"
            ]
          },
          "metadata": {},
          "execution_count": 40
        },
        {
          "output_type": "display_data",
          "data": {
            "text/plain": [
              "<Figure size 432x288 with 1 Axes>"
            ],
            "image/png": "[encoded data removed]"
          },
          "metadata": {
            "needs_background": "light"
          }
        }
      ]
    },
    {
      "cell_type": "markdown",
      "source": [
        "## Comparison"
      ],
      "metadata": {
        "id": "YHc1RvG110HP"
      }
    },
    {
      "cell_type": "code",
      "source": [
        "vader_df.groupby(['vader_sentiment_type']).head()"
      ],
      "metadata": {
        "colab": {
          "base_uri": "https://localhost:8080/",
          "height": 1000
        },
        "id": "3MUqoH0v12zL",
        "outputId": "59f7f6e1-b9ef-4954-af41-3128270a2b8d"
      },
      "execution_count": 35,
      "outputs": [
        {
          "output_type": "execute_result",
          "data": {
            "text/plain": [
              "                    Author                                            Comment  \\\n",
              "0              Rick Astley  1 billion views for never gonna give you up am...   \n",
              "1                      H1K     this isnt your first time here and you know it   \n",
              "6                    Dylan  its come to the point that being rickrolled is...   \n",
              "7   Space Shuttle Atlantis  memes aside even after 13 years this song stil...   \n",
              "11            Amelia Honey  this has been the most amazing rick roll i hav...   \n",
              "14               Seanyie16              greatest music video the 90s ever saw   \n",
              "16    dumb bee FBI edition  sometimes you just gotta rickroll yourself bec...   \n",
              "25          Steven Giraldo  i definitely did not just get rick rolled shut...   \n",
              "26  Andreea Pa'Mi Bananeea  i hope that this person has no idea how famous...   \n",
              "28                    Dddf              the most legendary youtube video ever   \n",
              "31                 Sumanth           13 billion views for never gonna give up   \n",
              "33          NEFFER•XRAY🧸♥️     this isnt your first time here and you know it   \n",
              "39                   Raga.  we got rickrolled so many times that we dont e...   \n",
              "49              Avinash R.  he looks like a normal teenager but his voice ...   \n",
              "50         ✘  ꧁ Stormi ꧂ ✘  honestly i love this song so whenever i get ri...   \n",
              "\n",
              "               Timestamp    Likes  TotalReplies Language  TextBlob_Polarity  \\\n",
              "0   2021-07-28T21:00:32Z  1166470           497  English           0.333333   \n",
              "1   2019-10-31T21:38:49Z   993653           494  English           0.250000   \n",
              "6   2019-12-13T18:58:53Z   157770           490  English           0.000000   \n",
              "7   2022-12-31T17:13:19Z      262            18  English           0.366667   \n",
              "11  2022-05-13T22:16:45Z     1111            45  English           0.550000   \n",
              "14  2023-01-01T15:58:01Z       67            13  English           1.000000   \n",
              "16  2019-07-23T06:54:55Z   143802           481  English           0.000000   \n",
              "25  2019-11-20T22:49:02Z   153058           494  English           0.000000   \n",
              "26  2023-01-01T16:00:59Z        9             1  English           0.250000   \n",
              "28  2023-01-02T22:00:21Z        2             0  English           0.750000   \n",
              "31  2023-01-02T17:20:41Z        4             3  English           0.000000   \n",
              "33  2022-12-31T11:34:10Z        3             0  English           0.250000   \n",
              "39  2019-11-20T05:28:53Z   255547           495  English           0.500000   \n",
              "49  2019-11-23T22:23:50Z   160268           493  English           0.150000   \n",
              "50  2022-12-31T19:04:50Z       41             4  English          -0.148397   \n",
              "\n",
              "   TextBlob_Sentiment_Type                                       vader_scores  \\\n",
              "0                 POSITIVE  {'neg': 0.127, 'neu': 0.476, 'pos': 0.397, 'co...   \n",
              "1                 POSITIVE  {'neg': 0.0, 'neu': 1.0, 'pos': 0.0, 'compound...   \n",
              "6                  NEUTRAL  {'neg': 0.0, 'neu': 0.783, 'pos': 0.217, 'comp...   \n",
              "7                 POSITIVE  {'neg': 0.0, 'neu': 0.791, 'pos': 0.209, 'comp...   \n",
              "11                POSITIVE  {'neg': 0.133, 'neu': 0.542, 'pos': 0.325, 'co...   \n",
              "14                POSITIVE  {'neg': 0.0, 'neu': 0.588, 'pos': 0.412, 'comp...   \n",
              "16                 NEUTRAL  {'neg': 0.18, 'neu': 0.82, 'pos': 0.0, 'compou...   \n",
              "25                 NEUTRAL  {'neg': 0.175, 'neu': 0.649, 'pos': 0.175, 'co...   \n",
              "26                POSITIVE  {'neg': 0.214, 'neu': 0.607, 'pos': 0.179, 'co...   \n",
              "28                POSITIVE  {'neg': 0.0, 'neu': 1.0, 'pos': 0.0, 'compound...   \n",
              "31                 NEUTRAL  {'neg': 0.0, 'neu': 1.0, 'pos': 0.0, 'compound...   \n",
              "33                POSITIVE  {'neg': 0.0, 'neu': 1.0, 'pos': 0.0, 'compound...   \n",
              "39                POSITIVE  {'neg': 0.193, 'neu': 0.807, 'pos': 0.0, 'comp...   \n",
              "49                POSITIVE  {'neg': 0.352, 'neu': 0.519, 'pos': 0.13, 'com...   \n",
              "50                NEGATIVE  {'neg': 0.144, 'neu': 0.785, 'pos': 0.07, 'com...   \n",
              "\n",
              "    compound vader_sentiment_type  \n",
              "0     0.7269             POSITIVE  \n",
              "1     0.0000              NEUTRAL  \n",
              "6     0.3612             POSITIVE  \n",
              "7     0.7650             POSITIVE  \n",
              "11    0.5984             POSITIVE  \n",
              "14    0.6369             POSITIVE  \n",
              "16   -0.2960             NEGATIVE  \n",
              "25    0.0000              NEUTRAL  \n",
              "26   -0.0772             NEGATIVE  \n",
              "28    0.0000              NEUTRAL  \n",
              "31    0.0000              NEUTRAL  \n",
              "33    0.0000              NEUTRAL  \n",
              "39   -0.3875             NEGATIVE  \n",
              "49   -0.6124             NEGATIVE  \n",
              "50   -0.9904             NEGATIVE  "
            ],
            "text/html": [
              "\n",
              "  <div id=\"df-af208368-2831-43d1-b5ae-11c077734db0\">\n",
              "    <div class=\"colab-df-container\">\n",
              "      <div>\n",
              "<style scoped>\n",
              "    .dataframe tbody tr th:only-of-type {\n",
              "        vertical-align: middle;\n",
              "    }\n",
              "\n",
              "    .dataframe tbody tr th {\n",
              "        vertical-align: top;\n",
              "    }\n",
              "\n",
              "    .dataframe thead th {\n",
              "        text-align: right;\n",
              "    }\n",
              "</style>\n",
              "<table border=\"1\" class=\"dataframe\">\n",
              "  <thead>\n",
              "    <tr style=\"text-align: right;\">\n",
              "      <th></th>\n",
              "      <th>Author</th>\n",
              "      <th>Comment</th>\n",
              "      <th>Timestamp</th>\n",
              "      <th>Likes</th>\n",
              "      <th>TotalReplies</th>\n",
              "      <th>Language</th>\n",
              "      <th>TextBlob_Polarity</th>\n",
              "      <th>TextBlob_Sentiment_Type</th>\n",
              "      <th>vader_scores</th>\n",
              "      <th>compound</th>\n",
              "      <th>vader_sentiment_type</th>\n",
              "    </tr>\n",
              "  </thead>\n",
              "  <tbody>\n",
              "    <tr>\n",
              "      <th>0</th>\n",
              "      <td>Rick Astley</td>\n",
              "      <td>1 billion views for never gonna give you up am...</td>\n",
              "      <td>2021-07-28T21:00:32Z</td>\n",
              "      <td>1166470</td>\n",
              "      <td>497</td>\n",
              "      <td>English</td>\n",
              "      <td>0.333333</td>\n",
              "      <td>POSITIVE</td>\n",
              "      <td>{'neg': 0.127, 'neu': 0.476, 'pos': 0.397, 'co...</td>\n",
              "      <td>0.7269</td>\n",
              "      <td>POSITIVE</td>\n",
              "    </tr>\n",
              "    <tr>\n",
              "      <th>1</th>\n",
              "      <td>H1K</td>\n",
              "      <td>this isnt your first time here and you know it</td>\n",
              "      <td>2019-10-31T21:38:49Z</td>\n",
              "      <td>993653</td>\n",
              "      <td>494</td>\n",
              "      <td>English</td>\n",
              "      <td>0.250000</td>\n",
              "      <td>POSITIVE</td>\n",
              "      <td>{'neg': 0.0, 'neu': 1.0, 'pos': 0.0, 'compound...</td>\n",
              "      <td>0.0000</td>\n",
              "      <td>NEUTRAL</td>\n",
              "    </tr>\n",
              "    <tr>\n",
              "      <th>6</th>\n",
              "      <td>Dylan</td>\n",
              "      <td>its come to the point that being rickrolled is...</td>\n",
              "      <td>2019-12-13T18:58:53Z</td>\n",
              "      <td>157770</td>\n",
              "      <td>490</td>\n",
              "      <td>English</td>\n",
              "      <td>0.000000</td>\n",
              "      <td>NEUTRAL</td>\n",
              "      <td>{'neg': 0.0, 'neu': 0.783, 'pos': 0.217, 'comp...</td>\n",
              "      <td>0.3612</td>\n",
              "      <td>POSITIVE</td>\n",
              "    </tr>\n",
              "    <tr>\n",
              "      <th>7</th>\n",
              "      <td>Space Shuttle Atlantis</td>\n",
              "      <td>memes aside even after 13 years this song stil...</td>\n",
              "      <td>2022-12-31T17:13:19Z</td>\n",
              "      <td>262</td>\n",
              "      <td>18</td>\n",
              "      <td>English</td>\n",
              "      <td>0.366667</td>\n",
              "      <td>POSITIVE</td>\n",
              "      <td>{'neg': 0.0, 'neu': 0.791, 'pos': 0.209, 'comp...</td>\n",
              "      <td>0.7650</td>\n",
              "      <td>POSITIVE</td>\n",
              "    </tr>\n",
              "    <tr>\n",
              "      <th>11</th>\n",
              "      <td>Amelia Honey</td>\n",
              "      <td>this has been the most amazing rick roll i hav...</td>\n",
              "      <td>2022-05-13T22:16:45Z</td>\n",
              "      <td>1111</td>\n",
              "      <td>45</td>\n",
              "      <td>English</td>\n",
              "      <td>0.550000</td>\n",
              "      <td>POSITIVE</td>\n",
              "      <td>{'neg': 0.133, 'neu': 0.542, 'pos': 0.325, 'co...</td>\n",
              "      <td>0.5984</td>\n",
              "      <td>POSITIVE</td>\n",
              "    </tr>\n",
              "    <tr>\n",
              "      <th>14</th>\n",
              "      <td>Seanyie16</td>\n",
              "      <td>greatest music video the 90s ever saw</td>\n",
              "      <td>2023-01-01T15:58:01Z</td>\n",
              "      <td>67</td>\n",
              "      <td>13</td>\n",
              "      <td>English</td>\n",
              "      <td>1.000000</td>\n",
              "      <td>POSITIVE</td>\n",
              "      <td>{'neg': 0.0, 'neu': 0.588, 'pos': 0.412, 'comp...</td>\n",
              "      <td>0.6369</td>\n",
              "      <td>POSITIVE</td>\n",
              "    </tr>\n",
              "    <tr>\n",
              "      <th>16</th>\n",
              "      <td>dumb bee FBI edition</td>\n",
              "      <td>sometimes you just gotta rickroll yourself bec...</td>\n",
              "      <td>2019-07-23T06:54:55Z</td>\n",
              "      <td>143802</td>\n",
              "      <td>481</td>\n",
              "      <td>English</td>\n",
              "      <td>0.000000</td>\n",
              "      <td>NEUTRAL</td>\n",
              "      <td>{'neg': 0.18, 'neu': 0.82, 'pos': 0.0, 'compou...</td>\n",
              "      <td>-0.2960</td>\n",
              "      <td>NEGATIVE</td>\n",
              "    </tr>\n",
              "    <tr>\n",
              "      <th>25</th>\n",
              "      <td>Steven Giraldo</td>\n",
              "      <td>i definitely did not just get rick rolled shut...</td>\n",
              "      <td>2019-11-20T22:49:02Z</td>\n",
              "      <td>153058</td>\n",
              "      <td>494</td>\n",
              "      <td>English</td>\n",
              "      <td>0.000000</td>\n",
              "      <td>NEUTRAL</td>\n",
              "      <td>{'neg': 0.175, 'neu': 0.649, 'pos': 0.175, 'co...</td>\n",
              "      <td>0.0000</td>\n",
              "      <td>NEUTRAL</td>\n",
              "    </tr>\n",
              "    <tr>\n",
              "      <th>26</th>\n",
              "      <td>Andreea Pa'Mi Bananeea</td>\n",
              "      <td>i hope that this person has no idea how famous...</td>\n",
              "      <td>2023-01-01T16:00:59Z</td>\n",
              "      <td>9</td>\n",
              "      <td>1</td>\n",
              "      <td>English</td>\n",
              "      <td>0.250000</td>\n",
              "      <td>POSITIVE</td>\n",
              "      <td>{'neg': 0.214, 'neu': 0.607, 'pos': 0.179, 'co...</td>\n",
              "      <td>-0.0772</td>\n",
              "      <td>NEGATIVE</td>\n",
              "    </tr>\n",
              "    <tr>\n",
              "      <th>28</th>\n",
              "      <td>Dddf</td>\n",
              "      <td>the most legendary youtube video ever</td>\n",
              "      <td>2023-01-02T22:00:21Z</td>\n",
              "      <td>2</td>\n",
              "      <td>0</td>\n",
              "      <td>English</td>\n",
              "      <td>0.750000</td>\n",
              "      <td>POSITIVE</td>\n",
              "      <td>{'neg': 0.0, 'neu': 1.0, 'pos': 0.0, 'compound...</td>\n",
              "      <td>0.0000</td>\n",
              "      <td>NEUTRAL</td>\n",
              "    </tr>\n",
              "    <tr>\n",
              "      <th>31</th>\n",
              "      <td>Sumanth</td>\n",
              "      <td>13 billion views for never gonna give up</td>\n",
              "      <td>2023-01-02T17:20:41Z</td>\n",
              "      <td>4</td>\n",
              "      <td>3</td>\n",
              "      <td>English</td>\n",
              "      <td>0.000000</td>\n",
              "      <td>NEUTRAL</td>\n",
              "      <td>{'neg': 0.0, 'neu': 1.0, 'pos': 0.0, 'compound...</td>\n",
              "      <td>0.0000</td>\n",
              "      <td>NEUTRAL</td>\n",
              "    </tr>\n",
              "    <tr>\n",
              "      <th>33</th>\n",
              "      <td>NEFFER•XRAY🧸♥️</td>\n",
              "      <td>this isnt your first time here and you know it</td>\n",
              "      <td>2022-12-31T11:34:10Z</td>\n",
              "      <td>3</td>\n",
              "      <td>0</td>\n",
              "      <td>English</td>\n",
              "      <td>0.250000</td>\n",
              "      <td>POSITIVE</td>\n",
              "      <td>{'neg': 0.0, 'neu': 1.0, 'pos': 0.0, 'compound...</td>\n",
              "      <td>0.0000</td>\n",
              "      <td>NEUTRAL</td>\n",
              "    </tr>\n",
              "    <tr>\n",
              "      <th>39</th>\n",
              "      <td>Raga.</td>\n",
              "      <td>we got rickrolled so many times that we dont e...</td>\n",
              "      <td>2019-11-20T05:28:53Z</td>\n",
              "      <td>255547</td>\n",
              "      <td>495</td>\n",
              "      <td>English</td>\n",
              "      <td>0.500000</td>\n",
              "      <td>POSITIVE</td>\n",
              "      <td>{'neg': 0.193, 'neu': 0.807, 'pos': 0.0, 'comp...</td>\n",
              "      <td>-0.3875</td>\n",
              "      <td>NEGATIVE</td>\n",
              "    </tr>\n",
              "    <tr>\n",
              "      <th>49</th>\n",
              "      <td>Avinash R.</td>\n",
              "      <td>he looks like a normal teenager but his voice ...</td>\n",
              "      <td>2019-11-23T22:23:50Z</td>\n",
              "      <td>160268</td>\n",
              "      <td>493</td>\n",
              "      <td>English</td>\n",
              "      <td>0.150000</td>\n",
              "      <td>POSITIVE</td>\n",
              "      <td>{'neg': 0.352, 'neu': 0.519, 'pos': 0.13, 'com...</td>\n",
              "      <td>-0.6124</td>\n",
              "      <td>NEGATIVE</td>\n",
              "    </tr>\n",
              "    <tr>\n",
              "      <th>50</th>\n",
              "      <td>✘  ꧁ Stormi ꧂ ✘</td>\n",
              "      <td>honestly i love this song so whenever i get ri...</td>\n",
              "      <td>2022-12-31T19:04:50Z</td>\n",
              "      <td>41</td>\n",
              "      <td>4</td>\n",
              "      <td>English</td>\n",
              "      <td>-0.148397</td>\n",
              "      <td>NEGATIVE</td>\n",
              "      <td>{'neg': 0.144, 'neu': 0.785, 'pos': 0.07, 'com...</td>\n",
              "      <td>-0.9904</td>\n",
              "      <td>NEGATIVE</td>\n",
              "    </tr>\n",
              "  </tbody>\n",
              "</table>\n",
              "</div>\n",
              "      <button class=\"colab-df-convert\" onclick=\"convertToInteractive('df-af208368-2831-43d1-b5ae-11c077734db0')\"\n",
              "              title=\"Convert this dataframe to an interactive table.\"\n",
              "              style=\"display:none;\">\n",
              "        \n",
              "  <svg xmlns=\"http://www.w3.org/2000/svg\" height=\"24px\"viewBox=\"0 0 24 24\"\n",
              "       width=\"24px\">\n",
              "    <path d=\"M0 0h24v24H0V0z\" fill=\"none\"/>\n",
              "    <path d=\"M18.56 5.44l.94 2.06.94-2.06 2.06-.94-2.06-.94-.94-2.06-.94 2.06-2.06.94zm-11 1L8.5 8.5l.94-2.06 2.06-.94-2.06-.94L8.5 2.5l-.94 2.06-2.06.94zm10 10l.94 2.06.94-2.06 2.06-.94-2.06-.94-.94-2.06-.94 2.06-2.06.94z\"/><path d=\"M17.41 7.96l-1.37-1.37c-.4-.4-.92-.59-1.43-.59-.52 0-1.04.2-1.43.59L10.3 9.45l-7.72 7.72c-.78.78-.78 2.05 0 2.83L4 21.41c.39.39.9.59 1.41.59.51 0 1.02-.2 1.41-.59l7.78-7.78 2.81-2.81c.8-.78.8-2.07 0-2.86zM5.41 20L4 18.59l7.72-7.72 1.47 1.35L5.41 20z\"/>\n",
              "  </svg>\n",
              "      </button>\n",
              "      \n",
              "  <style>\n",
              "    .colab-df-container {\n",
              "      display:flex;\n",
              "      flex-wrap:wrap;\n",
              "      gap: 12px;\n",
              "    }\n",
              "\n",
              "    .colab-df-convert {\n",
              "      background-color: #E8F0FE;\n",
              "      border: none;\n",
              "      border-radius: 50%;\n",
              "      cursor: pointer;\n",
              "      display: none;\n",
              "      fill: #1967D2;\n",
              "      height: 32px;\n",
              "      padding: 0 0 0 0;\n",
              "      width: 32px;\n",
              "    }\n",
              "\n",
              "    .colab-df-convert:hover {\n",
              "      background-color: #E2EBFA;\n",
              "      box-shadow: 0px 1px 2px rgba(60, 64, 67, 0.3), 0px 1px 3px 1px rgba(60, 64, 67, 0.15);\n",
              "      fill: #174EA6;\n",
              "    }\n",
              "\n",
              "    [theme=dark] .colab-df-convert {\n",
              "      background-color: #3B4455;\n",
              "      fill: #D2E3FC;\n",
              "    }\n",
              "\n",
              "    [theme=dark] .colab-df-convert:hover {\n",
              "      background-color: #434B5C;\n",
              "      box-shadow: 0px 1px 3px 1px rgba(0, 0, 0, 0.15);\n",
              "      filter: drop-shadow(0px 1px 2px rgba(0, 0, 0, 0.3));\n",
              "      fill: #FFFFFF;\n",
              "    }\n",
              "  </style>\n",
              "\n",
              "      <script>\n",
              "        const buttonEl =\n",
              "          document.querySelector('#df-af208368-2831-43d1-b5ae-11c077734db0 button.colab-df-convert');\n",
              "        buttonEl.style.display =\n",
              "          google.colab.kernel.accessAllowed ? 'block' : 'none';\n",
              "\n",
              "        async function convertToInteractive(key) {\n",
              "          const element = document.querySelector('#df-af208368-2831-43d1-b5ae-11c077734db0');\n",
              "          const dataTable =\n",
              "            await google.colab.kernel.invokeFunction('convertToInteractive',\n",
              "                                                     [key], {});\n",
              "          if (!dataTable) return;\n",
              "\n",
              "          const docLinkHtml = 'Like what you see? Visit the ' +\n",
              "            '<a target=\"_blank\" href=https://colab.research.google.com/notebooks/data_table.ipynb>data table notebook</a>'\n",
              "            + ' to learn more about interactive tables.';\n",
              "          element.innerHTML = '';\n",
              "          dataTable['output_type'] = 'display_data';\n",
              "          await google.colab.output.renderOutput(dataTable, element);\n",
              "          const docLink = document.createElement('div');\n",
              "          docLink.innerHTML = docLinkHtml;\n",
              "          element.appendChild(docLink);\n",
              "        }\n",
              "      </script>\n",
              "    </div>\n",
              "  </div>\n",
              "  "
            ]
          },
          "metadata": {},
          "execution_count": 35
        }
      ]
    },
    {
      "cell_type": "markdown",
      "source": [
        "After the initial analysis and visual inspection. I think TextBlob is closer to the sentiment outcomes that I expect. Hence picking TextBlob for Sentiment analysis."
      ],
      "metadata": {
        "id": "OSY2TefT7kcN"
      }
    },
    {
      "cell_type": "markdown",
      "source": [
        "# DASHBOARD"
      ],
      "metadata": {
        "id": "MjJg8Eum8H-4"
      }
    },
    {
      "cell_type": "markdown",
      "source": [
        "A few insights that we draw:\n",
        "1. Top 10 liked comments\n",
        "2. Top 10 replies comments\n",
        "3. World Cloud\n",
        "4. Top languages commented in\n",
        "5. Sentiment analysis on the English comments"
      ],
      "metadata": {
        "id": "eSOhuC2K8LDM"
      }
    },
    {
      "cell_type": "markdown",
      "source": [
        "## FUNCTIONS"
      ],
      "metadata": {
        "id": "Mur22aN1D6hD"
      }
    },
    {
      "cell_type": "code",
      "source": [
        "url = 'https://www.youtube.com/watch?v=dQw4w9WgXcQ'"
      ],
      "metadata": {
        "id": "xHO2i54SErwI"
      },
      "execution_count": 41,
      "outputs": []
    },
    {
      "cell_type": "code",
      "source": [
        "video_id = url.split('?v=')[-1]\n",
        "video_id"
      ],
      "metadata": {
        "colab": {
          "base_uri": "https://localhost:8080/",
          "height": 36
        },
        "id": "iyGSYm9_Ersu",
        "outputId": "bef985db-4704-4f66-b479-2c9bf205e597"
      },
      "execution_count": 42,
      "outputs": [
        {
          "output_type": "execute_result",
          "data": {
            "text/plain": [
              "'dQw4w9WgXcQ'"
            ],
            "application/vnd.google.colaboratory.intrinsic+json": {
              "type": "string"
            }
          },
          "metadata": {},
          "execution_count": 42
        }
      ]
    },
    {
      "cell_type": "code",
      "source": [
        "from googleapiclient.discovery import build\n",
        "import pandas as pd\n",
        "from cleantext import clean\n",
        "from langdetect import detect\n",
        "import pycountry\n",
        "from nltk.sentiment.util import *\n",
        "from textblob import TextBlob\n",
        "from nltk import tokenize\n",
        "\n",
        "def get_polarity(text):\n",
        "  return TextBlob(text).sentiment.polarity\n",
        "\n",
        "def parse_video(url) -> pd.DataFrame:\n",
        "  \"\"\"\n",
        "  Args:\n",
        "    url: URL Of the video to be parsed \n",
        "  Returns:\n",
        "    Dataframe with the processed and cleaned values\n",
        "  \"\"\"\n",
        "  api_key = '{api_secret}'\n",
        "  \n",
        "  # Get the video_id from the url\n",
        "  video_id = url.split('?v=')[-1]\n",
        "\n",
        "  # creating youtube resource object\n",
        "  youtube = build('youtube', 'v3',\n",
        "  developerKey=api_key)\n",
        "\n",
        "  # retrieve youtube video results\n",
        "  video_response=youtube.commentThreads().list(\n",
        "  part='snippet',\n",
        "  maxResults=1000,\n",
        "  order='relevance',\n",
        "  videoId=video_id\n",
        "  ).execute()\n",
        "\n",
        "  # empty list for storing reply\n",
        "  comments = []\n",
        "\n",
        "  # extracting required info from each result object\n",
        "  for item in video_response['items']:\n",
        "\n",
        "    # Extracting comments\n",
        "    comment = item['snippet']['topLevelComment']['snippet']['textOriginal']\n",
        "    # Extracting author\n",
        "    author = item['snippet']['topLevelComment']['snippet']['authorDisplayName']\n",
        "    # Extracting published time\n",
        "    published_at = item['snippet']['topLevelComment']['snippet']['publishedAt']\n",
        "    # Extracting likes\n",
        "    like_count = item['snippet']['topLevelComment']['snippet']['likeCount']\n",
        "    # Extracting total replies to the comment\n",
        "    reply_count = item['snippet']['totalReplyCount']\n",
        "\n",
        "    comments.append([author, comment, published_at, like_count, reply_count])\n",
        "  \n",
        "  df = pd.DataFrame({'Author': [i[0] for i in comments], \n",
        "                     'Comment': [i[1] for i in comments], \n",
        "                     'Timestamp': [i[2] for i in comments],\n",
        "                  'Likes': [i[3] for i in comments], \n",
        "                  'TotalReplies': [i[4] for i in comments]})\n",
        "  \n",
        "  # Remove extra spaces and make them lower case. Replace special emojis\n",
        "  df['Comment'] = df['Comment'].apply(lambda x: x.strip().lower().\n",
        "                                      replace('xd','').replace('<3',''))\n",
        "\n",
        "  # Clean text from line breaks, unicodes, emojis and punctuations\n",
        "  df['Comment'] = df['Comment'].apply(lambda x: clean(x, \n",
        "                                                      no_emoji=True, \n",
        "                                                      no_punct=True,\n",
        "                                                      no_line_breaks=True,\n",
        "                                                      fix_unicode=True))\n",
        "  \n",
        "  # Detect the languages of the comments\n",
        "  df['Language'] = df['Comment'].apply(lambda x: detect(x))\n",
        "\n",
        "  # Convert ISO country codes to Languages\n",
        "  df['Language'] = df['Language'].apply(lambda x: \n",
        "                                        pycountry.languages.get(alpha_2=x).name)\n",
        "  \n",
        "  # New variable for TextBlob approach\n",
        "  textBlob = df.loc[df['Language']=='English']\n",
        "\n",
        "  # Determining the polarity\n",
        "  textBlob['TextBlob_Polarity'] = textBlob['Comment'].apply(get_polarity)\n",
        "\n",
        "  textBlob['TextBlob_Sentiment_Type']=''\n",
        "  textBlob.loc[textBlob.TextBlob_Polarity>0,'TextBlob_Sentiment_Type']='POSITIVE'\n",
        "  textBlob.loc[textBlob.TextBlob_Polarity==0,'TextBlob_Sentiment_Type']='NEUTRAL'\n",
        "  textBlob.loc[textBlob.TextBlob_Polarity<0,'TextBlob_Sentiment_Type']='NEGATIVE'\n",
        "\n",
        "  return textBlob\n"
      ],
      "metadata": {
        "id": "CQSt7Ln8D6Lf"
      },
      "execution_count": null,
      "outputs": []
    },
    {
      "cell_type": "markdown",
      "source": [
        "## STREAMLIT"
      ],
      "metadata": {
        "id": "fxVadaOalxDE"
      }
    },
    {
      "cell_type": "code",
      "source": [
        "pip install streamlit"
      ],
      "metadata": {
        "colab": {
          "base_uri": "https://localhost:8080/"
        },
        "id": "PCRc27pYh-I3",
        "outputId": "c07f00fb-0d64-400f-8ec1-d88e30629dab"
      },
      "execution_count": null,
      "outputs": [
        {
          "output_type": "stream",
          "name": "stdout",
          "text": [
            "Looking in indexes: https://pypi.org/simple, https://us-python.pkg.dev/colab-wheels/public/simple/\n",
            "Collecting streamlit\n",
            "  Downloading streamlit-1.16.0-py2.py3-none-any.whl (9.2 MB)\n",
            "\u001b[K     |████████████████████████████████| 9.2 MB 12.5 MB/s \n",
            "\u001b[?25hCollecting watchdog\n",
            "  Downloading watchdog-2.2.1-py3-none-manylinux2014_x86_64.whl (78 kB)\n",
            "\u001b[K     |████████████████████████████████| 78 kB 9.8 MB/s \n",
            "\u001b[?25hRequirement already satisfied: tzlocal>=1.1 in /usr/local/lib/python3.8/dist-packages (from streamlit) (1.5.1)\n",
            "Requirement already satisfied: typing-extensions>=3.10.0.0 in /usr/local/lib/python3.8/dist-packages (from streamlit) (4.4.0)\n",
            "Collecting gitpython!=3.1.19\n",
            "  Downloading GitPython-3.1.30-py3-none-any.whl (184 kB)\n",
            "\u001b[K     |████████████████████████████████| 184 kB 98.7 MB/s \n",
            "\u001b[?25hRequirement already satisfied: numpy in /usr/local/lib/python3.8/dist-packages (from streamlit) (1.21.6)\n",
            "Requirement already satisfied: python-dateutil in /usr/local/lib/python3.8/dist-packages (from streamlit) (2.8.2)\n",
            "Requirement already satisfied: toml in /usr/local/lib/python3.8/dist-packages (from streamlit) (0.10.2)\n",
            "Requirement already satisfied: cachetools>=4.0 in /usr/local/lib/python3.8/dist-packages (from streamlit) (5.2.0)\n",
            "Collecting blinker>=1.0.0\n",
            "  Downloading blinker-1.5-py2.py3-none-any.whl (12 kB)\n",
            "Requirement already satisfied: tornado>=5.0 in /usr/local/lib/python3.8/dist-packages (from streamlit) (6.0.4)\n",
            "Requirement already satisfied: pyarrow>=4.0 in /usr/local/lib/python3.8/dist-packages (from streamlit) (9.0.0)\n",
            "Collecting pympler>=0.9\n",
            "  Downloading Pympler-1.0.1-py3-none-any.whl (164 kB)\n",
            "\u001b[K     |████████████████████████████████| 164 kB 110.5 MB/s \n",
            "\u001b[?25hRequirement already satisfied: importlib-metadata>=1.4 in /usr/local/lib/python3.8/dist-packages (from streamlit) (5.1.0)\n",
            "Requirement already satisfied: pandas>=0.21.0 in /usr/local/lib/python3.8/dist-packages (from streamlit) (1.3.5)\n",
            "Requirement already satisfied: packaging>=14.1 in /usr/local/lib/python3.8/dist-packages (from streamlit) (21.3)\n",
            "Requirement already satisfied: pillow>=6.2.0 in /usr/local/lib/python3.8/dist-packages (from streamlit) (7.1.2)\n",
            "Requirement already satisfied: requests>=2.4 in /usr/local/lib/python3.8/dist-packages (from streamlit) (2.23.0)\n",
            "Collecting semver\n",
            "  Downloading semver-2.13.0-py2.py3-none-any.whl (12 kB)\n",
            "Collecting rich>=10.11.0\n",
            "  Downloading rich-13.0.0-py3-none-any.whl (238 kB)\n",
            "\u001b[K     |████████████████████████████████| 238 kB 73.7 MB/s \n",
            "\u001b[?25hRequirement already satisfied: altair>=3.2.0 in /usr/local/lib/python3.8/dist-packages (from streamlit) (4.2.0)\n",
            "Collecting pydeck>=0.1.dev5\n",
            "  Downloading pydeck-0.8.0-py2.py3-none-any.whl (4.7 MB)\n",
            "\u001b[K     |████████████████████████████████| 4.7 MB 91.3 MB/s \n",
            "\u001b[?25hRequirement already satisfied: click>=7.0 in /usr/local/lib/python3.8/dist-packages (from streamlit) (7.1.2)\n",
            "Collecting validators>=0.2\n",
            "  Downloading validators-0.20.0.tar.gz (30 kB)\n",
            "Requirement already satisfied: protobuf<4,>=3.12 in /usr/local/lib/python3.8/dist-packages (from streamlit) (3.19.6)\n",
            "Requirement already satisfied: entrypoints in /usr/local/lib/python3.8/dist-packages (from altair>=3.2.0->streamlit) (0.4)\n",
            "Requirement already satisfied: toolz in /usr/local/lib/python3.8/dist-packages (from altair>=3.2.0->streamlit) (0.12.0)\n",
            "Requirement already satisfied: jsonschema>=3.0 in /usr/local/lib/python3.8/dist-packages (from altair>=3.2.0->streamlit) (4.3.3)\n",
            "Requirement already satisfied: jinja2 in /usr/local/lib/python3.8/dist-packages (from altair>=3.2.0->streamlit) (2.11.3)\n",
            "Collecting gitdb<5,>=4.0.1\n",
            "  Downloading gitdb-4.0.10-py3-none-any.whl (62 kB)\n",
            "\u001b[K     |████████████████████████████████| 62 kB 1.6 MB/s \n",
            "\u001b[?25hCollecting smmap<6,>=3.0.1\n",
            "  Downloading smmap-5.0.0-py3-none-any.whl (24 kB)\n",
            "Requirement already satisfied: zipp>=0.5 in /usr/local/lib/python3.8/dist-packages (from importlib-metadata>=1.4->streamlit) (3.11.0)\n",
            "Requirement already satisfied: pyrsistent!=0.17.0,!=0.17.1,!=0.17.2,>=0.14.0 in /usr/local/lib/python3.8/dist-packages (from jsonschema>=3.0->altair>=3.2.0->streamlit) (0.19.2)\n",
            "Requirement already satisfied: importlib-resources>=1.4.0 in /usr/local/lib/python3.8/dist-packages (from jsonschema>=3.0->altair>=3.2.0->streamlit) (5.10.1)\n",
            "Requirement already satisfied: attrs>=17.4.0 in /usr/local/lib/python3.8/dist-packages (from jsonschema>=3.0->altair>=3.2.0->streamlit) (22.1.0)\n",
            "Requirement already satisfied: pyparsing!=3.0.5,>=2.0.2 in /usr/local/lib/python3.8/dist-packages (from packaging>=14.1->streamlit) (3.0.9)\n",
            "Requirement already satisfied: pytz>=2017.3 in /usr/local/lib/python3.8/dist-packages (from pandas>=0.21.0->streamlit) (2022.6)\n",
            "Requirement already satisfied: MarkupSafe>=0.23 in /usr/local/lib/python3.8/dist-packages (from jinja2->altair>=3.2.0->streamlit) (2.0.1)\n",
            "Requirement already satisfied: six>=1.5 in /usr/local/lib/python3.8/dist-packages (from python-dateutil->streamlit) (1.15.0)\n",
            "Requirement already satisfied: chardet<4,>=3.0.2 in /usr/local/lib/python3.8/dist-packages (from requests>=2.4->streamlit) (3.0.4)\n",
            "Requirement already satisfied: certifi>=2017.4.17 in /usr/local/lib/python3.8/dist-packages (from requests>=2.4->streamlit) (2022.12.7)\n",
            "Requirement already satisfied: idna<3,>=2.5 in /usr/local/lib/python3.8/dist-packages (from requests>=2.4->streamlit) (2.10)\n",
            "Requirement already satisfied: urllib3!=1.25.0,!=1.25.1,<1.26,>=1.21.1 in /usr/local/lib/python3.8/dist-packages (from requests>=2.4->streamlit) (1.24.3)\n",
            "Collecting commonmark<0.10.0,>=0.9.0\n",
            "  Downloading commonmark-0.9.1-py2.py3-none-any.whl (51 kB)\n",
            "\u001b[K     |████████████████████████████████| 51 kB 5.4 MB/s \n",
            "\u001b[?25hRequirement already satisfied: pygments<3.0.0,>=2.6.0 in /usr/local/lib/python3.8/dist-packages (from rich>=10.11.0->streamlit) (2.6.1)\n",
            "Requirement already satisfied: decorator>=3.4.0 in /usr/local/lib/python3.8/dist-packages (from validators>=0.2->streamlit) (4.4.2)\n",
            "Building wheels for collected packages: validators\n",
            "  Building wheel for validators (setup.py) ... \u001b[?25l\u001b[?25hdone\n",
            "  Created wheel for validators: filename=validators-0.20.0-py3-none-any.whl size=19581 sha256=ac67b45845245884379163a10abe7bd9eb05711afd9fe182422e8f17f4874d44\n",
            "  Stored in directory: /root/.cache/pip/wheels/19/09/72/3eb74d236bb48bd0f3c6c3c83e4e0c5bbfcbcad7c6c3539db8\n",
            "Successfully built validators\n",
            "Installing collected packages: smmap, gitdb, commonmark, watchdog, validators, semver, rich, pympler, pydeck, gitpython, blinker, streamlit\n",
            "Successfully installed blinker-1.5 commonmark-0.9.1 gitdb-4.0.10 gitpython-3.1.30 pydeck-0.8.0 pympler-1.0.1 rich-13.0.0 semver-2.13.0 smmap-5.0.0 streamlit-1.16.0 validators-0.20.0 watchdog-2.2.1\n"
          ]
        }
      ]
    },
    {
      "cell_type": "code",
      "source": [
        "pip install --upgrade protobuf"
      ],
      "metadata": {
        "colab": {
          "base_uri": "https://localhost:8080/"
        },
        "id": "Z-tQT3MLnbya",
        "outputId": "4ff08281-308f-4eb5-f006-dd2bdd2b34ff"
      },
      "execution_count": null,
      "outputs": [
        {
          "output_type": "stream",
          "name": "stdout",
          "text": [
            "Looking in indexes: https://pypi.org/simple, https://us-python.pkg.dev/colab-wheels/public/simple/\n",
            "Requirement already satisfied: protobuf in /usr/local/lib/python3.8/dist-packages (3.19.6)\n",
            "Collecting protobuf\n",
            "  Downloading protobuf-4.21.12-cp37-abi3-manylinux2014_x86_64.whl (409 kB)\n",
            "\u001b[K     |████████████████████████████████| 409 kB 15.3 MB/s \n",
            "\u001b[?25hInstalling collected packages: protobuf\n",
            "  Attempting uninstall: protobuf\n",
            "    Found existing installation: protobuf 3.19.6\n",
            "    Uninstalling protobuf-3.19.6:\n",
            "      Successfully uninstalled protobuf-3.19.6\n",
            "\u001b[31mERROR: pip's dependency resolver does not currently take into account all the packages that are installed. This behaviour is the source of the following dependency conflicts.\n",
            "tensorflow 2.9.2 requires protobuf<3.20,>=3.9.2, but you have protobuf 4.21.12 which is incompatible.\n",
            "tensorflow-metadata 1.12.0 requires protobuf<4,>=3.13, but you have protobuf 4.21.12 which is incompatible.\n",
            "tensorboard 2.9.1 requires protobuf<3.20,>=3.9.2, but you have protobuf 4.21.12 which is incompatible.\n",
            "streamlit 1.16.0 requires protobuf<4,>=3.12, but you have protobuf 4.21.12 which is incompatible.\u001b[0m\n",
            "Successfully installed protobuf-4.21.12\n"
          ]
        }
      ]
    },
    {
      "cell_type": "code",
      "source": [
        "import streamlit as st \n",
        "st.set_page_config(\n",
        "    page_title=\"Real-Time Data Science Dashboard\",\n",
        "    page_icon=\"✅\",\n",
        "    layout=\"wide\",\n",
        ")\n",
        "st.markdown(\"### Detailed Data View\")\n",
        "st.dataframe(clean_df)"
      ],
      "metadata": {
        "colab": {
          "base_uri": "https://localhost:8080/"
        },
        "id": "KiGRk_5ymMOa",
        "outputId": "5936890d-d32c-4eba-e66a-d713945d458a"
      },
      "execution_count": null,
      "outputs": [
        {
          "output_type": "stream",
          "name": "stderr",
          "text": [
            "WARNING:root:\n",
            "  \u001b[33m\u001b[1mWarning:\u001b[0m to view this Streamlit app on a browser, run it with the following\n",
            "  command:\n",
            "\n",
            "    streamlit run /usr/local/lib/python3.8/dist-packages/ipykernel_launcher.py [ARGUMENTS]\n",
            "2023-01-03 03:14:57.253 \n",
            "  \u001b[33m\u001b[1mWarning:\u001b[0m to view this Streamlit app on a browser, run it with the following\n",
            "  command:\n",
            "\n",
            "    streamlit run /usr/local/lib/python3.8/dist-packages/ipykernel_launcher.py [ARGUMENTS]\n"
          ]
        },
        {
          "output_type": "execute_result",
          "data": {
            "text/plain": [
              "DeltaGenerator(_root_container=0, _provided_cursor=None, _parent=None, _block_type=None, _form_data=None)"
            ]
          },
          "metadata": {},
          "execution_count": 18
        }
      ]
    },
    {
      "cell_type": "code",
      "source": [
        "!streamlit run /usr/local/lib/python3.8/dist-packages/ipykernel_launcher.py"
      ],
      "metadata": {
        "colab": {
          "base_uri": "https://localhost:8080/"
        },
        "id": "tcIBecoUnu0O",
        "outputId": "24718ce1-2d11-4b37-e196-ea18bd08174e"
      },
      "execution_count": null,
      "outputs": [
        {
          "output_type": "stream",
          "name": "stdout",
          "text": [
            "\n",
            "Collecting usage statistics. To deactivate, set browser.gatherUsageStats to False.\n",
            "\u001b[0m\n",
            "Traceback (most recent call last):\n",
            "  File \"/usr/local/bin/streamlit\", line 8, in <module>\n",
            "    sys.exit(main())\n",
            "  File \"/usr/local/lib/python3.8/dist-packages/click/core.py\", line 829, in __call__\n",
            "    return self.main(*args, **kwargs)\n",
            "  File \"/usr/local/lib/python3.8/dist-packages/click/core.py\", line 782, in main\n",
            "    rv = self.invoke(ctx)\n",
            "  File \"/usr/local/lib/python3.8/dist-packages/click/core.py\", line 1259, in invoke\n",
            "    return _process_result(sub_ctx.command.invoke(sub_ctx))\n",
            "  File \"/usr/local/lib/python3.8/dist-packages/click/core.py\", line 1066, in invoke\n",
            "    return ctx.invoke(self.callback, **ctx.params)\n",
            "  File \"/usr/local/lib/python3.8/dist-packages/click/core.py\", line 610, in invoke\n",
            "    return callback(*args, **kwargs)\n",
            "  File \"/usr/local/lib/python3.8/dist-packages/streamlit/web/cli.py\", line 206, in main_run\n",
            "    _main_run(target, args, flag_options=kwargs)\n",
            "  File \"/usr/local/lib/python3.8/dist-packages/streamlit/web/cli.py\", line 242, in _main_run\n",
            "    bootstrap.run(file, command_line, args, flag_options)\n",
            "  File \"/usr/local/lib/python3.8/dist-packages/streamlit/web/bootstrap.py\", line 358, in run\n",
            "    _install_pages_watcher(main_script_path)\n",
            "  File \"/usr/local/lib/python3.8/dist-packages/streamlit/web/bootstrap.py\", line 334, in _install_pages_watcher\n",
            "    watch_dir(\n",
            "  File \"/usr/local/lib/python3.8/dist-packages/streamlit/watcher/path_watcher.py\", line 153, in watch_dir\n",
            "    return _watch_path(\n",
            "  File \"/usr/local/lib/python3.8/dist-packages/streamlit/watcher/path_watcher.py\", line 128, in _watch_path\n",
            "    watcher_class(\n",
            "  File \"/usr/local/lib/python3.8/dist-packages/streamlit/watcher/event_based_path_watcher.py\", line 91, in __init__\n",
            "    path_watcher.watch_path(\n",
            "  File \"/usr/local/lib/python3.8/dist-packages/streamlit/watcher/event_based_path_watcher.py\", line 169, in watch_path\n",
            "    folder_handler.watch = self._observer.schedule(\n",
            "  File \"/usr/local/lib/python3.8/dist-packages/watchdog/observers/api.py\", line 302, in schedule\n",
            "    emitter.start()\n",
            "  File \"/usr/local/lib/python3.8/dist-packages/watchdog/utils/__init__.py\", line 93, in start\n",
            "    self.on_thread_start()\n",
            "  File \"/usr/local/lib/python3.8/dist-packages/watchdog/observers/inotify.py\", line 118, in on_thread_start\n",
            "    self._inotify = InotifyBuffer(path, self.watch.is_recursive)\n",
            "  File \"/usr/local/lib/python3.8/dist-packages/watchdog/observers/inotify_buffer.py\", line 35, in __init__\n",
            "    self._inotify = Inotify(path, recursive)\n",
            "  File \"/usr/local/lib/python3.8/dist-packages/watchdog/observers/inotify_c.py\", line 167, in __init__\n",
            "    self._add_dir_watch(path, recursive, event_mask)\n",
            "  File \"/usr/local/lib/python3.8/dist-packages/watchdog/observers/inotify_c.py\", line 372, in _add_dir_watch\n",
            "    self._add_watch(full_path, mask)\n",
            "  File \"/usr/local/lib/python3.8/dist-packages/watchdog/observers/inotify_c.py\", line 386, in _add_watch\n",
            "    Inotify._raise_error()\n",
            "  File \"/usr/local/lib/python3.8/dist-packages/watchdog/observers/inotify_c.py\", line 398, in _raise_error\n",
            "    raise OSError(errno.ENOSPC, \"inotify watch limit reached\")\n",
            "OSError: [Errno 28] inotify watch limit reached\n"
          ]
        }
      ]
    }
  ]
}