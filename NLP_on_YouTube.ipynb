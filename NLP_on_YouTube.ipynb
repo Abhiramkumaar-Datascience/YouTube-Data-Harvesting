{
  "nbformat": 4,
  "nbformat_minor": 0,
  "metadata": {
    "colab": {
      "provenance": [],
      "authorship_tag": "ABX9TyNk4bgfufQRg4U5TrleUVeF"
    },
    "kernelspec": {
      "name": "python3",
      "display_name": "Python 3"
    },
    "language_info": {
      "name": "python"
    }
  },
  "cells": [
    {
      "cell_type": "markdown",
      "source": [
        "# YouTube NLP"
      ],
      "metadata": {
        "id": "oyWNPLCREeBm"
      }
    },
    {
      "cell_type": "markdown",
      "source": [
        "## Ingesting Comments from the YouTube Video"
      ],
      "metadata": {
        "id": "wyBnA3NgEi0W"
      }
    },
    {
      "cell_type": "code",
      "source": [
        "api_key = ''"
      ],
      "metadata": {
        "id": "ub2kJ5eEF0xF"
      },
      "execution_count": null,
      "outputs": []
    },
    {
      "cell_type": "code",
      "execution_count": null,
      "metadata": {
        "id": "bcsli4zgbOaK"
      },
      "outputs": [],
      "source": [
        "from googleapiclient.discovery import build\n",
        "\n",
        "# The string after v=? in the url\n",
        "video_id = \"dQw4w9WgXcQ\"\n",
        "\n",
        "# creating youtube resource object\n",
        "youtube = build('youtube', 'v3',\n",
        "developerKey=api_key)\n",
        "\n",
        "# retrieve youtube video results\n",
        "video_response=youtube.commentThreads().list(\n",
        "  part='snippet',\n",
        "  maxResults=1000,\n",
        "  order='relevance',\n",
        "  videoId=video_id\n",
        ").execute()\n"
      ]
    },
    {
      "cell_type": "markdown",
      "source": [
        "## Data Preprocessing"
      ],
      "metadata": {
        "id": "yq7-bNkVEu8f"
      }
    },
    {
      "cell_type": "markdown",
      "source": [
        "### Data Wrangling"
      ],
      "metadata": {
        "id": "9d3Gu80DEzxz"
      }
    },
    {
      "cell_type": "markdown",
      "source": [
        "#### Assumptions\n",
        "\n",
        "\n",
        "*   Picking only the comment made by the original author\n",
        "  *   Comment Threads on the Original Authors comment could be diverging from the video\n",
        "  *   Limiting Response to about 10 for testing\n",
        "\n",
        "*   Using the 'textOriginal' instead of 'textDisplay' for easier cleanup of the comment\n",
        "\n",
        "\n",
        "*   Analyzing only English Comments \n",
        "  *   Storing the number of non English comments for metrics\n",
        "\n",
        "\n",
        "\n",
        "\n",
        "\n",
        "\n"
      ],
      "metadata": {
        "id": "y5znsobSE77W"
      }
    },
    {
      "cell_type": "code",
      "source": [
        "# empty list for storing reply\n",
        "comments = []\n",
        "\n",
        "# extracting required info from each result object\n",
        "for item in video_response['items']:\n",
        "\n",
        "  # Extracting comments\n",
        "  comment = item['snippet']['topLevelComment']['snippet']['textOriginal']\n",
        "  # Extracting author\n",
        "  author = item['snippet']['topLevelComment']['snippet']['authorDisplayName']\n",
        "  # Extracting published time\n",
        "  published_at = item['snippet']['topLevelComment']['snippet']['publishedAt']\n",
        "  # Extracting likes\n",
        "  like_count = item['snippet']['topLevelComment']['snippet']['likeCount']\n",
        "  # Extracting total replies to the comment\n",
        "  reply_count = item['snippet']['totalReplyCount']\n",
        "\n",
        "  comments.append([author, comment, published_at, like_count, reply_count])"
      ],
      "metadata": {
        "id": "B3ZHIuZD-60O"
      },
      "execution_count": null,
      "outputs": []
    },
    {
      "cell_type": "code",
      "source": [
        "comments[0:5]"
      ],
      "metadata": {
        "colab": {
          "base_uri": "https://localhost:8080/"
        },
        "id": "DBjTDTtyAdZv",
        "outputId": "73937bb1-b0d6-423b-f226-8b054be182db"
      },
      "execution_count": null,
      "outputs": [
        {
          "output_type": "execute_result",
          "data": {
            "text/plain": [
              "[['Rick Astley',\n",
              "  '1 BILLION views for Never Gonna Give You Up!\\xa0 Amazing, crazy, wonderful! Rick ♥️',\n",
              "  '2021-07-28T21:00:32Z',\n",
              "  1165839,\n",
              "  497],\n",
              " ['Amelia Honey',\n",
              "  'This has been the most amazing rick roll I have ever gotten. Thank you discord',\n",
              "  '2022-05-13T22:16:45Z',\n",
              "  720,\n",
              "  39],\n",
              " ['XIÁN PENA PUZA',\n",
              "  'Naah... temardo en verdad 😎🤙\\n21047218 personas ya lo han escuchado,\\nespero que te haya gustado 😉',\n",
              "  '2023-01-01T14:10:35Z',\n",
              "  62,\n",
              "  9],\n",
              " ['Rafael Perez',\n",
              "  'Naah... temardo en verdad 😎🤙\\n6025619 personas ya lo han escuchado,\\nespero que te haya gustado 😉',\n",
              "  '2022-12-31T15:25:35Z',\n",
              "  395,\n",
              "  11],\n",
              " ['Natan Kozłowski',\n",
              "  'Even when’s it’s 2023 thousands of people still listen to this song everyday,it never gets old❤',\n",
              "  '2022-12-30T18:57:47Z',\n",
              "  219,\n",
              "  19]]"
            ]
          },
          "metadata": {},
          "execution_count": 43
        }
      ]
    },
    {
      "cell_type": "markdown",
      "source": [
        "### NLP"
      ],
      "metadata": {
        "id": "L0AzgXPqId-h"
      }
    },
    {
      "cell_type": "markdown",
      "source": [
        "#### Install Libraries"
      ],
      "metadata": {
        "id": "S8uoCx8SMzCi"
      }
    },
    {
      "cell_type": "code",
      "source": [
        "pip install Unidecode"
      ],
      "metadata": {
        "colab": {
          "base_uri": "https://localhost:8080/"
        },
        "id": "s9vNdtwZQH1q",
        "outputId": "b369eba0-d080-4902-8086-df45e6fc4980"
      },
      "execution_count": null,
      "outputs": [
        {
          "output_type": "stream",
          "name": "stdout",
          "text": [
            "Looking in indexes: https://pypi.org/simple, https://us-python.pkg.dev/colab-wheels/public/simple/\n",
            "Requirement already satisfied: Unidecode in /usr/local/lib/python3.8/dist-packages (1.3.6)\n"
          ]
        }
      ]
    },
    {
      "cell_type": "code",
      "source": [
        "pip install langdetect"
      ],
      "metadata": {
        "colab": {
          "base_uri": "https://localhost:8080/"
        },
        "id": "REkYtE-yBLka",
        "outputId": "b6eac6c5-c63a-498f-c713-9899a82b0b28"
      },
      "execution_count": null,
      "outputs": [
        {
          "output_type": "stream",
          "name": "stdout",
          "text": [
            "Looking in indexes: https://pypi.org/simple, https://us-python.pkg.dev/colab-wheels/public/simple/\n",
            "Requirement already satisfied: langdetect in /usr/local/lib/python3.8/dist-packages (1.0.9)\n",
            "Requirement already satisfied: six in /usr/local/lib/python3.8/dist-packages (from langdetect) (1.15.0)\n"
          ]
        }
      ]
    },
    {
      "cell_type": "code",
      "source": [
        "pip install pycountry"
      ],
      "metadata": {
        "colab": {
          "base_uri": "https://localhost:8080/"
        },
        "id": "NNQ4fQN7thuK",
        "outputId": "400293b8-90fe-43c4-d059-f9191e3009cd"
      },
      "execution_count": null,
      "outputs": [
        {
          "output_type": "stream",
          "name": "stdout",
          "text": [
            "Looking in indexes: https://pypi.org/simple, https://us-python.pkg.dev/colab-wheels/public/simple/\n",
            "Requirement already satisfied: pycountry in /usr/local/lib/python3.8/dist-packages (22.3.5)\n",
            "Requirement already satisfied: setuptools in /usr/local/lib/python3.8/dist-packages (from pycountry) (57.4.0)\n"
          ]
        }
      ]
    },
    {
      "cell_type": "code",
      "source": [
        "pip install clean-text"
      ],
      "metadata": {
        "colab": {
          "base_uri": "https://localhost:8080/"
        },
        "id": "ohOw66wPNnw3",
        "outputId": "13d03afa-9c85-4abe-c66c-ccd057ed0594"
      },
      "execution_count": null,
      "outputs": [
        {
          "output_type": "stream",
          "name": "stdout",
          "text": [
            "Looking in indexes: https://pypi.org/simple, https://us-python.pkg.dev/colab-wheels/public/simple/\n",
            "Requirement already satisfied: clean-text in /usr/local/lib/python3.8/dist-packages (0.6.0)\n",
            "Requirement already satisfied: emoji<2.0.0,>=1.0.0 in /usr/local/lib/python3.8/dist-packages (from clean-text) (1.7.0)\n",
            "Requirement already satisfied: ftfy<7.0,>=6.0 in /usr/local/lib/python3.8/dist-packages (from clean-text) (6.1.1)\n",
            "Requirement already satisfied: wcwidth>=0.2.5 in /usr/local/lib/python3.8/dist-packages (from ftfy<7.0,>=6.0->clean-text) (0.2.5)\n"
          ]
        }
      ]
    },
    {
      "cell_type": "markdown",
      "source": [
        "#### Text Processing"
      ],
      "metadata": {
        "id": "BtgMRdJeM9ad"
      }
    },
    {
      "cell_type": "code",
      "source": [
        "import pandas as pd\n",
        "df = pd.DataFrame({'Author': [i[0] for i in comments], 'Comment': [i[1] for i in comments], 'Timestamp': [i[2] for i in comments],\n",
        "                  'Likes': [i[3] for i in comments], 'TotalReplies': [i[4] for i in comments]})"
      ],
      "metadata": {
        "id": "KcgTLGYPP3MB"
      },
      "execution_count": null,
      "outputs": []
    },
    {
      "cell_type": "code",
      "source": [
        "df.head()"
      ],
      "metadata": {
        "colab": {
          "base_uri": "https://localhost:8080/",
          "height": 206
        },
        "id": "azQkTYxcQoGR",
        "outputId": "03e6a16e-1dac-42a3-dfd3-a43a646ddda4"
      },
      "execution_count": null,
      "outputs": [
        {
          "output_type": "execute_result",
          "data": {
            "text/plain": [
              "            Author                                            Comment  \\\n",
              "0      Rick Astley  1 BILLION views for Never Gonna Give You Up!  ...   \n",
              "1     Amelia Honey  This has been the most amazing rick roll I hav...   \n",
              "2   XIÁN PENA PUZA  Naah... temardo en verdad 😎🤙\\n21047218 persona...   \n",
              "3     Rafael Perez  Naah... temardo en verdad 😎🤙\\n6025619 personas...   \n",
              "4  Natan Kozłowski  Even when’s it’s 2023 thousands of people stil...   \n",
              "\n",
              "              Timestamp    Likes  TotalReplies  \n",
              "0  2021-07-28T21:00:32Z  1165839           497  \n",
              "1  2022-05-13T22:16:45Z      720            39  \n",
              "2  2023-01-01T14:10:35Z       62             9  \n",
              "3  2022-12-31T15:25:35Z      395            11  \n",
              "4  2022-12-30T18:57:47Z      219            19  "
            ],
            "text/html": [
              "\n",
              "  <div id=\"df-0f5fbacf-dab1-4509-a7de-fe1d97c304da\">\n",
              "    <div class=\"colab-df-container\">\n",
              "      <div>\n",
              "<style scoped>\n",
              "    .dataframe tbody tr th:only-of-type {\n",
              "        vertical-align: middle;\n",
              "    }\n",
              "\n",
              "    .dataframe tbody tr th {\n",
              "        vertical-align: top;\n",
              "    }\n",
              "\n",
              "    .dataframe thead th {\n",
              "        text-align: right;\n",
              "    }\n",
              "</style>\n",
              "<table border=\"1\" class=\"dataframe\">\n",
              "  <thead>\n",
              "    <tr style=\"text-align: right;\">\n",
              "      <th></th>\n",
              "      <th>Author</th>\n",
              "      <th>Comment</th>\n",
              "      <th>Timestamp</th>\n",
              "      <th>Likes</th>\n",
              "      <th>TotalReplies</th>\n",
              "    </tr>\n",
              "  </thead>\n",
              "  <tbody>\n",
              "    <tr>\n",
              "      <th>0</th>\n",
              "      <td>Rick Astley</td>\n",
              "      <td>1 BILLION views for Never Gonna Give You Up!  ...</td>\n",
              "      <td>2021-07-28T21:00:32Z</td>\n",
              "      <td>1165839</td>\n",
              "      <td>497</td>\n",
              "    </tr>\n",
              "    <tr>\n",
              "      <th>1</th>\n",
              "      <td>Amelia Honey</td>\n",
              "      <td>This has been the most amazing rick roll I hav...</td>\n",
              "      <td>2022-05-13T22:16:45Z</td>\n",
              "      <td>720</td>\n",
              "      <td>39</td>\n",
              "    </tr>\n",
              "    <tr>\n",
              "      <th>2</th>\n",
              "      <td>XIÁN PENA PUZA</td>\n",
              "      <td>Naah... temardo en verdad 😎🤙\\n21047218 persona...</td>\n",
              "      <td>2023-01-01T14:10:35Z</td>\n",
              "      <td>62</td>\n",
              "      <td>9</td>\n",
              "    </tr>\n",
              "    <tr>\n",
              "      <th>3</th>\n",
              "      <td>Rafael Perez</td>\n",
              "      <td>Naah... temardo en verdad 😎🤙\\n6025619 personas...</td>\n",
              "      <td>2022-12-31T15:25:35Z</td>\n",
              "      <td>395</td>\n",
              "      <td>11</td>\n",
              "    </tr>\n",
              "    <tr>\n",
              "      <th>4</th>\n",
              "      <td>Natan Kozłowski</td>\n",
              "      <td>Even when’s it’s 2023 thousands of people stil...</td>\n",
              "      <td>2022-12-30T18:57:47Z</td>\n",
              "      <td>219</td>\n",
              "      <td>19</td>\n",
              "    </tr>\n",
              "  </tbody>\n",
              "</table>\n",
              "</div>\n",
              "      <button class=\"colab-df-convert\" onclick=\"convertToInteractive('df-0f5fbacf-dab1-4509-a7de-fe1d97c304da')\"\n",
              "              title=\"Convert this dataframe to an interactive table.\"\n",
              "              style=\"display:none;\">\n",
              "        \n",
              "  <svg xmlns=\"http://www.w3.org/2000/svg\" height=\"24px\"viewBox=\"0 0 24 24\"\n",
              "       width=\"24px\">\n",
              "    <path d=\"M0 0h24v24H0V0z\" fill=\"none\"/>\n",
              "    <path d=\"M18.56 5.44l.94 2.06.94-2.06 2.06-.94-2.06-.94-.94-2.06-.94 2.06-2.06.94zm-11 1L8.5 8.5l.94-2.06 2.06-.94-2.06-.94L8.5 2.5l-.94 2.06-2.06.94zm10 10l.94 2.06.94-2.06 2.06-.94-2.06-.94-.94-2.06-.94 2.06-2.06.94z\"/><path d=\"M17.41 7.96l-1.37-1.37c-.4-.4-.92-.59-1.43-.59-.52 0-1.04.2-1.43.59L10.3 9.45l-7.72 7.72c-.78.78-.78 2.05 0 2.83L4 21.41c.39.39.9.59 1.41.59.51 0 1.02-.2 1.41-.59l7.78-7.78 2.81-2.81c.8-.78.8-2.07 0-2.86zM5.41 20L4 18.59l7.72-7.72 1.47 1.35L5.41 20z\"/>\n",
              "  </svg>\n",
              "      </button>\n",
              "      \n",
              "  <style>\n",
              "    .colab-df-container {\n",
              "      display:flex;\n",
              "      flex-wrap:wrap;\n",
              "      gap: 12px;\n",
              "    }\n",
              "\n",
              "    .colab-df-convert {\n",
              "      background-color: #E8F0FE;\n",
              "      border: none;\n",
              "      border-radius: 50%;\n",
              "      cursor: pointer;\n",
              "      display: none;\n",
              "      fill: #1967D2;\n",
              "      height: 32px;\n",
              "      padding: 0 0 0 0;\n",
              "      width: 32px;\n",
              "    }\n",
              "\n",
              "    .colab-df-convert:hover {\n",
              "      background-color: #E2EBFA;\n",
              "      box-shadow: 0px 1px 2px rgba(60, 64, 67, 0.3), 0px 1px 3px 1px rgba(60, 64, 67, 0.15);\n",
              "      fill: #174EA6;\n",
              "    }\n",
              "\n",
              "    [theme=dark] .colab-df-convert {\n",
              "      background-color: #3B4455;\n",
              "      fill: #D2E3FC;\n",
              "    }\n",
              "\n",
              "    [theme=dark] .colab-df-convert:hover {\n",
              "      background-color: #434B5C;\n",
              "      box-shadow: 0px 1px 3px 1px rgba(0, 0, 0, 0.15);\n",
              "      filter: drop-shadow(0px 1px 2px rgba(0, 0, 0, 0.3));\n",
              "      fill: #FFFFFF;\n",
              "    }\n",
              "  </style>\n",
              "\n",
              "      <script>\n",
              "        const buttonEl =\n",
              "          document.querySelector('#df-0f5fbacf-dab1-4509-a7de-fe1d97c304da button.colab-df-convert');\n",
              "        buttonEl.style.display =\n",
              "          google.colab.kernel.accessAllowed ? 'block' : 'none';\n",
              "\n",
              "        async function convertToInteractive(key) {\n",
              "          const element = document.querySelector('#df-0f5fbacf-dab1-4509-a7de-fe1d97c304da');\n",
              "          const dataTable =\n",
              "            await google.colab.kernel.invokeFunction('convertToInteractive',\n",
              "                                                     [key], {});\n",
              "          if (!dataTable) return;\n",
              "\n",
              "          const docLinkHtml = 'Like what you see? Visit the ' +\n",
              "            '<a target=\"_blank\" href=https://colab.research.google.com/notebooks/data_table.ipynb>data table notebook</a>'\n",
              "            + ' to learn more about interactive tables.';\n",
              "          element.innerHTML = '';\n",
              "          dataTable['output_type'] = 'display_data';\n",
              "          await google.colab.output.renderOutput(dataTable, element);\n",
              "          const docLink = document.createElement('div');\n",
              "          docLink.innerHTML = docLinkHtml;\n",
              "          element.appendChild(docLink);\n",
              "        }\n",
              "      </script>\n",
              "    </div>\n",
              "  </div>\n",
              "  "
            ]
          },
          "metadata": {},
          "execution_count": 50
        }
      ]
    },
    {
      "cell_type": "code",
      "source": [
        "from cleantext import clean\n",
        "\n",
        "# Remove extra spaces and make them lower case. Replace special emojis\n",
        "clean_df = df\n",
        "clean_df['Comment'] = clean_df['Comment'].apply(lambda x: x.strip().lower().replace('xd','').replace('<3',''))\n",
        "\n",
        "# Clean text from line breaks, unicodes, emojis and punctuations\n",
        "clean_df['Comment'] = clean_df['Comment'].apply(lambda x: clean(x, no_emoji=True, no_punct=True, no_line_breaks=True, fix_unicode=True))\n",
        "clean_df.head()"
      ],
      "metadata": {
        "colab": {
          "base_uri": "https://localhost:8080/",
          "height": 206
        },
        "id": "wtD45aw7BLiW",
        "outputId": "f145ab10-911b-461b-929c-70fc3d4973e0"
      },
      "execution_count": null,
      "outputs": [
        {
          "output_type": "execute_result",
          "data": {
            "text/plain": [
              "            Author                                            Comment  \\\n",
              "0      Rick Astley  1 billion views for never gonna give you up am...   \n",
              "1     Amelia Honey  this has been the most amazing rick roll i hav...   \n",
              "2   XIÁN PENA PUZA  naah temardo en verdad 21047218 personas ya lo...   \n",
              "3     Rafael Perez  naah temardo en verdad 6025619 personas ya lo ...   \n",
              "4  Natan Kozłowski  even whens its 2023 thousands of people still ...   \n",
              "\n",
              "              Timestamp    Likes  TotalReplies  \n",
              "0  2021-07-28T21:00:32Z  1165839           497  \n",
              "1  2022-05-13T22:16:45Z      720            39  \n",
              "2  2023-01-01T14:10:35Z       62             9  \n",
              "3  2022-12-31T15:25:35Z      395            11  \n",
              "4  2022-12-30T18:57:47Z      219            19  "
            ],
            "text/html": [
              "\n",
              "  <div id=\"df-ecde892f-fcb3-496e-ae00-af50fdc18bb2\">\n",
              "    <div class=\"colab-df-container\">\n",
              "      <div>\n",
              "<style scoped>\n",
              "    .dataframe tbody tr th:only-of-type {\n",
              "        vertical-align: middle;\n",
              "    }\n",
              "\n",
              "    .dataframe tbody tr th {\n",
              "        vertical-align: top;\n",
              "    }\n",
              "\n",
              "    .dataframe thead th {\n",
              "        text-align: right;\n",
              "    }\n",
              "</style>\n",
              "<table border=\"1\" class=\"dataframe\">\n",
              "  <thead>\n",
              "    <tr style=\"text-align: right;\">\n",
              "      <th></th>\n",
              "      <th>Author</th>\n",
              "      <th>Comment</th>\n",
              "      <th>Timestamp</th>\n",
              "      <th>Likes</th>\n",
              "      <th>TotalReplies</th>\n",
              "    </tr>\n",
              "  </thead>\n",
              "  <tbody>\n",
              "    <tr>\n",
              "      <th>0</th>\n",
              "      <td>Rick Astley</td>\n",
              "      <td>1 billion views for never gonna give you up am...</td>\n",
              "      <td>2021-07-28T21:00:32Z</td>\n",
              "      <td>1165839</td>\n",
              "      <td>497</td>\n",
              "    </tr>\n",
              "    <tr>\n",
              "      <th>1</th>\n",
              "      <td>Amelia Honey</td>\n",
              "      <td>this has been the most amazing rick roll i hav...</td>\n",
              "      <td>2022-05-13T22:16:45Z</td>\n",
              "      <td>720</td>\n",
              "      <td>39</td>\n",
              "    </tr>\n",
              "    <tr>\n",
              "      <th>2</th>\n",
              "      <td>XIÁN PENA PUZA</td>\n",
              "      <td>naah temardo en verdad 21047218 personas ya lo...</td>\n",
              "      <td>2023-01-01T14:10:35Z</td>\n",
              "      <td>62</td>\n",
              "      <td>9</td>\n",
              "    </tr>\n",
              "    <tr>\n",
              "      <th>3</th>\n",
              "      <td>Rafael Perez</td>\n",
              "      <td>naah temardo en verdad 6025619 personas ya lo ...</td>\n",
              "      <td>2022-12-31T15:25:35Z</td>\n",
              "      <td>395</td>\n",
              "      <td>11</td>\n",
              "    </tr>\n",
              "    <tr>\n",
              "      <th>4</th>\n",
              "      <td>Natan Kozłowski</td>\n",
              "      <td>even whens its 2023 thousands of people still ...</td>\n",
              "      <td>2022-12-30T18:57:47Z</td>\n",
              "      <td>219</td>\n",
              "      <td>19</td>\n",
              "    </tr>\n",
              "  </tbody>\n",
              "</table>\n",
              "</div>\n",
              "      <button class=\"colab-df-convert\" onclick=\"convertToInteractive('df-ecde892f-fcb3-496e-ae00-af50fdc18bb2')\"\n",
              "              title=\"Convert this dataframe to an interactive table.\"\n",
              "              style=\"display:none;\">\n",
              "        \n",
              "  <svg xmlns=\"http://www.w3.org/2000/svg\" height=\"24px\"viewBox=\"0 0 24 24\"\n",
              "       width=\"24px\">\n",
              "    <path d=\"M0 0h24v24H0V0z\" fill=\"none\"/>\n",
              "    <path d=\"M18.56 5.44l.94 2.06.94-2.06 2.06-.94-2.06-.94-.94-2.06-.94 2.06-2.06.94zm-11 1L8.5 8.5l.94-2.06 2.06-.94-2.06-.94L8.5 2.5l-.94 2.06-2.06.94zm10 10l.94 2.06.94-2.06 2.06-.94-2.06-.94-.94-2.06-.94 2.06-2.06.94z\"/><path d=\"M17.41 7.96l-1.37-1.37c-.4-.4-.92-.59-1.43-.59-.52 0-1.04.2-1.43.59L10.3 9.45l-7.72 7.72c-.78.78-.78 2.05 0 2.83L4 21.41c.39.39.9.59 1.41.59.51 0 1.02-.2 1.41-.59l7.78-7.78 2.81-2.81c.8-.78.8-2.07 0-2.86zM5.41 20L4 18.59l7.72-7.72 1.47 1.35L5.41 20z\"/>\n",
              "  </svg>\n",
              "      </button>\n",
              "      \n",
              "  <style>\n",
              "    .colab-df-container {\n",
              "      display:flex;\n",
              "      flex-wrap:wrap;\n",
              "      gap: 12px;\n",
              "    }\n",
              "\n",
              "    .colab-df-convert {\n",
              "      background-color: #E8F0FE;\n",
              "      border: none;\n",
              "      border-radius: 50%;\n",
              "      cursor: pointer;\n",
              "      display: none;\n",
              "      fill: #1967D2;\n",
              "      height: 32px;\n",
              "      padding: 0 0 0 0;\n",
              "      width: 32px;\n",
              "    }\n",
              "\n",
              "    .colab-df-convert:hover {\n",
              "      background-color: #E2EBFA;\n",
              "      box-shadow: 0px 1px 2px rgba(60, 64, 67, 0.3), 0px 1px 3px 1px rgba(60, 64, 67, 0.15);\n",
              "      fill: #174EA6;\n",
              "    }\n",
              "\n",
              "    [theme=dark] .colab-df-convert {\n",
              "      background-color: #3B4455;\n",
              "      fill: #D2E3FC;\n",
              "    }\n",
              "\n",
              "    [theme=dark] .colab-df-convert:hover {\n",
              "      background-color: #434B5C;\n",
              "      box-shadow: 0px 1px 3px 1px rgba(0, 0, 0, 0.15);\n",
              "      filter: drop-shadow(0px 1px 2px rgba(0, 0, 0, 0.3));\n",
              "      fill: #FFFFFF;\n",
              "    }\n",
              "  </style>\n",
              "\n",
              "      <script>\n",
              "        const buttonEl =\n",
              "          document.querySelector('#df-ecde892f-fcb3-496e-ae00-af50fdc18bb2 button.colab-df-convert');\n",
              "        buttonEl.style.display =\n",
              "          google.colab.kernel.accessAllowed ? 'block' : 'none';\n",
              "\n",
              "        async function convertToInteractive(key) {\n",
              "          const element = document.querySelector('#df-ecde892f-fcb3-496e-ae00-af50fdc18bb2');\n",
              "          const dataTable =\n",
              "            await google.colab.kernel.invokeFunction('convertToInteractive',\n",
              "                                                     [key], {});\n",
              "          if (!dataTable) return;\n",
              "\n",
              "          const docLinkHtml = 'Like what you see? Visit the ' +\n",
              "            '<a target=\"_blank\" href=https://colab.research.google.com/notebooks/data_table.ipynb>data table notebook</a>'\n",
              "            + ' to learn more about interactive tables.';\n",
              "          element.innerHTML = '';\n",
              "          dataTable['output_type'] = 'display_data';\n",
              "          await google.colab.output.renderOutput(dataTable, element);\n",
              "          const docLink = document.createElement('div');\n",
              "          docLink.innerHTML = docLinkHtml;\n",
              "          element.appendChild(docLink);\n",
              "        }\n",
              "      </script>\n",
              "    </div>\n",
              "  </div>\n",
              "  "
            ]
          },
          "metadata": {},
          "execution_count": 51
        }
      ]
    },
    {
      "cell_type": "code",
      "source": [
        "from langdetect import detect\n",
        "clean_df['Language'] = clean_df['Comment'].apply(lambda x: detect(x))\n",
        "clean_df.head()"
      ],
      "metadata": {
        "id": "pjeWOlFuMyAm",
        "colab": {
          "base_uri": "https://localhost:8080/",
          "height": 206
        },
        "outputId": "6fda5d15-16e3-4740-92fc-f4bbedcd14e3"
      },
      "execution_count": null,
      "outputs": [
        {
          "output_type": "execute_result",
          "data": {
            "text/plain": [
              "            Author                                            Comment  \\\n",
              "0      Rick Astley  1 billion views for never gonna give you up am...   \n",
              "1     Amelia Honey  this has been the most amazing rick roll i hav...   \n",
              "2   XIÁN PENA PUZA  naah temardo en verdad 21047218 personas ya lo...   \n",
              "3     Rafael Perez  naah temardo en verdad 6025619 personas ya lo ...   \n",
              "4  Natan Kozłowski  even whens its 2023 thousands of people still ...   \n",
              "\n",
              "              Timestamp    Likes  TotalReplies Language  \n",
              "0  2021-07-28T21:00:32Z  1165839           497       en  \n",
              "1  2022-05-13T22:16:45Z      720            39       en  \n",
              "2  2023-01-01T14:10:35Z       62             9       es  \n",
              "3  2022-12-31T15:25:35Z      395            11       es  \n",
              "4  2022-12-30T18:57:47Z      219            19       en  "
            ],
            "text/html": [
              "\n",
              "  <div id=\"df-d4f096a3-a113-40e1-9b43-bdba23d9b22f\">\n",
              "    <div class=\"colab-df-container\">\n",
              "      <div>\n",
              "<style scoped>\n",
              "    .dataframe tbody tr th:only-of-type {\n",
              "        vertical-align: middle;\n",
              "    }\n",
              "\n",
              "    .dataframe tbody tr th {\n",
              "        vertical-align: top;\n",
              "    }\n",
              "\n",
              "    .dataframe thead th {\n",
              "        text-align: right;\n",
              "    }\n",
              "</style>\n",
              "<table border=\"1\" class=\"dataframe\">\n",
              "  <thead>\n",
              "    <tr style=\"text-align: right;\">\n",
              "      <th></th>\n",
              "      <th>Author</th>\n",
              "      <th>Comment</th>\n",
              "      <th>Timestamp</th>\n",
              "      <th>Likes</th>\n",
              "      <th>TotalReplies</th>\n",
              "      <th>Language</th>\n",
              "    </tr>\n",
              "  </thead>\n",
              "  <tbody>\n",
              "    <tr>\n",
              "      <th>0</th>\n",
              "      <td>Rick Astley</td>\n",
              "      <td>1 billion views for never gonna give you up am...</td>\n",
              "      <td>2021-07-28T21:00:32Z</td>\n",
              "      <td>1165839</td>\n",
              "      <td>497</td>\n",
              "      <td>en</td>\n",
              "    </tr>\n",
              "    <tr>\n",
              "      <th>1</th>\n",
              "      <td>Amelia Honey</td>\n",
              "      <td>this has been the most amazing rick roll i hav...</td>\n",
              "      <td>2022-05-13T22:16:45Z</td>\n",
              "      <td>720</td>\n",
              "      <td>39</td>\n",
              "      <td>en</td>\n",
              "    </tr>\n",
              "    <tr>\n",
              "      <th>2</th>\n",
              "      <td>XIÁN PENA PUZA</td>\n",
              "      <td>naah temardo en verdad 21047218 personas ya lo...</td>\n",
              "      <td>2023-01-01T14:10:35Z</td>\n",
              "      <td>62</td>\n",
              "      <td>9</td>\n",
              "      <td>es</td>\n",
              "    </tr>\n",
              "    <tr>\n",
              "      <th>3</th>\n",
              "      <td>Rafael Perez</td>\n",
              "      <td>naah temardo en verdad 6025619 personas ya lo ...</td>\n",
              "      <td>2022-12-31T15:25:35Z</td>\n",
              "      <td>395</td>\n",
              "      <td>11</td>\n",
              "      <td>es</td>\n",
              "    </tr>\n",
              "    <tr>\n",
              "      <th>4</th>\n",
              "      <td>Natan Kozłowski</td>\n",
              "      <td>even whens its 2023 thousands of people still ...</td>\n",
              "      <td>2022-12-30T18:57:47Z</td>\n",
              "      <td>219</td>\n",
              "      <td>19</td>\n",
              "      <td>en</td>\n",
              "    </tr>\n",
              "  </tbody>\n",
              "</table>\n",
              "</div>\n",
              "      <button class=\"colab-df-convert\" onclick=\"convertToInteractive('df-d4f096a3-a113-40e1-9b43-bdba23d9b22f')\"\n",
              "              title=\"Convert this dataframe to an interactive table.\"\n",
              "              style=\"display:none;\">\n",
              "        \n",
              "  <svg xmlns=\"http://www.w3.org/2000/svg\" height=\"24px\"viewBox=\"0 0 24 24\"\n",
              "       width=\"24px\">\n",
              "    <path d=\"M0 0h24v24H0V0z\" fill=\"none\"/>\n",
              "    <path d=\"M18.56 5.44l.94 2.06.94-2.06 2.06-.94-2.06-.94-.94-2.06-.94 2.06-2.06.94zm-11 1L8.5 8.5l.94-2.06 2.06-.94-2.06-.94L8.5 2.5l-.94 2.06-2.06.94zm10 10l.94 2.06.94-2.06 2.06-.94-2.06-.94-.94-2.06-.94 2.06-2.06.94z\"/><path d=\"M17.41 7.96l-1.37-1.37c-.4-.4-.92-.59-1.43-.59-.52 0-1.04.2-1.43.59L10.3 9.45l-7.72 7.72c-.78.78-.78 2.05 0 2.83L4 21.41c.39.39.9.59 1.41.59.51 0 1.02-.2 1.41-.59l7.78-7.78 2.81-2.81c.8-.78.8-2.07 0-2.86zM5.41 20L4 18.59l7.72-7.72 1.47 1.35L5.41 20z\"/>\n",
              "  </svg>\n",
              "      </button>\n",
              "      \n",
              "  <style>\n",
              "    .colab-df-container {\n",
              "      display:flex;\n",
              "      flex-wrap:wrap;\n",
              "      gap: 12px;\n",
              "    }\n",
              "\n",
              "    .colab-df-convert {\n",
              "      background-color: #E8F0FE;\n",
              "      border: none;\n",
              "      border-radius: 50%;\n",
              "      cursor: pointer;\n",
              "      display: none;\n",
              "      fill: #1967D2;\n",
              "      height: 32px;\n",
              "      padding: 0 0 0 0;\n",
              "      width: 32px;\n",
              "    }\n",
              "\n",
              "    .colab-df-convert:hover {\n",
              "      background-color: #E2EBFA;\n",
              "      box-shadow: 0px 1px 2px rgba(60, 64, 67, 0.3), 0px 1px 3px 1px rgba(60, 64, 67, 0.15);\n",
              "      fill: #174EA6;\n",
              "    }\n",
              "\n",
              "    [theme=dark] .colab-df-convert {\n",
              "      background-color: #3B4455;\n",
              "      fill: #D2E3FC;\n",
              "    }\n",
              "\n",
              "    [theme=dark] .colab-df-convert:hover {\n",
              "      background-color: #434B5C;\n",
              "      box-shadow: 0px 1px 3px 1px rgba(0, 0, 0, 0.15);\n",
              "      filter: drop-shadow(0px 1px 2px rgba(0, 0, 0, 0.3));\n",
              "      fill: #FFFFFF;\n",
              "    }\n",
              "  </style>\n",
              "\n",
              "      <script>\n",
              "        const buttonEl =\n",
              "          document.querySelector('#df-d4f096a3-a113-40e1-9b43-bdba23d9b22f button.colab-df-convert');\n",
              "        buttonEl.style.display =\n",
              "          google.colab.kernel.accessAllowed ? 'block' : 'none';\n",
              "\n",
              "        async function convertToInteractive(key) {\n",
              "          const element = document.querySelector('#df-d4f096a3-a113-40e1-9b43-bdba23d9b22f');\n",
              "          const dataTable =\n",
              "            await google.colab.kernel.invokeFunction('convertToInteractive',\n",
              "                                                     [key], {});\n",
              "          if (!dataTable) return;\n",
              "\n",
              "          const docLinkHtml = 'Like what you see? Visit the ' +\n",
              "            '<a target=\"_blank\" href=https://colab.research.google.com/notebooks/data_table.ipynb>data table notebook</a>'\n",
              "            + ' to learn more about interactive tables.';\n",
              "          element.innerHTML = '';\n",
              "          dataTable['output_type'] = 'display_data';\n",
              "          await google.colab.output.renderOutput(dataTable, element);\n",
              "          const docLink = document.createElement('div');\n",
              "          docLink.innerHTML = docLinkHtml;\n",
              "          element.appendChild(docLink);\n",
              "        }\n",
              "      </script>\n",
              "    </div>\n",
              "  </div>\n",
              "  "
            ]
          },
          "metadata": {},
          "execution_count": 52
        }
      ]
    },
    {
      "cell_type": "code",
      "source": [
        "import pycountry\n",
        "# Convert ISO country codes to Languages\n",
        "clean_df['Language'] = clean_df['Language'].apply(lambda x: pycountry.languages.get(alpha_2=x).name)\n",
        "clean_df.head()"
      ],
      "metadata": {
        "id": "EotEzuxJt5Zi",
        "colab": {
          "base_uri": "https://localhost:8080/",
          "height": 206
        },
        "outputId": "1e021f98-8cc1-4914-a7ed-7c19b70dd56a"
      },
      "execution_count": null,
      "outputs": [
        {
          "output_type": "execute_result",
          "data": {
            "text/plain": [
              "            Author                                            Comment  \\\n",
              "0      Rick Astley  1 billion views for never gonna give you up am...   \n",
              "1     Amelia Honey  this has been the most amazing rick roll i hav...   \n",
              "2   XIÁN PENA PUZA  naah temardo en verdad 21047218 personas ya lo...   \n",
              "3     Rafael Perez  naah temardo en verdad 6025619 personas ya lo ...   \n",
              "4  Natan Kozłowski  even whens its 2023 thousands of people still ...   \n",
              "\n",
              "              Timestamp    Likes  TotalReplies Language  \n",
              "0  2021-07-28T21:00:32Z  1165839           497  English  \n",
              "1  2022-05-13T22:16:45Z      720            39  English  \n",
              "2  2023-01-01T14:10:35Z       62             9  Spanish  \n",
              "3  2022-12-31T15:25:35Z      395            11  Spanish  \n",
              "4  2022-12-30T18:57:47Z      219            19  English  "
            ],
            "text/html": [
              "\n",
              "  <div id=\"df-7ce49804-80ec-4abd-bf95-d5664e5a4c82\">\n",
              "    <div class=\"colab-df-container\">\n",
              "      <div>\n",
              "<style scoped>\n",
              "    .dataframe tbody tr th:only-of-type {\n",
              "        vertical-align: middle;\n",
              "    }\n",
              "\n",
              "    .dataframe tbody tr th {\n",
              "        vertical-align: top;\n",
              "    }\n",
              "\n",
              "    .dataframe thead th {\n",
              "        text-align: right;\n",
              "    }\n",
              "</style>\n",
              "<table border=\"1\" class=\"dataframe\">\n",
              "  <thead>\n",
              "    <tr style=\"text-align: right;\">\n",
              "      <th></th>\n",
              "      <th>Author</th>\n",
              "      <th>Comment</th>\n",
              "      <th>Timestamp</th>\n",
              "      <th>Likes</th>\n",
              "      <th>TotalReplies</th>\n",
              "      <th>Language</th>\n",
              "    </tr>\n",
              "  </thead>\n",
              "  <tbody>\n",
              "    <tr>\n",
              "      <th>0</th>\n",
              "      <td>Rick Astley</td>\n",
              "      <td>1 billion views for never gonna give you up am...</td>\n",
              "      <td>2021-07-28T21:00:32Z</td>\n",
              "      <td>1165839</td>\n",
              "      <td>497</td>\n",
              "      <td>English</td>\n",
              "    </tr>\n",
              "    <tr>\n",
              "      <th>1</th>\n",
              "      <td>Amelia Honey</td>\n",
              "      <td>this has been the most amazing rick roll i hav...</td>\n",
              "      <td>2022-05-13T22:16:45Z</td>\n",
              "      <td>720</td>\n",
              "      <td>39</td>\n",
              "      <td>English</td>\n",
              "    </tr>\n",
              "    <tr>\n",
              "      <th>2</th>\n",
              "      <td>XIÁN PENA PUZA</td>\n",
              "      <td>naah temardo en verdad 21047218 personas ya lo...</td>\n",
              "      <td>2023-01-01T14:10:35Z</td>\n",
              "      <td>62</td>\n",
              "      <td>9</td>\n",
              "      <td>Spanish</td>\n",
              "    </tr>\n",
              "    <tr>\n",
              "      <th>3</th>\n",
              "      <td>Rafael Perez</td>\n",
              "      <td>naah temardo en verdad 6025619 personas ya lo ...</td>\n",
              "      <td>2022-12-31T15:25:35Z</td>\n",
              "      <td>395</td>\n",
              "      <td>11</td>\n",
              "      <td>Spanish</td>\n",
              "    </tr>\n",
              "    <tr>\n",
              "      <th>4</th>\n",
              "      <td>Natan Kozłowski</td>\n",
              "      <td>even whens its 2023 thousands of people still ...</td>\n",
              "      <td>2022-12-30T18:57:47Z</td>\n",
              "      <td>219</td>\n",
              "      <td>19</td>\n",
              "      <td>English</td>\n",
              "    </tr>\n",
              "  </tbody>\n",
              "</table>\n",
              "</div>\n",
              "      <button class=\"colab-df-convert\" onclick=\"convertToInteractive('df-7ce49804-80ec-4abd-bf95-d5664e5a4c82')\"\n",
              "              title=\"Convert this dataframe to an interactive table.\"\n",
              "              style=\"display:none;\">\n",
              "        \n",
              "  <svg xmlns=\"http://www.w3.org/2000/svg\" height=\"24px\"viewBox=\"0 0 24 24\"\n",
              "       width=\"24px\">\n",
              "    <path d=\"M0 0h24v24H0V0z\" fill=\"none\"/>\n",
              "    <path d=\"M18.56 5.44l.94 2.06.94-2.06 2.06-.94-2.06-.94-.94-2.06-.94 2.06-2.06.94zm-11 1L8.5 8.5l.94-2.06 2.06-.94-2.06-.94L8.5 2.5l-.94 2.06-2.06.94zm10 10l.94 2.06.94-2.06 2.06-.94-2.06-.94-.94-2.06-.94 2.06-2.06.94z\"/><path d=\"M17.41 7.96l-1.37-1.37c-.4-.4-.92-.59-1.43-.59-.52 0-1.04.2-1.43.59L10.3 9.45l-7.72 7.72c-.78.78-.78 2.05 0 2.83L4 21.41c.39.39.9.59 1.41.59.51 0 1.02-.2 1.41-.59l7.78-7.78 2.81-2.81c.8-.78.8-2.07 0-2.86zM5.41 20L4 18.59l7.72-7.72 1.47 1.35L5.41 20z\"/>\n",
              "  </svg>\n",
              "      </button>\n",
              "      \n",
              "  <style>\n",
              "    .colab-df-container {\n",
              "      display:flex;\n",
              "      flex-wrap:wrap;\n",
              "      gap: 12px;\n",
              "    }\n",
              "\n",
              "    .colab-df-convert {\n",
              "      background-color: #E8F0FE;\n",
              "      border: none;\n",
              "      border-radius: 50%;\n",
              "      cursor: pointer;\n",
              "      display: none;\n",
              "      fill: #1967D2;\n",
              "      height: 32px;\n",
              "      padding: 0 0 0 0;\n",
              "      width: 32px;\n",
              "    }\n",
              "\n",
              "    .colab-df-convert:hover {\n",
              "      background-color: #E2EBFA;\n",
              "      box-shadow: 0px 1px 2px rgba(60, 64, 67, 0.3), 0px 1px 3px 1px rgba(60, 64, 67, 0.15);\n",
              "      fill: #174EA6;\n",
              "    }\n",
              "\n",
              "    [theme=dark] .colab-df-convert {\n",
              "      background-color: #3B4455;\n",
              "      fill: #D2E3FC;\n",
              "    }\n",
              "\n",
              "    [theme=dark] .colab-df-convert:hover {\n",
              "      background-color: #434B5C;\n",
              "      box-shadow: 0px 1px 3px 1px rgba(0, 0, 0, 0.15);\n",
              "      filter: drop-shadow(0px 1px 2px rgba(0, 0, 0, 0.3));\n",
              "      fill: #FFFFFF;\n",
              "    }\n",
              "  </style>\n",
              "\n",
              "      <script>\n",
              "        const buttonEl =\n",
              "          document.querySelector('#df-7ce49804-80ec-4abd-bf95-d5664e5a4c82 button.colab-df-convert');\n",
              "        buttonEl.style.display =\n",
              "          google.colab.kernel.accessAllowed ? 'block' : 'none';\n",
              "\n",
              "        async function convertToInteractive(key) {\n",
              "          const element = document.querySelector('#df-7ce49804-80ec-4abd-bf95-d5664e5a4c82');\n",
              "          const dataTable =\n",
              "            await google.colab.kernel.invokeFunction('convertToInteractive',\n",
              "                                                     [key], {});\n",
              "          if (!dataTable) return;\n",
              "\n",
              "          const docLinkHtml = 'Like what you see? Visit the ' +\n",
              "            '<a target=\"_blank\" href=https://colab.research.google.com/notebooks/data_table.ipynb>data table notebook</a>'\n",
              "            + ' to learn more about interactive tables.';\n",
              "          element.innerHTML = '';\n",
              "          dataTable['output_type'] = 'display_data';\n",
              "          await google.colab.output.renderOutput(dataTable, element);\n",
              "          const docLink = document.createElement('div');\n",
              "          docLink.innerHTML = docLinkHtml;\n",
              "          element.appendChild(docLink);\n",
              "        }\n",
              "      </script>\n",
              "    </div>\n",
              "  </div>\n",
              "  "
            ]
          },
          "metadata": {},
          "execution_count": 53
        }
      ]
    }
  ]
}