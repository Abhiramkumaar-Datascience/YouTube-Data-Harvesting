{
  "nbformat": 4,
  "nbformat_minor": 0,
  "metadata": {
    "colab": {
      "provenance": [],
      "authorship_tag": "ABX9TyPHo+ZZONaDpOxFt7SsFYNs"
    },
    "kernelspec": {
      "name": "python3",
      "display_name": "Python 3"
    },
    "language_info": {
      "name": "python"
    }
  },
  "cells": [
    {
      "cell_type": "markdown",
      "source": [
        "# YouTube NLP"
      ],
      "metadata": {
        "id": "oyWNPLCREeBm"
      }
    },
    {
      "cell_type": "markdown",
      "source": [
        "## Ingesting Comments from the YouTube Video"
      ],
      "metadata": {
        "id": "wyBnA3NgEi0W"
      }
    },
    {
      "cell_type": "code",
      "source": [
        "api_key = ''"
      ],
      "metadata": {
        "id": "ub2kJ5eEF0xF"
      },
      "execution_count": 1,
      "outputs": []
    },
    {
      "cell_type": "code",
      "execution_count": 2,
      "metadata": {
        "id": "bcsli4zgbOaK"
      },
      "outputs": [],
      "source": [
        "from googleapiclient.discovery import build\n",
        "\n",
        "# The string after v=? in the url\n",
        "video_id = \"dQw4w9WgXcQ\"\n",
        "\n",
        "# creating youtube resource object\n",
        "youtube = build('youtube', 'v3',\n",
        "developerKey=api_key)\n",
        "\n",
        "# retrieve youtube video results\n",
        "video_response=youtube.commentThreads().list(\n",
        "  part='snippet',\n",
        "  maxResults=1000,\n",
        "  order='relevance',\n",
        "  videoId=video_id\n",
        ").execute()\n"
      ]
    },
    {
      "cell_type": "markdown",
      "source": [
        "## Data Preprocessing"
      ],
      "metadata": {
        "id": "yq7-bNkVEu8f"
      }
    },
    {
      "cell_type": "markdown",
      "source": [
        "### Data Wrangling"
      ],
      "metadata": {
        "id": "9d3Gu80DEzxz"
      }
    },
    {
      "cell_type": "markdown",
      "source": [
        "#### Assumptions\n",
        "\n",
        "\n",
        "*   Picking only the comment made by the original author\n",
        "  *   Comment Threads on the Original Authors comment could be diverging from the video\n",
        "  *   Limiting Response to about 10 for testing\n",
        "\n",
        "*   Using the 'textOriginal' instead of 'textDisplay' for easier cleanup of the comment\n",
        "\n",
        "\n",
        "*   Analyzing only English Comments \n",
        "  *   Storing the number of non English comments for metrics\n",
        "\n",
        "\n",
        "\n",
        "\n",
        "\n",
        "\n"
      ],
      "metadata": {
        "id": "y5znsobSE77W"
      }
    },
    {
      "cell_type": "code",
      "source": [
        "# empty list for storing reply\n",
        "comments = []\n",
        "\n",
        "# extracting required info from each result object\n",
        "for item in video_response['items']:\n",
        "\n",
        "  # Extracting comments\n",
        "  comment = item['snippet']['topLevelComment']['snippet']['textOriginal']\n",
        "  # Extracting author\n",
        "  author = item['snippet']['topLevelComment']['snippet']['authorDisplayName']\n",
        "  # Extracting published time\n",
        "  published_at = item['snippet']['topLevelComment']['snippet']['publishedAt']\n",
        "  # Extracting likes\n",
        "  like_count = item['snippet']['topLevelComment']['snippet']['likeCount']\n",
        "  # Extracting total replies to the comment\n",
        "  reply_count = item['snippet']['totalReplyCount']\n",
        "\n",
        "  comments.append([author, comment, published_at, like_count, reply_count])"
      ],
      "metadata": {
        "id": "B3ZHIuZD-60O"
      },
      "execution_count": 30,
      "outputs": []
    },
    {
      "cell_type": "code",
      "source": [
        "comments[0:5]"
      ],
      "metadata": {
        "colab": {
          "base_uri": "https://localhost:8080/"
        },
        "id": "DBjTDTtyAdZv",
        "outputId": "cabb747d-ed0f-4642-cc61-6748476ff1bc"
      },
      "execution_count": 31,
      "outputs": [
        {
          "output_type": "execute_result",
          "data": {
            "text/plain": [
              "['Space Shuttle Atlantis',\n",
              " 'Memes aside, even after 13 years this song still has value and gives that early 200s and 1980s vibe , back when the world was at its best.',\n",
              " '2022-12-31T17:13:19Z',\n",
              " 204,\n",
              " 16]"
            ]
          },
          "metadata": {},
          "execution_count": 31
        }
      ]
    },
    {
      "cell_type": "markdown",
      "source": [
        "### NLP"
      ],
      "metadata": {
        "id": "L0AzgXPqId-h"
      }
    },
    {
      "cell_type": "markdown",
      "source": [
        "#### Install Libraries"
      ],
      "metadata": {
        "id": "S8uoCx8SMzCi"
      }
    },
    {
      "cell_type": "code",
      "source": [
        "pip install Unidecode"
      ],
      "metadata": {
        "colab": {
          "base_uri": "https://localhost:8080/"
        },
        "id": "s9vNdtwZQH1q",
        "outputId": "eec06d99-ae05-4a45-ef69-b054563ec325"
      },
      "execution_count": 7,
      "outputs": [
        {
          "output_type": "stream",
          "name": "stdout",
          "text": [
            "Looking in indexes: https://pypi.org/simple, https://us-python.pkg.dev/colab-wheels/public/simple/\n",
            "Requirement already satisfied: Unidecode in /usr/local/lib/python3.8/dist-packages (1.3.6)\n"
          ]
        }
      ]
    },
    {
      "cell_type": "code",
      "source": [
        "pip install langdetect"
      ],
      "metadata": {
        "colab": {
          "base_uri": "https://localhost:8080/"
        },
        "id": "REkYtE-yBLka",
        "outputId": "fce542e2-39ba-41b9-863c-a0395a40b653"
      },
      "execution_count": 8,
      "outputs": [
        {
          "output_type": "stream",
          "name": "stdout",
          "text": [
            "Looking in indexes: https://pypi.org/simple, https://us-python.pkg.dev/colab-wheels/public/simple/\n",
            "Requirement already satisfied: langdetect in /usr/local/lib/python3.8/dist-packages (1.0.9)\n",
            "Requirement already satisfied: six in /usr/local/lib/python3.8/dist-packages (from langdetect) (1.15.0)\n"
          ]
        }
      ]
    },
    {
      "cell_type": "code",
      "source": [
        "pip install pycountry"
      ],
      "metadata": {
        "colab": {
          "base_uri": "https://localhost:8080/"
        },
        "id": "NNQ4fQN7thuK",
        "outputId": "e8e8f986-ef67-4325-e9e0-71ce8cf2a8b0"
      },
      "execution_count": 9,
      "outputs": [
        {
          "output_type": "stream",
          "name": "stdout",
          "text": [
            "Looking in indexes: https://pypi.org/simple, https://us-python.pkg.dev/colab-wheels/public/simple/\n",
            "Requirement already satisfied: pycountry in /usr/local/lib/python3.8/dist-packages (22.3.5)\n",
            "Requirement already satisfied: setuptools in /usr/local/lib/python3.8/dist-packages (from pycountry) (57.4.0)\n"
          ]
        }
      ]
    },
    {
      "cell_type": "code",
      "source": [
        "pip install clean-text"
      ],
      "metadata": {
        "colab": {
          "base_uri": "https://localhost:8080/"
        },
        "id": "ohOw66wPNnw3",
        "outputId": "effc5c31-8075-47f3-e21d-6e0c790008d3"
      },
      "execution_count": 10,
      "outputs": [
        {
          "output_type": "stream",
          "name": "stdout",
          "text": [
            "Looking in indexes: https://pypi.org/simple, https://us-python.pkg.dev/colab-wheels/public/simple/\n",
            "Requirement already satisfied: clean-text in /usr/local/lib/python3.8/dist-packages (0.6.0)\n",
            "Requirement already satisfied: ftfy<7.0,>=6.0 in /usr/local/lib/python3.8/dist-packages (from clean-text) (6.1.1)\n",
            "Requirement already satisfied: emoji<2.0.0,>=1.0.0 in /usr/local/lib/python3.8/dist-packages (from clean-text) (1.7.0)\n",
            "Requirement already satisfied: wcwidth>=0.2.5 in /usr/local/lib/python3.8/dist-packages (from ftfy<7.0,>=6.0->clean-text) (0.2.5)\n"
          ]
        }
      ]
    },
    {
      "cell_type": "markdown",
      "source": [
        "#### Text Processing"
      ],
      "metadata": {
        "id": "BtgMRdJeM9ad"
      }
    },
    {
      "cell_type": "code",
      "source": [
        "[items[1] for items in comments]"
      ],
      "metadata": {
        "colab": {
          "base_uri": "https://localhost:8080/"
        },
        "id": "i4MuCHTgBwaf",
        "outputId": "06398433-1dce-4197-d702-f639b5f74560"
      },
      "execution_count": 11,
      "outputs": [
        {
          "output_type": "execute_result",
          "data": {
            "text/plain": [
              "['1 BILLION views for Never Gonna Give You Up!\\xa0 Amazing, crazy, wonderful! Rick ♥️',\n",
              " 'This has been the most amazing rick roll I have ever gotten. Thank you discord',\n",
              " 'Naah... temardo en verdad 😎🤙\\n6025619 personas ya lo han escuchado,\\nespero que te haya gustado 😉',\n",
              " 'Even when’s it’s 2023 thousands of people still listen to this song everyday,it never gets old❤',\n",
              " 'Naah... temardo en verdad 😎🤙\\n21047218 personas ya lo han escuchado,\\nespero que te haya gustado 😉',\n",
              " 'Memes aside, even after 13 years this song still has value and gives that early 200s and 1980s vibe , back when the world was at its best.',\n",
              " 'It’s come to the point that being rickrolled is a privilege',\n",
              " \"I grew up with this song since I was born. I got Rick rolled million of times, and I still love it with all my heart, I'll never get tired of it <3\",\n",
              " 'Greatest music video the 90’s ever saw!',\n",
              " \"Honestly I love this song, so whenever i get rick rolled I actually thank the person for sending it! Don't hate the player, hate the game. \\nI don't understand why people get s\\n\\n\\nWe're no strangers to love\\nYou know the rules and so do I\\nA full commitment's what I'm thinking of\\nYou wouldn't get this from any other guy\\n\\nI just wanna tell you how I'm feeling\\nGotta make you understand\\n\\nNever gonna give you up\\nNever gonna let you down\\nNever gonna run around and desert you\\nNever gonna make you cry\\nNever gonna say goodbye\\nNever gonna tell a lie and hurt you\\n\\nWe've known each other for so long\\nYour heart's been aching but you're too shy to say it\\nInside we both know what's been going on\\nWe know the game and we're gonna play it\\nAnd if you ask me how I'm feeling\\nDon't tell me you're too blind to see\\n\\nNever gonna give you up\\nNever gonna let you down\\nNever gonna run around and desert you\\nNever gonna make you cry\\nNever gonna say goodbye\\nNever gonna tell a lie and hurt you\\n\\nNever gonna give you up\\nNever gonna let you down\\nNever gonna run around and desert you\\nNever gonna make you cry\\nNever gonna say goodbye\\nNever gonna tell a lie and hurt you\\n\\nNever gonna give, never gonna give\\n(Give you up)\\n\\nWe've known each other for so long\\nYour heart's been aching but you're too shy to say it\\nInside we both know what's been going on\\nWe know the game and we're gonna play it\\n\\nI just wanna tell you how I'm feeling\\nGotta make you understand\\n\\nNever gonna give you up\\nNever gonna let you down\\nNever gonna run around and desert you\\nNever gonna make you cry\\nNever gonna say goodbye\\nNever gonna tell a lie and hurt you\\n\\nNever gonna give you up\\nNever gonna let you down\\nNever gonna run around and desert you\\nNever gonna make you cry\\nNever gonna say goodbye\\nNever gonna tell a lie and hurt you\\n\\nNever gonna give you up\\nNever gonna let you down\\nNever gonna run around and desert you\\nNever gonna make you cry\\nNever gonna say goodbye\\n\\n\\nMan.. you really got rick rolled again? That's kinda sad.. but anyways! Have a great day.\",\n",
              " 'One of the few people to rickroll first in 2023 in the UK time , i feel proud! .',\n",
              " \"This isn't your first time here\\nAnd you know it.\",\n",
              " 'Olvidona, la fragancia',\n",
              " 'Naah... temardo en verdad 😎🤙\\n32650286 personas ya lo han escuchado,\\nespero que te haya gustado 😉',\n",
              " 'I’m singing this song for karaoke night today :D                      (Btw happy new year 🎆)',\n",
              " 'Like si vienes del Rewind Hispano 2022 👍🏻\\n\\n\\n\\nQue grandes, Olvidona colaborando con un grande, volviendo ha hacer famoso el tema.\\n\\n\\n\\nFELICES FIESTAS GENTE!',\n",
              " 'this music video is still going strong!',\n",
              " 'Definitely what brings us all here is the new year 2023 This song is now a year older!\\nThis masterpiece will bring abundant joy, prosperity, love, and blessings!',\n",
              " 'Ended the year with a rickroll, 2022 has been crazy',\n",
              " 'LPM como caí con Olvidona, la nueva fragancia que te hará ver elegante y tener todas las mujeres detrás de ti.',\n",
              " 'Naah... temardo en verdad 😎🤙\\r\\n2193580 personas ya lo han escuchado,\\r\\nespero que te haya gustado 😉',\n",
              " 'sometimes you just gotta rickroll yourself because no one else will',\n",
              " 'Olvidona es la nueva fragancia concebida para dominarlas a todas\\r\\nUn intenso poder de frescura mentolada estalla con la elegante lavanda. Un Eau de Parfum que despierta los sentidos. La energía convertida en líquido. El vigoroso pomelo y el ajenjo contrastan con las notas más ricas y masculinas del pachulí y el ciprés: un final amaderado para aportar fuerza y complejidad. Descubra la mezcla radical de la potencia pura y la elegancia.',\n",
              " 'I hope that this person has no idea how famous they are because of this simple music video, You Rick, You are the fear of everyone on Discord! Congratulations 👏🏻👏🏻',\n",
              " 'Olvidona es la nueva fragancia concebida para dominarlas a todas\\r\\nUn intenso poder de frescura mentolada estalla con la elegante lavanda. Un Eau de Parfum que despierta los sentidos. La energía convertida en líquido. El vigoroso pomelo y el ajenjo contrastan con las notas más ricas y masculinas del pachulí y el ciprés: un final amaderado para aportar fuerza y complejidad. Descubra la mezcla radical de la potencia pura y la elegancia.',\n",
              " 'Once upon a time, a wise man once said \"Never Gonna Let You Down\" and was true...',\n",
              " 'I definitely did NOT just get Rick Rolled, shut up, you did\\n*cries*',\n",
              " 'Naah... temardo en verdad 😎🤙\\r\\n8663265 personas ya lo han escuchado,\\r\\nespero que te haya gustado 😉',\n",
              " 'Just rickrolled my family, feeling good',\n",
              " 'Olvidona es la nueva fragancia concebida para dominarlas a todas\\r\\nUn intenso poder de frescura mentolada estalla con la elegante lavanda. Un Eau de Parfum que despierta los sentidos. La energía convertida en líquido. El vigoroso pomelo y el ajenjo contrastan con las notas más ricas y masculinas del pachulí y el ciprés: un final amaderado para aportar fuerza y complejidad. Descubra la mezcla radical de la potencia pura y la elegancia.',\n",
              " 'Rick Astley haciéndose aún más famoso gracias al Rewind Hispano 2022, sencillamente maravilloso\\n\\nEdit: Gracias por los likes gente, espero que vuestro 2023 sea próspero y mejor que este 2022!',\n",
              " 'Keep rickrolling people till we get 1 billion views.',\n",
              " 'My best song ❤️',\n",
              " 'Que grande Olvidona, colaborando con millones de visitas más a este temazo, que humildad 👏👏',\n",
              " 'Naah... temardo en verdad 😎🤙\\n4127368 personas ya lo han escuchado,\\nespero que te haya gustado 😉',\n",
              " 'my life is complete when everyone on earth has clicked the rickroll link thinking its a different video',\n",
              " 'His voice has 50 years more than him or what',\n",
              " 'ill hear this forever',\n",
              " 'ima be in an old folks home at 80 still grooving to this :D',\n",
              " 'Naah... temardo en verdad 😎🤙\\r\\n2100011 personas ya lo han escuchado,\\r\\nespero que te haya gustado 😉',\n",
              " \"I just got Rick Rolled by a YouTuber and I'm going to make up for it by watching this music till the end.\",\n",
              " \"We got rickrolled so many times that we don't even care anymore\",\n",
              " \"This isn't your first time here and you know it.\",\n",
              " 'Naah... temardo en verdad 😎🤙\\r\\n32496058 personas ya lo han escuchado,\\r\\nespero que te haya gustado 😉',\n",
              " 'The legend…',\n",
              " 'Yo solo quería saber donde comprar Olvidona, pero terminé en tremendo temazo 😎😎😎😎',\n",
              " 'I looked up this video forgot that I did, clicked the tab and got rick rolled by my past self',\n",
              " 'GUYS, LAST RICK ROLL BEFORE 2023!',\n",
              " 'Nice job Rick',\n",
              " 'Abri Olvidona Y ¡ME RICK ROLEARON A MI!',\n",
              " 'This song is like to travel back in time on  a time machine, and 35 years after, you get the same emotions. this a pure art.',\n",
              " 'He looks like a normal Teenager, But his Voice kills',\n",
              " 'aqui los que vienen del rewind hispano 2022\\n 👇 tremendo el olvidona XD',\n",
              " 'when i was trying to watch youtube i click on this and got rickrolled 😄😄😄😄😄',\n",
              " 'YA estuve aqui 8 veces hoy',\n",
              " 'Olvidona es la nueva fragancia concebida para dominarlas a todas\\r\\nUn intenso poder de frescura mentolada estalla con la elegante lavanda. Un Eau de Parfum que despierta los sentidos. La energía convertida en líquido. El vigoroso pomelo y el ajenjo contrastan con las notas más ricas y masculinas del pachulí y el ciprés: un final amaderado para aportar fuerza y complejidad. Descubra la mezcla radical de la potencia pura y la elegancia.',\n",
              " 'And as always, this would be a rickroll. And never gets old.',\n",
              " 'Que buena fragancia ❤❤❤❤',\n",
              " 'Many kudos, bro! 😄',\n",
              " 'I still remember being barely 13 and playing this  cassette tape over and over and over again while I dreamed of my first true crush 😍! 35 years later Rick Astley still has never let me down…LoL',\n",
              " 'i love this',\n",
              " \"When they put ads so you can't rickroll anymore\",\n",
              " 'Me encanta olvidona, una fragancia excepcional.',\n",
              " 'Never gonna give you up!',\n",
              " \"Man this  brings  back  memories.  You really  don't  realize  how old  I  have gotten.  It  is  still  good  to  hear this.  Thanks you tube\",\n",
              " 'Yo quería el perfume Olvidona que es la nueva fragancia concebida para dominarlas a todas. Un intenso poder de frescura mentolada estalla con la elegante lavanda. Un Eau de Parfum que despierta los sentidos. La energía convertida en líquido. El vigoroso pomelo y el ajenjo contrastan con las notas más ricas y masculinas del pachuli y el ciprés: un final amaderado para aportar fuerza y complejidad. Descubra la mezcla radical de la potencia pura y la elegancia.',\n",
              " \"10 years after my first rick roll and I'm listening to this unironically, by choice. Great jam.\",\n",
              " 'Классный мужик! Привет из России! С Борисом Джонсоном не сравнить!',\n",
              " 'First song I ever listen to in 2023',\n",
              " '*If you came here searching for this song in 2023 than you are a legend and if you came here because of yt recommendation than you are ultra legend 😂*',\n",
              " 'Increíble la canción que sacaron para promocionar la fragancia \"Olvidona\"',\n",
              " 'I Rickrolled my entire school.\\n\\nI still smile bc of it',\n",
              " 'the song is fantastic, y realmente espectacular, obrigado rick astley por sua musica.',\n",
              " 'POV : You just got rickroll on the first day of 2023',\n",
              " 'In 20 years and I finally hear this masterpiece again, it’ll bring real tears to my eyes',\n",
              " 'Gracias olvidona por recomendarme este temazo',\n",
              " 'I legit got rick rolled by some graffiti, and it was a QR code.',\n",
              " 'OLVIDONA... Vine buscando cobre y encontré ORO! 😎😎🎶🎶 Que tema tan buenardo! Jajaajaja',\n",
              " 'Какая же шикарная песня!!!!астрахань 2023 год ,1 января ,04:22 и я слушаю эту песню😊 дети спят)жена смотрит телефон)))а я кайфую от этой песни!!!!🎉',\n",
              " 'Olvidona es la nueva fragancia concebida para dominarlas a todas\\r\\nUn intenso poder de frescura mentolada estalla con la elegante lavanda. Un Eau de Parfum que despierta los sentidos. La energía convertida en líquido. El vigoroso pomelo y el ajenjo contrastan con las notas más ricas y masculinas del pachulí y el ciprés: un final amaderado para aportar fuerza y complejidad. Descubra la mezcla radical de la potencia pura y la elegancia.',\n",
              " 'Sigue siendo un talentoso y maravilloso artista .ídolo !!!¡¡¡¡por siempre.',\n",
              " \"You know why is this possible?...\\nIt's because we never give up, and never gonna let him down\",\n",
              " 'Olvidona 👍',\n",
              " 'The person who gave us all the first rickroll is living like a king',\n",
              " 'Rick we love u',\n",
              " 'I would want to again and again be Rick rolled to watch this unique dance steps 👍',\n",
              " 'When u realise that this song was uploaded literally 9 years ago but the fresh comments still get 10k+likes',\n",
              " '🎄one hour and 20 minutes to the new year',\n",
              " 'Olvidona es la nueva fragancia concebida para dominarlas a todas\\nUn intenso poder de frescura mentolada estalla con la elegante lavanda. Un Eau de Parfum que despierta los sentidos. La energía convertida en líquido. El vigoroso pomelo y el ajenjo contrastan con las notas más ricas y masculinas del pachulí y el ciprés: un final amaderado para aportar fuerza y complejidad. Descubra la mezcla radical de la potencia pura y la elegancia.',\n",
              " 'I willl play this very loud when the year turns eheheheheheh',\n",
              " 'Olvidona es la nueva fragancia concebida para dominarlas a todas\\nUn intenso poder de frescura mentolada estalla con la elegante lavanda. Un Eau de Parfum que despierta los sentidos. La energía convertida en líquido. El vigoroso pomelo y el ajenjo contrastan con las notas más ricas y masculinas del pachulí y el ciprés: un final amaderado para aportar fuerza y complejidad. Descubra la mezcla radical de la potencia pura y la elegancia.',\n",
              " 'This is a historic achievement, it was worth it.',\n",
              " 'Naah... temardo en verdad 😎🤙 \\n14210304 personas ya lo han escuchado, \\nespero que te haya gustado 😉',\n",
              " 'Naah... temardo en verdad 😎🤙\\r\\n14144428 personas ya lo han escuchado,\\r\\nespero que te haya gustado 😉',\n",
              " 'Naah... temardo en verdad 😎🤙\\r\\n22230807 personas ya lo han escuchado,\\r\\nespero que te haya gustado 😉',\n",
              " '🎶 Never gonna give you up\\nNever gonna let you down...🎶\\nNaah... temardo en verdad 😎🤙\\n24170045 personas ya lo han escuchado,\\nespero que te haya gustado 😉',\n",
              " 'Imagine if Rick Astley him self made up the rick roll as a way to get more people to listen to it and that ended up becoming one of the most popular pranks of the century.',\n",
              " 'Nearly fell asleep of how good this is',\n",
              " 'Olvidona es la nueva fragancia concebida para dominarlas a todas\\nUn intenso poder de frescura mentolada estalla con la elegante lavanda. Un Eau de Parfum que despierta los sentidos. La energía convertida en líquido. El vigoroso pomelo y el ajenjo contrastan con las notas más ricas y masculinas del pachulí y el ciprés: un final amaderado para aportar fuerza y complejidad. Descubra la mezcla radical de la potencia pura y la elegancia.',\n",
              " 'Naah... temardo en verdad 😎🤙 \\n32288537 personas ya lo han escuchado, \\nespero que te haya gustado 😉']"
            ]
          },
          "metadata": {},
          "execution_count": 11
        }
      ]
    },
    {
      "cell_type": "code",
      "source": [
        "import pandas as pd\n",
        "df = pd.DataFrame({'Author': [i[0] for i in comments], 'Comment': [i[1] for i in comments], 'Time': [i[2] for i in comments],\n",
        "                  'Likes': [i[3] for i in comments], 'Reply Count': [i[4] for i in comments]})"
      ],
      "metadata": {
        "id": "KcgTLGYPP3MB"
      },
      "execution_count": 32,
      "outputs": []
    },
    {
      "cell_type": "code",
      "source": [
        "df.head()"
      ],
      "metadata": {
        "colab": {
          "base_uri": "https://localhost:8080/",
          "height": 206
        },
        "id": "azQkTYxcQoGR",
        "outputId": "8851b615-0571-48e7-ccc3-1a38b1d42c5d"
      },
      "execution_count": 37,
      "outputs": [
        {
          "output_type": "execute_result",
          "data": {
            "text/plain": [
              "            Author                                            Comment  \\\n",
              "0      Rick Astley  1 billion views for never gonna give you up am...   \n",
              "1     Amelia Honey  this has been the most amazing rick roll i hav...   \n",
              "2     Rafael Perez  naah temardo en verdad 6025619 personas ya lo ...   \n",
              "3  Natan Kozłowski  even whens its 2023 thousands of people still ...   \n",
              "4   XIÁN PENA PUZA  naah temardo en verdad 21047218 personas ya lo...   \n",
              "\n",
              "                   Time    Likes  Reply Count  \n",
              "0  2021-07-28T21:00:32Z  1165821          497  \n",
              "1  2022-05-13T22:16:45Z      713           39  \n",
              "2  2022-12-31T15:25:35Z      388           11  \n",
              "3  2022-12-30T18:57:47Z      219           19  \n",
              "4  2023-01-01T14:10:35Z       59            9  "
            ],
            "text/html": [
              "\n",
              "  <div id=\"df-b633b71b-b9bf-4ea6-b46e-fc8e7a628caa\">\n",
              "    <div class=\"colab-df-container\">\n",
              "      <div>\n",
              "<style scoped>\n",
              "    .dataframe tbody tr th:only-of-type {\n",
              "        vertical-align: middle;\n",
              "    }\n",
              "\n",
              "    .dataframe tbody tr th {\n",
              "        vertical-align: top;\n",
              "    }\n",
              "\n",
              "    .dataframe thead th {\n",
              "        text-align: right;\n",
              "    }\n",
              "</style>\n",
              "<table border=\"1\" class=\"dataframe\">\n",
              "  <thead>\n",
              "    <tr style=\"text-align: right;\">\n",
              "      <th></th>\n",
              "      <th>Author</th>\n",
              "      <th>Comment</th>\n",
              "      <th>Time</th>\n",
              "      <th>Likes</th>\n",
              "      <th>Reply Count</th>\n",
              "    </tr>\n",
              "  </thead>\n",
              "  <tbody>\n",
              "    <tr>\n",
              "      <th>0</th>\n",
              "      <td>Rick Astley</td>\n",
              "      <td>1 billion views for never gonna give you up am...</td>\n",
              "      <td>2021-07-28T21:00:32Z</td>\n",
              "      <td>1165821</td>\n",
              "      <td>497</td>\n",
              "    </tr>\n",
              "    <tr>\n",
              "      <th>1</th>\n",
              "      <td>Amelia Honey</td>\n",
              "      <td>this has been the most amazing rick roll i hav...</td>\n",
              "      <td>2022-05-13T22:16:45Z</td>\n",
              "      <td>713</td>\n",
              "      <td>39</td>\n",
              "    </tr>\n",
              "    <tr>\n",
              "      <th>2</th>\n",
              "      <td>Rafael Perez</td>\n",
              "      <td>naah temardo en verdad 6025619 personas ya lo ...</td>\n",
              "      <td>2022-12-31T15:25:35Z</td>\n",
              "      <td>388</td>\n",
              "      <td>11</td>\n",
              "    </tr>\n",
              "    <tr>\n",
              "      <th>3</th>\n",
              "      <td>Natan Kozłowski</td>\n",
              "      <td>even whens its 2023 thousands of people still ...</td>\n",
              "      <td>2022-12-30T18:57:47Z</td>\n",
              "      <td>219</td>\n",
              "      <td>19</td>\n",
              "    </tr>\n",
              "    <tr>\n",
              "      <th>4</th>\n",
              "      <td>XIÁN PENA PUZA</td>\n",
              "      <td>naah temardo en verdad 21047218 personas ya lo...</td>\n",
              "      <td>2023-01-01T14:10:35Z</td>\n",
              "      <td>59</td>\n",
              "      <td>9</td>\n",
              "    </tr>\n",
              "  </tbody>\n",
              "</table>\n",
              "</div>\n",
              "      <button class=\"colab-df-convert\" onclick=\"convertToInteractive('df-b633b71b-b9bf-4ea6-b46e-fc8e7a628caa')\"\n",
              "              title=\"Convert this dataframe to an interactive table.\"\n",
              "              style=\"display:none;\">\n",
              "        \n",
              "  <svg xmlns=\"http://www.w3.org/2000/svg\" height=\"24px\"viewBox=\"0 0 24 24\"\n",
              "       width=\"24px\">\n",
              "    <path d=\"M0 0h24v24H0V0z\" fill=\"none\"/>\n",
              "    <path d=\"M18.56 5.44l.94 2.06.94-2.06 2.06-.94-2.06-.94-.94-2.06-.94 2.06-2.06.94zm-11 1L8.5 8.5l.94-2.06 2.06-.94-2.06-.94L8.5 2.5l-.94 2.06-2.06.94zm10 10l.94 2.06.94-2.06 2.06-.94-2.06-.94-.94-2.06-.94 2.06-2.06.94z\"/><path d=\"M17.41 7.96l-1.37-1.37c-.4-.4-.92-.59-1.43-.59-.52 0-1.04.2-1.43.59L10.3 9.45l-7.72 7.72c-.78.78-.78 2.05 0 2.83L4 21.41c.39.39.9.59 1.41.59.51 0 1.02-.2 1.41-.59l7.78-7.78 2.81-2.81c.8-.78.8-2.07 0-2.86zM5.41 20L4 18.59l7.72-7.72 1.47 1.35L5.41 20z\"/>\n",
              "  </svg>\n",
              "      </button>\n",
              "      \n",
              "  <style>\n",
              "    .colab-df-container {\n",
              "      display:flex;\n",
              "      flex-wrap:wrap;\n",
              "      gap: 12px;\n",
              "    }\n",
              "\n",
              "    .colab-df-convert {\n",
              "      background-color: #E8F0FE;\n",
              "      border: none;\n",
              "      border-radius: 50%;\n",
              "      cursor: pointer;\n",
              "      display: none;\n",
              "      fill: #1967D2;\n",
              "      height: 32px;\n",
              "      padding: 0 0 0 0;\n",
              "      width: 32px;\n",
              "    }\n",
              "\n",
              "    .colab-df-convert:hover {\n",
              "      background-color: #E2EBFA;\n",
              "      box-shadow: 0px 1px 2px rgba(60, 64, 67, 0.3), 0px 1px 3px 1px rgba(60, 64, 67, 0.15);\n",
              "      fill: #174EA6;\n",
              "    }\n",
              "\n",
              "    [theme=dark] .colab-df-convert {\n",
              "      background-color: #3B4455;\n",
              "      fill: #D2E3FC;\n",
              "    }\n",
              "\n",
              "    [theme=dark] .colab-df-convert:hover {\n",
              "      background-color: #434B5C;\n",
              "      box-shadow: 0px 1px 3px 1px rgba(0, 0, 0, 0.15);\n",
              "      filter: drop-shadow(0px 1px 2px rgba(0, 0, 0, 0.3));\n",
              "      fill: #FFFFFF;\n",
              "    }\n",
              "  </style>\n",
              "\n",
              "      <script>\n",
              "        const buttonEl =\n",
              "          document.querySelector('#df-b633b71b-b9bf-4ea6-b46e-fc8e7a628caa button.colab-df-convert');\n",
              "        buttonEl.style.display =\n",
              "          google.colab.kernel.accessAllowed ? 'block' : 'none';\n",
              "\n",
              "        async function convertToInteractive(key) {\n",
              "          const element = document.querySelector('#df-b633b71b-b9bf-4ea6-b46e-fc8e7a628caa');\n",
              "          const dataTable =\n",
              "            await google.colab.kernel.invokeFunction('convertToInteractive',\n",
              "                                                     [key], {});\n",
              "          if (!dataTable) return;\n",
              "\n",
              "          const docLinkHtml = 'Like what you see? Visit the ' +\n",
              "            '<a target=\"_blank\" href=https://colab.research.google.com/notebooks/data_table.ipynb>data table notebook</a>'\n",
              "            + ' to learn more about interactive tables.';\n",
              "          element.innerHTML = '';\n",
              "          dataTable['output_type'] = 'display_data';\n",
              "          await google.colab.output.renderOutput(dataTable, element);\n",
              "          const docLink = document.createElement('div');\n",
              "          docLink.innerHTML = docLinkHtml;\n",
              "          element.appendChild(docLink);\n",
              "        }\n",
              "      </script>\n",
              "    </div>\n",
              "  </div>\n",
              "  "
            ]
          },
          "metadata": {},
          "execution_count": 37
        }
      ]
    },
    {
      "cell_type": "code",
      "source": [
        "from cleantext import clean\n",
        "\n",
        "# Remove extra spaces and make them lower case. Replace special emojis\n",
        "clean_df = df\n",
        "clean_df['Comment'] = clean_df['Comment'].apply(lambda x: x.strip().lower().replace('xd','').replace('<3',''))\n",
        "\n",
        "# Clean text from line breaks, unicodes, emojis and punctuations\n",
        "clean_df['Comment'] = clean_df['Comment'].apply(lambda x: clean(x, no_emoji=True, no_punct=True, no_line_breaks=True, fix_unicode=True))\n",
        "clean_df.head()"
      ],
      "metadata": {
        "colab": {
          "base_uri": "https://localhost:8080/",
          "height": 206
        },
        "id": "wtD45aw7BLiW",
        "outputId": "db3f1487-f64a-438a-e985-a4d0f725523c"
      },
      "execution_count": 38,
      "outputs": [
        {
          "output_type": "execute_result",
          "data": {
            "text/plain": [
              "            Author                                            Comment  \\\n",
              "0      Rick Astley  1 billion views for never gonna give you up am...   \n",
              "1     Amelia Honey  this has been the most amazing rick roll i hav...   \n",
              "2     Rafael Perez  naah temardo en verdad 6025619 personas ya lo ...   \n",
              "3  Natan Kozłowski  even whens its 2023 thousands of people still ...   \n",
              "4   XIÁN PENA PUZA  naah temardo en verdad 21047218 personas ya lo...   \n",
              "\n",
              "                   Time    Likes  Reply Count  \n",
              "0  2021-07-28T21:00:32Z  1165821          497  \n",
              "1  2022-05-13T22:16:45Z      713           39  \n",
              "2  2022-12-31T15:25:35Z      388           11  \n",
              "3  2022-12-30T18:57:47Z      219           19  \n",
              "4  2023-01-01T14:10:35Z       59            9  "
            ],
            "text/html": [
              "\n",
              "  <div id=\"df-317b74c5-bf4c-4285-bfb9-414da680aecc\">\n",
              "    <div class=\"colab-df-container\">\n",
              "      <div>\n",
              "<style scoped>\n",
              "    .dataframe tbody tr th:only-of-type {\n",
              "        vertical-align: middle;\n",
              "    }\n",
              "\n",
              "    .dataframe tbody tr th {\n",
              "        vertical-align: top;\n",
              "    }\n",
              "\n",
              "    .dataframe thead th {\n",
              "        text-align: right;\n",
              "    }\n",
              "</style>\n",
              "<table border=\"1\" class=\"dataframe\">\n",
              "  <thead>\n",
              "    <tr style=\"text-align: right;\">\n",
              "      <th></th>\n",
              "      <th>Author</th>\n",
              "      <th>Comment</th>\n",
              "      <th>Time</th>\n",
              "      <th>Likes</th>\n",
              "      <th>Reply Count</th>\n",
              "    </tr>\n",
              "  </thead>\n",
              "  <tbody>\n",
              "    <tr>\n",
              "      <th>0</th>\n",
              "      <td>Rick Astley</td>\n",
              "      <td>1 billion views for never gonna give you up am...</td>\n",
              "      <td>2021-07-28T21:00:32Z</td>\n",
              "      <td>1165821</td>\n",
              "      <td>497</td>\n",
              "    </tr>\n",
              "    <tr>\n",
              "      <th>1</th>\n",
              "      <td>Amelia Honey</td>\n",
              "      <td>this has been the most amazing rick roll i hav...</td>\n",
              "      <td>2022-05-13T22:16:45Z</td>\n",
              "      <td>713</td>\n",
              "      <td>39</td>\n",
              "    </tr>\n",
              "    <tr>\n",
              "      <th>2</th>\n",
              "      <td>Rafael Perez</td>\n",
              "      <td>naah temardo en verdad 6025619 personas ya lo ...</td>\n",
              "      <td>2022-12-31T15:25:35Z</td>\n",
              "      <td>388</td>\n",
              "      <td>11</td>\n",
              "    </tr>\n",
              "    <tr>\n",
              "      <th>3</th>\n",
              "      <td>Natan Kozłowski</td>\n",
              "      <td>even whens its 2023 thousands of people still ...</td>\n",
              "      <td>2022-12-30T18:57:47Z</td>\n",
              "      <td>219</td>\n",
              "      <td>19</td>\n",
              "    </tr>\n",
              "    <tr>\n",
              "      <th>4</th>\n",
              "      <td>XIÁN PENA PUZA</td>\n",
              "      <td>naah temardo en verdad 21047218 personas ya lo...</td>\n",
              "      <td>2023-01-01T14:10:35Z</td>\n",
              "      <td>59</td>\n",
              "      <td>9</td>\n",
              "    </tr>\n",
              "  </tbody>\n",
              "</table>\n",
              "</div>\n",
              "      <button class=\"colab-df-convert\" onclick=\"convertToInteractive('df-317b74c5-bf4c-4285-bfb9-414da680aecc')\"\n",
              "              title=\"Convert this dataframe to an interactive table.\"\n",
              "              style=\"display:none;\">\n",
              "        \n",
              "  <svg xmlns=\"http://www.w3.org/2000/svg\" height=\"24px\"viewBox=\"0 0 24 24\"\n",
              "       width=\"24px\">\n",
              "    <path d=\"M0 0h24v24H0V0z\" fill=\"none\"/>\n",
              "    <path d=\"M18.56 5.44l.94 2.06.94-2.06 2.06-.94-2.06-.94-.94-2.06-.94 2.06-2.06.94zm-11 1L8.5 8.5l.94-2.06 2.06-.94-2.06-.94L8.5 2.5l-.94 2.06-2.06.94zm10 10l.94 2.06.94-2.06 2.06-.94-2.06-.94-.94-2.06-.94 2.06-2.06.94z\"/><path d=\"M17.41 7.96l-1.37-1.37c-.4-.4-.92-.59-1.43-.59-.52 0-1.04.2-1.43.59L10.3 9.45l-7.72 7.72c-.78.78-.78 2.05 0 2.83L4 21.41c.39.39.9.59 1.41.59.51 0 1.02-.2 1.41-.59l7.78-7.78 2.81-2.81c.8-.78.8-2.07 0-2.86zM5.41 20L4 18.59l7.72-7.72 1.47 1.35L5.41 20z\"/>\n",
              "  </svg>\n",
              "      </button>\n",
              "      \n",
              "  <style>\n",
              "    .colab-df-container {\n",
              "      display:flex;\n",
              "      flex-wrap:wrap;\n",
              "      gap: 12px;\n",
              "    }\n",
              "\n",
              "    .colab-df-convert {\n",
              "      background-color: #E8F0FE;\n",
              "      border: none;\n",
              "      border-radius: 50%;\n",
              "      cursor: pointer;\n",
              "      display: none;\n",
              "      fill: #1967D2;\n",
              "      height: 32px;\n",
              "      padding: 0 0 0 0;\n",
              "      width: 32px;\n",
              "    }\n",
              "\n",
              "    .colab-df-convert:hover {\n",
              "      background-color: #E2EBFA;\n",
              "      box-shadow: 0px 1px 2px rgba(60, 64, 67, 0.3), 0px 1px 3px 1px rgba(60, 64, 67, 0.15);\n",
              "      fill: #174EA6;\n",
              "    }\n",
              "\n",
              "    [theme=dark] .colab-df-convert {\n",
              "      background-color: #3B4455;\n",
              "      fill: #D2E3FC;\n",
              "    }\n",
              "\n",
              "    [theme=dark] .colab-df-convert:hover {\n",
              "      background-color: #434B5C;\n",
              "      box-shadow: 0px 1px 3px 1px rgba(0, 0, 0, 0.15);\n",
              "      filter: drop-shadow(0px 1px 2px rgba(0, 0, 0, 0.3));\n",
              "      fill: #FFFFFF;\n",
              "    }\n",
              "  </style>\n",
              "\n",
              "      <script>\n",
              "        const buttonEl =\n",
              "          document.querySelector('#df-317b74c5-bf4c-4285-bfb9-414da680aecc button.colab-df-convert');\n",
              "        buttonEl.style.display =\n",
              "          google.colab.kernel.accessAllowed ? 'block' : 'none';\n",
              "\n",
              "        async function convertToInteractive(key) {\n",
              "          const element = document.querySelector('#df-317b74c5-bf4c-4285-bfb9-414da680aecc');\n",
              "          const dataTable =\n",
              "            await google.colab.kernel.invokeFunction('convertToInteractive',\n",
              "                                                     [key], {});\n",
              "          if (!dataTable) return;\n",
              "\n",
              "          const docLinkHtml = 'Like what you see? Visit the ' +\n",
              "            '<a target=\"_blank\" href=https://colab.research.google.com/notebooks/data_table.ipynb>data table notebook</a>'\n",
              "            + ' to learn more about interactive tables.';\n",
              "          element.innerHTML = '';\n",
              "          dataTable['output_type'] = 'display_data';\n",
              "          await google.colab.output.renderOutput(dataTable, element);\n",
              "          const docLink = document.createElement('div');\n",
              "          docLink.innerHTML = docLinkHtml;\n",
              "          element.appendChild(docLink);\n",
              "        }\n",
              "      </script>\n",
              "    </div>\n",
              "  </div>\n",
              "  "
            ]
          },
          "metadata": {},
          "execution_count": 38
        }
      ]
    },
    {
      "cell_type": "code",
      "source": [
        "from langdetect import detect\n",
        "clean_df['language'] = clean_df['Comment'].apply(lambda x: detect(x))\n",
        "clean_df.head()"
      ],
      "metadata": {
        "id": "pjeWOlFuMyAm",
        "colab": {
          "base_uri": "https://localhost:8080/",
          "height": 206
        },
        "outputId": "6f83b90b-e008-428e-a6c9-e216428fd093"
      },
      "execution_count": 39,
      "outputs": [
        {
          "output_type": "execute_result",
          "data": {
            "text/plain": [
              "            Author                                            Comment  \\\n",
              "0      Rick Astley  1 billion views for never gonna give you up am...   \n",
              "1     Amelia Honey  this has been the most amazing rick roll i hav...   \n",
              "2     Rafael Perez  naah temardo en verdad 6025619 personas ya lo ...   \n",
              "3  Natan Kozłowski  even whens its 2023 thousands of people still ...   \n",
              "4   XIÁN PENA PUZA  naah temardo en verdad 21047218 personas ya lo...   \n",
              "\n",
              "                   Time    Likes  Reply Count language  \n",
              "0  2021-07-28T21:00:32Z  1165821          497       en  \n",
              "1  2022-05-13T22:16:45Z      713           39       en  \n",
              "2  2022-12-31T15:25:35Z      388           11       es  \n",
              "3  2022-12-30T18:57:47Z      219           19       en  \n",
              "4  2023-01-01T14:10:35Z       59            9       es  "
            ],
            "text/html": [
              "\n",
              "  <div id=\"df-a471671f-766b-425a-b33f-91989d67f07f\">\n",
              "    <div class=\"colab-df-container\">\n",
              "      <div>\n",
              "<style scoped>\n",
              "    .dataframe tbody tr th:only-of-type {\n",
              "        vertical-align: middle;\n",
              "    }\n",
              "\n",
              "    .dataframe tbody tr th {\n",
              "        vertical-align: top;\n",
              "    }\n",
              "\n",
              "    .dataframe thead th {\n",
              "        text-align: right;\n",
              "    }\n",
              "</style>\n",
              "<table border=\"1\" class=\"dataframe\">\n",
              "  <thead>\n",
              "    <tr style=\"text-align: right;\">\n",
              "      <th></th>\n",
              "      <th>Author</th>\n",
              "      <th>Comment</th>\n",
              "      <th>Time</th>\n",
              "      <th>Likes</th>\n",
              "      <th>Reply Count</th>\n",
              "      <th>language</th>\n",
              "    </tr>\n",
              "  </thead>\n",
              "  <tbody>\n",
              "    <tr>\n",
              "      <th>0</th>\n",
              "      <td>Rick Astley</td>\n",
              "      <td>1 billion views for never gonna give you up am...</td>\n",
              "      <td>2021-07-28T21:00:32Z</td>\n",
              "      <td>1165821</td>\n",
              "      <td>497</td>\n",
              "      <td>en</td>\n",
              "    </tr>\n",
              "    <tr>\n",
              "      <th>1</th>\n",
              "      <td>Amelia Honey</td>\n",
              "      <td>this has been the most amazing rick roll i hav...</td>\n",
              "      <td>2022-05-13T22:16:45Z</td>\n",
              "      <td>713</td>\n",
              "      <td>39</td>\n",
              "      <td>en</td>\n",
              "    </tr>\n",
              "    <tr>\n",
              "      <th>2</th>\n",
              "      <td>Rafael Perez</td>\n",
              "      <td>naah temardo en verdad 6025619 personas ya lo ...</td>\n",
              "      <td>2022-12-31T15:25:35Z</td>\n",
              "      <td>388</td>\n",
              "      <td>11</td>\n",
              "      <td>es</td>\n",
              "    </tr>\n",
              "    <tr>\n",
              "      <th>3</th>\n",
              "      <td>Natan Kozłowski</td>\n",
              "      <td>even whens its 2023 thousands of people still ...</td>\n",
              "      <td>2022-12-30T18:57:47Z</td>\n",
              "      <td>219</td>\n",
              "      <td>19</td>\n",
              "      <td>en</td>\n",
              "    </tr>\n",
              "    <tr>\n",
              "      <th>4</th>\n",
              "      <td>XIÁN PENA PUZA</td>\n",
              "      <td>naah temardo en verdad 21047218 personas ya lo...</td>\n",
              "      <td>2023-01-01T14:10:35Z</td>\n",
              "      <td>59</td>\n",
              "      <td>9</td>\n",
              "      <td>es</td>\n",
              "    </tr>\n",
              "  </tbody>\n",
              "</table>\n",
              "</div>\n",
              "      <button class=\"colab-df-convert\" onclick=\"convertToInteractive('df-a471671f-766b-425a-b33f-91989d67f07f')\"\n",
              "              title=\"Convert this dataframe to an interactive table.\"\n",
              "              style=\"display:none;\">\n",
              "        \n",
              "  <svg xmlns=\"http://www.w3.org/2000/svg\" height=\"24px\"viewBox=\"0 0 24 24\"\n",
              "       width=\"24px\">\n",
              "    <path d=\"M0 0h24v24H0V0z\" fill=\"none\"/>\n",
              "    <path d=\"M18.56 5.44l.94 2.06.94-2.06 2.06-.94-2.06-.94-.94-2.06-.94 2.06-2.06.94zm-11 1L8.5 8.5l.94-2.06 2.06-.94-2.06-.94L8.5 2.5l-.94 2.06-2.06.94zm10 10l.94 2.06.94-2.06 2.06-.94-2.06-.94-.94-2.06-.94 2.06-2.06.94z\"/><path d=\"M17.41 7.96l-1.37-1.37c-.4-.4-.92-.59-1.43-.59-.52 0-1.04.2-1.43.59L10.3 9.45l-7.72 7.72c-.78.78-.78 2.05 0 2.83L4 21.41c.39.39.9.59 1.41.59.51 0 1.02-.2 1.41-.59l7.78-7.78 2.81-2.81c.8-.78.8-2.07 0-2.86zM5.41 20L4 18.59l7.72-7.72 1.47 1.35L5.41 20z\"/>\n",
              "  </svg>\n",
              "      </button>\n",
              "      \n",
              "  <style>\n",
              "    .colab-df-container {\n",
              "      display:flex;\n",
              "      flex-wrap:wrap;\n",
              "      gap: 12px;\n",
              "    }\n",
              "\n",
              "    .colab-df-convert {\n",
              "      background-color: #E8F0FE;\n",
              "      border: none;\n",
              "      border-radius: 50%;\n",
              "      cursor: pointer;\n",
              "      display: none;\n",
              "      fill: #1967D2;\n",
              "      height: 32px;\n",
              "      padding: 0 0 0 0;\n",
              "      width: 32px;\n",
              "    }\n",
              "\n",
              "    .colab-df-convert:hover {\n",
              "      background-color: #E2EBFA;\n",
              "      box-shadow: 0px 1px 2px rgba(60, 64, 67, 0.3), 0px 1px 3px 1px rgba(60, 64, 67, 0.15);\n",
              "      fill: #174EA6;\n",
              "    }\n",
              "\n",
              "    [theme=dark] .colab-df-convert {\n",
              "      background-color: #3B4455;\n",
              "      fill: #D2E3FC;\n",
              "    }\n",
              "\n",
              "    [theme=dark] .colab-df-convert:hover {\n",
              "      background-color: #434B5C;\n",
              "      box-shadow: 0px 1px 3px 1px rgba(0, 0, 0, 0.15);\n",
              "      filter: drop-shadow(0px 1px 2px rgba(0, 0, 0, 0.3));\n",
              "      fill: #FFFFFF;\n",
              "    }\n",
              "  </style>\n",
              "\n",
              "      <script>\n",
              "        const buttonEl =\n",
              "          document.querySelector('#df-a471671f-766b-425a-b33f-91989d67f07f button.colab-df-convert');\n",
              "        buttonEl.style.display =\n",
              "          google.colab.kernel.accessAllowed ? 'block' : 'none';\n",
              "\n",
              "        async function convertToInteractive(key) {\n",
              "          const element = document.querySelector('#df-a471671f-766b-425a-b33f-91989d67f07f');\n",
              "          const dataTable =\n",
              "            await google.colab.kernel.invokeFunction('convertToInteractive',\n",
              "                                                     [key], {});\n",
              "          if (!dataTable) return;\n",
              "\n",
              "          const docLinkHtml = 'Like what you see? Visit the ' +\n",
              "            '<a target=\"_blank\" href=https://colab.research.google.com/notebooks/data_table.ipynb>data table notebook</a>'\n",
              "            + ' to learn more about interactive tables.';\n",
              "          element.innerHTML = '';\n",
              "          dataTable['output_type'] = 'display_data';\n",
              "          await google.colab.output.renderOutput(dataTable, element);\n",
              "          const docLink = document.createElement('div');\n",
              "          docLink.innerHTML = docLinkHtml;\n",
              "          element.appendChild(docLink);\n",
              "        }\n",
              "      </script>\n",
              "    </div>\n",
              "  </div>\n",
              "  "
            ]
          },
          "metadata": {},
          "execution_count": 39
        }
      ]
    },
    {
      "cell_type": "code",
      "source": [
        "import pycountry\n",
        "# Convert ISO country codes to Languages\n",
        "clean_df['language'] = clean_df['language'].apply(lambda x: pycountry.languages.get(alpha_2=x).name)\n",
        "clean_df.head()"
      ],
      "metadata": {
        "id": "EotEzuxJt5Zi",
        "colab": {
          "base_uri": "https://localhost:8080/",
          "height": 206
        },
        "outputId": "c3688072-affb-436d-ff12-3db6688d09b3"
      },
      "execution_count": 40,
      "outputs": [
        {
          "output_type": "execute_result",
          "data": {
            "text/plain": [
              "            Author                                            Comment  \\\n",
              "0      Rick Astley  1 billion views for never gonna give you up am...   \n",
              "1     Amelia Honey  this has been the most amazing rick roll i hav...   \n",
              "2     Rafael Perez  naah temardo en verdad 6025619 personas ya lo ...   \n",
              "3  Natan Kozłowski  even whens its 2023 thousands of people still ...   \n",
              "4   XIÁN PENA PUZA  naah temardo en verdad 21047218 personas ya lo...   \n",
              "\n",
              "                   Time    Likes  Reply Count language  \n",
              "0  2021-07-28T21:00:32Z  1165821          497  English  \n",
              "1  2022-05-13T22:16:45Z      713           39  English  \n",
              "2  2022-12-31T15:25:35Z      388           11  Spanish  \n",
              "3  2022-12-30T18:57:47Z      219           19  English  \n",
              "4  2023-01-01T14:10:35Z       59            9  Spanish  "
            ],
            "text/html": [
              "\n",
              "  <div id=\"df-6bd18880-ae91-4400-87e6-904a7fcb13fa\">\n",
              "    <div class=\"colab-df-container\">\n",
              "      <div>\n",
              "<style scoped>\n",
              "    .dataframe tbody tr th:only-of-type {\n",
              "        vertical-align: middle;\n",
              "    }\n",
              "\n",
              "    .dataframe tbody tr th {\n",
              "        vertical-align: top;\n",
              "    }\n",
              "\n",
              "    .dataframe thead th {\n",
              "        text-align: right;\n",
              "    }\n",
              "</style>\n",
              "<table border=\"1\" class=\"dataframe\">\n",
              "  <thead>\n",
              "    <tr style=\"text-align: right;\">\n",
              "      <th></th>\n",
              "      <th>Author</th>\n",
              "      <th>Comment</th>\n",
              "      <th>Time</th>\n",
              "      <th>Likes</th>\n",
              "      <th>Reply Count</th>\n",
              "      <th>language</th>\n",
              "    </tr>\n",
              "  </thead>\n",
              "  <tbody>\n",
              "    <tr>\n",
              "      <th>0</th>\n",
              "      <td>Rick Astley</td>\n",
              "      <td>1 billion views for never gonna give you up am...</td>\n",
              "      <td>2021-07-28T21:00:32Z</td>\n",
              "      <td>1165821</td>\n",
              "      <td>497</td>\n",
              "      <td>English</td>\n",
              "    </tr>\n",
              "    <tr>\n",
              "      <th>1</th>\n",
              "      <td>Amelia Honey</td>\n",
              "      <td>this has been the most amazing rick roll i hav...</td>\n",
              "      <td>2022-05-13T22:16:45Z</td>\n",
              "      <td>713</td>\n",
              "      <td>39</td>\n",
              "      <td>English</td>\n",
              "    </tr>\n",
              "    <tr>\n",
              "      <th>2</th>\n",
              "      <td>Rafael Perez</td>\n",
              "      <td>naah temardo en verdad 6025619 personas ya lo ...</td>\n",
              "      <td>2022-12-31T15:25:35Z</td>\n",
              "      <td>388</td>\n",
              "      <td>11</td>\n",
              "      <td>Spanish</td>\n",
              "    </tr>\n",
              "    <tr>\n",
              "      <th>3</th>\n",
              "      <td>Natan Kozłowski</td>\n",
              "      <td>even whens its 2023 thousands of people still ...</td>\n",
              "      <td>2022-12-30T18:57:47Z</td>\n",
              "      <td>219</td>\n",
              "      <td>19</td>\n",
              "      <td>English</td>\n",
              "    </tr>\n",
              "    <tr>\n",
              "      <th>4</th>\n",
              "      <td>XIÁN PENA PUZA</td>\n",
              "      <td>naah temardo en verdad 21047218 personas ya lo...</td>\n",
              "      <td>2023-01-01T14:10:35Z</td>\n",
              "      <td>59</td>\n",
              "      <td>9</td>\n",
              "      <td>Spanish</td>\n",
              "    </tr>\n",
              "  </tbody>\n",
              "</table>\n",
              "</div>\n",
              "      <button class=\"colab-df-convert\" onclick=\"convertToInteractive('df-6bd18880-ae91-4400-87e6-904a7fcb13fa')\"\n",
              "              title=\"Convert this dataframe to an interactive table.\"\n",
              "              style=\"display:none;\">\n",
              "        \n",
              "  <svg xmlns=\"http://www.w3.org/2000/svg\" height=\"24px\"viewBox=\"0 0 24 24\"\n",
              "       width=\"24px\">\n",
              "    <path d=\"M0 0h24v24H0V0z\" fill=\"none\"/>\n",
              "    <path d=\"M18.56 5.44l.94 2.06.94-2.06 2.06-.94-2.06-.94-.94-2.06-.94 2.06-2.06.94zm-11 1L8.5 8.5l.94-2.06 2.06-.94-2.06-.94L8.5 2.5l-.94 2.06-2.06.94zm10 10l.94 2.06.94-2.06 2.06-.94-2.06-.94-.94-2.06-.94 2.06-2.06.94z\"/><path d=\"M17.41 7.96l-1.37-1.37c-.4-.4-.92-.59-1.43-.59-.52 0-1.04.2-1.43.59L10.3 9.45l-7.72 7.72c-.78.78-.78 2.05 0 2.83L4 21.41c.39.39.9.59 1.41.59.51 0 1.02-.2 1.41-.59l7.78-7.78 2.81-2.81c.8-.78.8-2.07 0-2.86zM5.41 20L4 18.59l7.72-7.72 1.47 1.35L5.41 20z\"/>\n",
              "  </svg>\n",
              "      </button>\n",
              "      \n",
              "  <style>\n",
              "    .colab-df-container {\n",
              "      display:flex;\n",
              "      flex-wrap:wrap;\n",
              "      gap: 12px;\n",
              "    }\n",
              "\n",
              "    .colab-df-convert {\n",
              "      background-color: #E8F0FE;\n",
              "      border: none;\n",
              "      border-radius: 50%;\n",
              "      cursor: pointer;\n",
              "      display: none;\n",
              "      fill: #1967D2;\n",
              "      height: 32px;\n",
              "      padding: 0 0 0 0;\n",
              "      width: 32px;\n",
              "    }\n",
              "\n",
              "    .colab-df-convert:hover {\n",
              "      background-color: #E2EBFA;\n",
              "      box-shadow: 0px 1px 2px rgba(60, 64, 67, 0.3), 0px 1px 3px 1px rgba(60, 64, 67, 0.15);\n",
              "      fill: #174EA6;\n",
              "    }\n",
              "\n",
              "    [theme=dark] .colab-df-convert {\n",
              "      background-color: #3B4455;\n",
              "      fill: #D2E3FC;\n",
              "    }\n",
              "\n",
              "    [theme=dark] .colab-df-convert:hover {\n",
              "      background-color: #434B5C;\n",
              "      box-shadow: 0px 1px 3px 1px rgba(0, 0, 0, 0.15);\n",
              "      filter: drop-shadow(0px 1px 2px rgba(0, 0, 0, 0.3));\n",
              "      fill: #FFFFFF;\n",
              "    }\n",
              "  </style>\n",
              "\n",
              "      <script>\n",
              "        const buttonEl =\n",
              "          document.querySelector('#df-6bd18880-ae91-4400-87e6-904a7fcb13fa button.colab-df-convert');\n",
              "        buttonEl.style.display =\n",
              "          google.colab.kernel.accessAllowed ? 'block' : 'none';\n",
              "\n",
              "        async function convertToInteractive(key) {\n",
              "          const element = document.querySelector('#df-6bd18880-ae91-4400-87e6-904a7fcb13fa');\n",
              "          const dataTable =\n",
              "            await google.colab.kernel.invokeFunction('convertToInteractive',\n",
              "                                                     [key], {});\n",
              "          if (!dataTable) return;\n",
              "\n",
              "          const docLinkHtml = 'Like what you see? Visit the ' +\n",
              "            '<a target=\"_blank\" href=https://colab.research.google.com/notebooks/data_table.ipynb>data table notebook</a>'\n",
              "            + ' to learn more about interactive tables.';\n",
              "          element.innerHTML = '';\n",
              "          dataTable['output_type'] = 'display_data';\n",
              "          await google.colab.output.renderOutput(dataTable, element);\n",
              "          const docLink = document.createElement('div');\n",
              "          docLink.innerHTML = docLinkHtml;\n",
              "          element.appendChild(docLink);\n",
              "        }\n",
              "      </script>\n",
              "    </div>\n",
              "  </div>\n",
              "  "
            ]
          },
          "metadata": {},
          "execution_count": 40
        }
      ]
    }
  ]
}