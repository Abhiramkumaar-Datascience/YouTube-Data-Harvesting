{
  "nbformat": 4,
  "nbformat_minor": 0,
  "metadata": {
    "colab": {
      "provenance": [],
      "authorship_tag": "ABX9TyMrr1ANdBf9P+/iT0xfonSg"
    },
    "kernelspec": {
      "name": "python3",
      "display_name": "Python 3"
    },
    "language_info": {
      "name": "python"
    }
  },
  "cells": [
    {
      "cell_type": "markdown",
      "source": [
        "# YouTube NLP"
      ],
      "metadata": {
        "id": "oyWNPLCREeBm"
      }
    },
    {
      "cell_type": "markdown",
      "source": [
        "## Ingesting Comments from the YouTube Video"
      ],
      "metadata": {
        "id": "wyBnA3NgEi0W"
      }
    },
    {
      "cell_type": "code",
      "source": [
        "api_key = ''"
      ],
      "metadata": {
        "id": "ub2kJ5eEF0xF"
      },
      "execution_count": 10,
      "outputs": []
    },
    {
      "cell_type": "code",
      "execution_count": 11,
      "metadata": {
        "id": "bcsli4zgbOaK"
      },
      "outputs": [],
      "source": [
        "from googleapiclient.discovery import build\n",
        "\n",
        "# The string after v=? in the url\n",
        "video_id = \"dQw4w9WgXcQ\"\n",
        "\n",
        "# creating youtube resource object\n",
        "youtube = build('youtube', 'v3',\n",
        "developerKey=api_key)\n",
        "\n",
        "# retrieve youtube video results\n",
        "video_response=youtube.commentThreads().list(\n",
        "  part='snippet',\n",
        "  maxResults=1000,\n",
        "  order='relevance',\n",
        "  videoId=video_id\n",
        ").execute()\n"
      ]
    },
    {
      "cell_type": "markdown",
      "source": [
        "## Data Preprocessing"
      ],
      "metadata": {
        "id": "yq7-bNkVEu8f"
      }
    },
    {
      "cell_type": "markdown",
      "source": [
        "### Data Wrangling"
      ],
      "metadata": {
        "id": "9d3Gu80DEzxz"
      }
    },
    {
      "cell_type": "markdown",
      "source": [
        "#### Assumptions\n",
        "\n",
        "\n",
        "*   Picking only the comment made by the original author\n",
        "  *   Comment Threads on the Original Authors comment could be diverging from the video\n",
        "  *   Limiting Response to about 10 for testing\n",
        "\n",
        "*   Using the 'textOriginal' instead of 'textDisplay' for easier cleanup of the comment\n",
        "\n",
        "\n",
        "*   Analyzing only English Comments \n",
        "  *   Storing the number of non English comments for metrics\n",
        "\n",
        "\n",
        "\n",
        "\n",
        "\n",
        "\n"
      ],
      "metadata": {
        "id": "y5znsobSE77W"
      }
    },
    {
      "cell_type": "code",
      "source": [
        "# empty list for storing reply\n",
        "comments = []\n",
        "\n",
        "# extracting required info from each result object\n",
        "for item in video_response['items']:\n",
        "\n",
        "  # Extracting comments\n",
        "  comment = item['snippet']['topLevelComment']['snippet']['textOriginal']\n",
        "  # Extracting author\n",
        "  author = item['snippet']['topLevelComment']['snippet']['authorDisplayName']\n",
        "  # Extracting published time\n",
        "  published_at = item['snippet']['topLevelComment']['snippet']['publishedAt']\n",
        "  # Extracting likes\n",
        "  like_count = item['snippet']['topLevelComment']['snippet']['likeCount']\n",
        "  # Extracting total replies to the comment\n",
        "  reply_count = item['snippet']['totalReplyCount']\n",
        "\n",
        "  comments.append([author, comment, published_at, like_count, reply_count])"
      ],
      "metadata": {
        "id": "B3ZHIuZD-60O"
      },
      "execution_count": 12,
      "outputs": []
    },
    {
      "cell_type": "code",
      "source": [
        "comments[0:5]"
      ],
      "metadata": {
        "colab": {
          "base_uri": "https://localhost:8080/"
        },
        "id": "DBjTDTtyAdZv",
        "outputId": "8165e2a6-6edf-4c66-c6d1-b374756cf656"
      },
      "execution_count": 13,
      "outputs": [
        {
          "output_type": "execute_result",
          "data": {
            "text/plain": [
              "[['Rick Astley',\n",
              "  '1 BILLION views for Never Gonna Give You Up!\\xa0 Amazing, crazy, wonderful! Rick ♥️',\n",
              "  '2021-07-28T21:00:32Z',\n",
              "  1166879,\n",
              "  497],\n",
              " ['H1K',\n",
              "  \"This isn't your first time here\\nAnd you know it.\",\n",
              "  '2019-10-31T21:38:49Z',\n",
              "  994100,\n",
              "  494],\n",
              " ['Alain Flores',\n",
              "  'Esta canción es genial,tanto tiempo y no ha Sido olvidada',\n",
              "  '2023-01-02T16:48:50Z',\n",
              "  329,\n",
              "  15],\n",
              " ['Lukas',\n",
              "  'Naah... temardo en verdad 😎🤙\\r\\n32707124 personas ya lo han escuchado,\\r\\nespero que te haya gustado 😉',\n",
              "  '2023-01-02T16:26:56Z',\n",
              "  326,\n",
              "  10],\n",
              " ['breaking of the game 067',\n",
              "  'Aparte de auto rickroll es muy buena fue un tema que no puede salir mas de su perfeccion fuera de los memes',\n",
              "  '2023-01-02T20:58:42Z',\n",
              "  78,\n",
              "  3]]"
            ]
          },
          "metadata": {},
          "execution_count": 13
        }
      ]
    },
    {
      "cell_type": "markdown",
      "source": [
        "### NLP"
      ],
      "metadata": {
        "id": "L0AzgXPqId-h"
      }
    },
    {
      "cell_type": "markdown",
      "source": [
        "#### Install Libraries"
      ],
      "metadata": {
        "id": "S8uoCx8SMzCi"
      }
    },
    {
      "cell_type": "code",
      "source": [
        "pip install Unidecode"
      ],
      "metadata": {
        "colab": {
          "base_uri": "https://localhost:8080/"
        },
        "id": "s9vNdtwZQH1q",
        "outputId": "d7db3ac5-56d9-4d05-dd9c-5bc8400c0daa"
      },
      "execution_count": 14,
      "outputs": [
        {
          "output_type": "stream",
          "name": "stdout",
          "text": [
            "Looking in indexes: https://pypi.org/simple, https://us-python.pkg.dev/colab-wheels/public/simple/\n",
            "Collecting Unidecode\n",
            "  Downloading Unidecode-1.3.6-py3-none-any.whl (235 kB)\n",
            "\u001b[2K     \u001b[90m━━━━━━━━━━━━━━━━━━━━━━━━━━━━━━━━━━━━━━━\u001b[0m \u001b[32m235.9/235.9 KB\u001b[0m \u001b[31m6.1 MB/s\u001b[0m eta \u001b[36m0:00:00\u001b[0m\n",
            "\u001b[?25hInstalling collected packages: Unidecode\n",
            "Successfully installed Unidecode-1.3.6\n"
          ]
        }
      ]
    },
    {
      "cell_type": "code",
      "source": [
        "pip install langdetect"
      ],
      "metadata": {
        "colab": {
          "base_uri": "https://localhost:8080/"
        },
        "id": "REkYtE-yBLka",
        "outputId": "a92f9ab7-92ca-4c41-f5f6-c420c8bf172f"
      },
      "execution_count": 15,
      "outputs": [
        {
          "output_type": "stream",
          "name": "stdout",
          "text": [
            "Looking in indexes: https://pypi.org/simple, https://us-python.pkg.dev/colab-wheels/public/simple/\n",
            "Collecting langdetect\n",
            "  Downloading langdetect-1.0.9.tar.gz (981 kB)\n",
            "\u001b[2K     \u001b[90m━━━━━━━━━━━━━━━━━━━━━━━━━━━━━━━━━━━━━━\u001b[0m \u001b[32m981.5/981.5 KB\u001b[0m \u001b[31m15.9 MB/s\u001b[0m eta \u001b[36m0:00:00\u001b[0m\n",
            "\u001b[?25h  Preparing metadata (setup.py) ... \u001b[?25l\u001b[?25hdone\n",
            "Requirement already satisfied: six in /usr/local/lib/python3.8/dist-packages (from langdetect) (1.15.0)\n",
            "Building wheels for collected packages: langdetect\n",
            "  Building wheel for langdetect (setup.py) ... \u001b[?25l\u001b[?25hdone\n",
            "  Created wheel for langdetect: filename=langdetect-1.0.9-py3-none-any.whl size=993242 sha256=8c2bcb0abc3ba4c58d7d13cab122fbf779621683b20cc0e742873b6f86de4d73\n",
            "  Stored in directory: /root/.cache/pip/wheels/13/c7/b0/79f66658626032e78fc1a83103690ef6797d551cb22e56e734\n",
            "Successfully built langdetect\n",
            "Installing collected packages: langdetect\n",
            "Successfully installed langdetect-1.0.9\n"
          ]
        }
      ]
    },
    {
      "cell_type": "code",
      "source": [
        "pip install pycountry"
      ],
      "metadata": {
        "colab": {
          "base_uri": "https://localhost:8080/"
        },
        "id": "NNQ4fQN7thuK",
        "outputId": "678a1683-926f-4c3a-f923-0afa5654fb41"
      },
      "execution_count": 16,
      "outputs": [
        {
          "output_type": "stream",
          "name": "stdout",
          "text": [
            "Looking in indexes: https://pypi.org/simple, https://us-python.pkg.dev/colab-wheels/public/simple/\n",
            "Collecting pycountry\n",
            "  Downloading pycountry-22.3.5.tar.gz (10.1 MB)\n",
            "\u001b[2K     \u001b[90m━━━━━━━━━━━━━━━━━━━━━━━━━━━━━━━━━━━━━━━━\u001b[0m \u001b[32m10.1/10.1 MB\u001b[0m \u001b[31m52.4 MB/s\u001b[0m eta \u001b[36m0:00:00\u001b[0m\n",
            "\u001b[?25h  Installing build dependencies ... \u001b[?25l\u001b[?25hdone\n",
            "  Getting requirements to build wheel ... \u001b[?25l\u001b[?25hdone\n",
            "  Preparing metadata (pyproject.toml) ... \u001b[?25l\u001b[?25hdone\n",
            "Requirement already satisfied: setuptools in /usr/local/lib/python3.8/dist-packages (from pycountry) (57.4.0)\n",
            "Building wheels for collected packages: pycountry\n",
            "  Building wheel for pycountry (pyproject.toml) ... \u001b[?25l\u001b[?25hdone\n",
            "  Created wheel for pycountry: filename=pycountry-22.3.5-py2.py3-none-any.whl size=10681845 sha256=ff859183f72034cd3507b03229a164ed0ca5a6764281e376139d43ee61a65515\n",
            "  Stored in directory: /root/.cache/pip/wheels/e2/aa/0f/c224e473b464387170b83ca7c66947b4a7e33e8d903a679748\n",
            "Successfully built pycountry\n",
            "Installing collected packages: pycountry\n",
            "Successfully installed pycountry-22.3.5\n"
          ]
        }
      ]
    },
    {
      "cell_type": "code",
      "source": [
        "pip install clean-text"
      ],
      "metadata": {
        "colab": {
          "base_uri": "https://localhost:8080/"
        },
        "id": "ohOw66wPNnw3",
        "outputId": "96199e09-eac5-4204-9ad2-685eecb518f9"
      },
      "execution_count": 17,
      "outputs": [
        {
          "output_type": "stream",
          "name": "stdout",
          "text": [
            "Looking in indexes: https://pypi.org/simple, https://us-python.pkg.dev/colab-wheels/public/simple/\n",
            "Requirement already satisfied: clean-text in /usr/local/lib/python3.8/dist-packages (0.6.0)\n",
            "Requirement already satisfied: ftfy<7.0,>=6.0 in /usr/local/lib/python3.8/dist-packages (from clean-text) (6.1.1)\n",
            "Requirement already satisfied: emoji<2.0.0,>=1.0.0 in /usr/local/lib/python3.8/dist-packages (from clean-text) (1.7.0)\n",
            "Requirement already satisfied: wcwidth>=0.2.5 in /usr/local/lib/python3.8/dist-packages (from ftfy<7.0,>=6.0->clean-text) (0.2.5)\n"
          ]
        }
      ]
    },
    {
      "cell_type": "markdown",
      "source": [
        "#### Text Processing"
      ],
      "metadata": {
        "id": "BtgMRdJeM9ad"
      }
    },
    {
      "cell_type": "code",
      "source": [
        "import pandas as pd\n",
        "df = pd.DataFrame({'Author': [i[0] for i in comments], 'Comment': [i[1] for i in comments], 'Timestamp': [i[2] for i in comments],\n",
        "                  'Likes': [i[3] for i in comments], 'TotalReplies': [i[4] for i in comments]})"
      ],
      "metadata": {
        "id": "KcgTLGYPP3MB"
      },
      "execution_count": 18,
      "outputs": []
    },
    {
      "cell_type": "code",
      "source": [
        "df.head()"
      ],
      "metadata": {
        "colab": {
          "base_uri": "https://localhost:8080/",
          "height": 206
        },
        "id": "azQkTYxcQoGR",
        "outputId": "fcd65059-c305-44c5-88c1-2dc130466798"
      },
      "execution_count": 19,
      "outputs": [
        {
          "output_type": "execute_result",
          "data": {
            "text/plain": [
              "                     Author  \\\n",
              "0               Rick Astley   \n",
              "1                       H1K   \n",
              "2              Alain Flores   \n",
              "3                     Lukas   \n",
              "4  breaking of the game 067   \n",
              "\n",
              "                                             Comment             Timestamp  \\\n",
              "0  1 BILLION views for Never Gonna Give You Up!  ...  2021-07-28T21:00:32Z   \n",
              "1  This isn't your first time here\\nAnd you know it.  2019-10-31T21:38:49Z   \n",
              "2  Esta canción es genial,tanto tiempo y no ha Si...  2023-01-02T16:48:50Z   \n",
              "3  Naah... temardo en verdad 😎🤙\\r\\n32707124 perso...  2023-01-02T16:26:56Z   \n",
              "4  Aparte de auto rickroll es muy buena fue un te...  2023-01-02T20:58:42Z   \n",
              "\n",
              "     Likes  TotalReplies  \n",
              "0  1166879           497  \n",
              "1   994100           494  \n",
              "2      329            15  \n",
              "3      326            10  \n",
              "4       78             3  "
            ],
            "text/html": [
              "\n",
              "  <div id=\"df-05aa523c-7f0e-47be-857e-6afc858c81be\">\n",
              "    <div class=\"colab-df-container\">\n",
              "      <div>\n",
              "<style scoped>\n",
              "    .dataframe tbody tr th:only-of-type {\n",
              "        vertical-align: middle;\n",
              "    }\n",
              "\n",
              "    .dataframe tbody tr th {\n",
              "        vertical-align: top;\n",
              "    }\n",
              "\n",
              "    .dataframe thead th {\n",
              "        text-align: right;\n",
              "    }\n",
              "</style>\n",
              "<table border=\"1\" class=\"dataframe\">\n",
              "  <thead>\n",
              "    <tr style=\"text-align: right;\">\n",
              "      <th></th>\n",
              "      <th>Author</th>\n",
              "      <th>Comment</th>\n",
              "      <th>Timestamp</th>\n",
              "      <th>Likes</th>\n",
              "      <th>TotalReplies</th>\n",
              "    </tr>\n",
              "  </thead>\n",
              "  <tbody>\n",
              "    <tr>\n",
              "      <th>0</th>\n",
              "      <td>Rick Astley</td>\n",
              "      <td>1 BILLION views for Never Gonna Give You Up!  ...</td>\n",
              "      <td>2021-07-28T21:00:32Z</td>\n",
              "      <td>1166879</td>\n",
              "      <td>497</td>\n",
              "    </tr>\n",
              "    <tr>\n",
              "      <th>1</th>\n",
              "      <td>H1K</td>\n",
              "      <td>This isn't your first time here\\nAnd you know it.</td>\n",
              "      <td>2019-10-31T21:38:49Z</td>\n",
              "      <td>994100</td>\n",
              "      <td>494</td>\n",
              "    </tr>\n",
              "    <tr>\n",
              "      <th>2</th>\n",
              "      <td>Alain Flores</td>\n",
              "      <td>Esta canción es genial,tanto tiempo y no ha Si...</td>\n",
              "      <td>2023-01-02T16:48:50Z</td>\n",
              "      <td>329</td>\n",
              "      <td>15</td>\n",
              "    </tr>\n",
              "    <tr>\n",
              "      <th>3</th>\n",
              "      <td>Lukas</td>\n",
              "      <td>Naah... temardo en verdad 😎🤙\\r\\n32707124 perso...</td>\n",
              "      <td>2023-01-02T16:26:56Z</td>\n",
              "      <td>326</td>\n",
              "      <td>10</td>\n",
              "    </tr>\n",
              "    <tr>\n",
              "      <th>4</th>\n",
              "      <td>breaking of the game 067</td>\n",
              "      <td>Aparte de auto rickroll es muy buena fue un te...</td>\n",
              "      <td>2023-01-02T20:58:42Z</td>\n",
              "      <td>78</td>\n",
              "      <td>3</td>\n",
              "    </tr>\n",
              "  </tbody>\n",
              "</table>\n",
              "</div>\n",
              "      <button class=\"colab-df-convert\" onclick=\"convertToInteractive('df-05aa523c-7f0e-47be-857e-6afc858c81be')\"\n",
              "              title=\"Convert this dataframe to an interactive table.\"\n",
              "              style=\"display:none;\">\n",
              "        \n",
              "  <svg xmlns=\"http://www.w3.org/2000/svg\" height=\"24px\"viewBox=\"0 0 24 24\"\n",
              "       width=\"24px\">\n",
              "    <path d=\"M0 0h24v24H0V0z\" fill=\"none\"/>\n",
              "    <path d=\"M18.56 5.44l.94 2.06.94-2.06 2.06-.94-2.06-.94-.94-2.06-.94 2.06-2.06.94zm-11 1L8.5 8.5l.94-2.06 2.06-.94-2.06-.94L8.5 2.5l-.94 2.06-2.06.94zm10 10l.94 2.06.94-2.06 2.06-.94-2.06-.94-.94-2.06-.94 2.06-2.06.94z\"/><path d=\"M17.41 7.96l-1.37-1.37c-.4-.4-.92-.59-1.43-.59-.52 0-1.04.2-1.43.59L10.3 9.45l-7.72 7.72c-.78.78-.78 2.05 0 2.83L4 21.41c.39.39.9.59 1.41.59.51 0 1.02-.2 1.41-.59l7.78-7.78 2.81-2.81c.8-.78.8-2.07 0-2.86zM5.41 20L4 18.59l7.72-7.72 1.47 1.35L5.41 20z\"/>\n",
              "  </svg>\n",
              "      </button>\n",
              "      \n",
              "  <style>\n",
              "    .colab-df-container {\n",
              "      display:flex;\n",
              "      flex-wrap:wrap;\n",
              "      gap: 12px;\n",
              "    }\n",
              "\n",
              "    .colab-df-convert {\n",
              "      background-color: #E8F0FE;\n",
              "      border: none;\n",
              "      border-radius: 50%;\n",
              "      cursor: pointer;\n",
              "      display: none;\n",
              "      fill: #1967D2;\n",
              "      height: 32px;\n",
              "      padding: 0 0 0 0;\n",
              "      width: 32px;\n",
              "    }\n",
              "\n",
              "    .colab-df-convert:hover {\n",
              "      background-color: #E2EBFA;\n",
              "      box-shadow: 0px 1px 2px rgba(60, 64, 67, 0.3), 0px 1px 3px 1px rgba(60, 64, 67, 0.15);\n",
              "      fill: #174EA6;\n",
              "    }\n",
              "\n",
              "    [theme=dark] .colab-df-convert {\n",
              "      background-color: #3B4455;\n",
              "      fill: #D2E3FC;\n",
              "    }\n",
              "\n",
              "    [theme=dark] .colab-df-convert:hover {\n",
              "      background-color: #434B5C;\n",
              "      box-shadow: 0px 1px 3px 1px rgba(0, 0, 0, 0.15);\n",
              "      filter: drop-shadow(0px 1px 2px rgba(0, 0, 0, 0.3));\n",
              "      fill: #FFFFFF;\n",
              "    }\n",
              "  </style>\n",
              "\n",
              "      <script>\n",
              "        const buttonEl =\n",
              "          document.querySelector('#df-05aa523c-7f0e-47be-857e-6afc858c81be button.colab-df-convert');\n",
              "        buttonEl.style.display =\n",
              "          google.colab.kernel.accessAllowed ? 'block' : 'none';\n",
              "\n",
              "        async function convertToInteractive(key) {\n",
              "          const element = document.querySelector('#df-05aa523c-7f0e-47be-857e-6afc858c81be');\n",
              "          const dataTable =\n",
              "            await google.colab.kernel.invokeFunction('convertToInteractive',\n",
              "                                                     [key], {});\n",
              "          if (!dataTable) return;\n",
              "\n",
              "          const docLinkHtml = 'Like what you see? Visit the ' +\n",
              "            '<a target=\"_blank\" href=https://colab.research.google.com/notebooks/data_table.ipynb>data table notebook</a>'\n",
              "            + ' to learn more about interactive tables.';\n",
              "          element.innerHTML = '';\n",
              "          dataTable['output_type'] = 'display_data';\n",
              "          await google.colab.output.renderOutput(dataTable, element);\n",
              "          const docLink = document.createElement('div');\n",
              "          docLink.innerHTML = docLinkHtml;\n",
              "          element.appendChild(docLink);\n",
              "        }\n",
              "      </script>\n",
              "    </div>\n",
              "  </div>\n",
              "  "
            ]
          },
          "metadata": {},
          "execution_count": 19
        }
      ]
    },
    {
      "cell_type": "code",
      "source": [
        "!pip list | grep 'google'"
      ],
      "metadata": {
        "colab": {
          "base_uri": "https://localhost:8080/"
        },
        "id": "3ymwvFWJPJ_c",
        "outputId": "69ca74bb-c149-4a10-c092-a81b18f654a9"
      },
      "execution_count": 37,
      "outputs": [
        {
          "output_type": "stream",
          "name": "stdout",
          "text": [
            "google                        2.0.3\n",
            "google-api-core               2.11.0\n",
            "google-api-python-client      2.70.0\n",
            "google-auth                   2.15.0\n",
            "google-auth-httplib2          0.1.0\n",
            "google-auth-oauthlib          0.4.6\n",
            "google-cloud-bigquery         3.4.1\n",
            "google-cloud-bigquery-storage 2.17.0\n",
            "google-cloud-core             2.3.2\n",
            "google-cloud-datastore        2.11.0\n",
            "google-cloud-firestore        2.7.3\n",
            "google-cloud-language         2.6.1\n",
            "google-cloud-storage          2.7.0\n",
            "google-cloud-translate        3.8.4\n",
            "google-colab                  1.0.0\n",
            "google-crc32c                 1.5.0\n",
            "google-pasta                  0.2.0\n",
            "google-resumable-media        2.4.0\n",
            "googleapis-common-protos      1.57.0\n",
            "googledrivedownloader         0.4\n",
            "pydata-google-auth            1.4.0\n"
          ]
        }
      ]
    },
    {
      "cell_type": "code",
      "source": [
        "from cleantext import clean\n",
        "\n",
        "# Remove extra spaces and make them lower case. Replace special emojis\n",
        "clean_df = df\n",
        "clean_df['Comment'] = clean_df['Comment'].apply(lambda x: x.strip().lower().replace('xd','').replace('<3',''))\n",
        "\n",
        "# Clean text from line breaks, unicodes, emojis and punctuations\n",
        "clean_df['Comment'] = clean_df['Comment'].apply(lambda x: clean(x, no_emoji=True, no_punct=True, no_line_breaks=True, fix_unicode=True))\n",
        "clean_df.head()"
      ],
      "metadata": {
        "colab": {
          "base_uri": "https://localhost:8080/",
          "height": 206
        },
        "id": "wtD45aw7BLiW",
        "outputId": "74aaa6b5-81f1-4abd-9e90-e1e46ea3aa14"
      },
      "execution_count": 21,
      "outputs": [
        {
          "output_type": "execute_result",
          "data": {
            "text/plain": [
              "                     Author  \\\n",
              "0               Rick Astley   \n",
              "1                       H1K   \n",
              "2              Alain Flores   \n",
              "3                     Lukas   \n",
              "4  breaking of the game 067   \n",
              "\n",
              "                                             Comment             Timestamp  \\\n",
              "0  1 billion views for never gonna give you up am...  2021-07-28T21:00:32Z   \n",
              "1     this isnt your first time here and you know it  2019-10-31T21:38:49Z   \n",
              "2  esta cancion es genialtanto tiempo y no ha sid...  2023-01-02T16:48:50Z   \n",
              "3  naah temardo en verdad 32707124 personas ya lo...  2023-01-02T16:26:56Z   \n",
              "4  aparte de auto rickroll es muy buena fue un te...  2023-01-02T20:58:42Z   \n",
              "\n",
              "     Likes  TotalReplies  \n",
              "0  1166879           497  \n",
              "1   994100           494  \n",
              "2      329            15  \n",
              "3      326            10  \n",
              "4       78             3  "
            ],
            "text/html": [
              "\n",
              "  <div id=\"df-0af9bc68-85cf-4716-bf51-4d326e4dee0e\">\n",
              "    <div class=\"colab-df-container\">\n",
              "      <div>\n",
              "<style scoped>\n",
              "    .dataframe tbody tr th:only-of-type {\n",
              "        vertical-align: middle;\n",
              "    }\n",
              "\n",
              "    .dataframe tbody tr th {\n",
              "        vertical-align: top;\n",
              "    }\n",
              "\n",
              "    .dataframe thead th {\n",
              "        text-align: right;\n",
              "    }\n",
              "</style>\n",
              "<table border=\"1\" class=\"dataframe\">\n",
              "  <thead>\n",
              "    <tr style=\"text-align: right;\">\n",
              "      <th></th>\n",
              "      <th>Author</th>\n",
              "      <th>Comment</th>\n",
              "      <th>Timestamp</th>\n",
              "      <th>Likes</th>\n",
              "      <th>TotalReplies</th>\n",
              "    </tr>\n",
              "  </thead>\n",
              "  <tbody>\n",
              "    <tr>\n",
              "      <th>0</th>\n",
              "      <td>Rick Astley</td>\n",
              "      <td>1 billion views for never gonna give you up am...</td>\n",
              "      <td>2021-07-28T21:00:32Z</td>\n",
              "      <td>1166879</td>\n",
              "      <td>497</td>\n",
              "    </tr>\n",
              "    <tr>\n",
              "      <th>1</th>\n",
              "      <td>H1K</td>\n",
              "      <td>this isnt your first time here and you know it</td>\n",
              "      <td>2019-10-31T21:38:49Z</td>\n",
              "      <td>994100</td>\n",
              "      <td>494</td>\n",
              "    </tr>\n",
              "    <tr>\n",
              "      <th>2</th>\n",
              "      <td>Alain Flores</td>\n",
              "      <td>esta cancion es genialtanto tiempo y no ha sid...</td>\n",
              "      <td>2023-01-02T16:48:50Z</td>\n",
              "      <td>329</td>\n",
              "      <td>15</td>\n",
              "    </tr>\n",
              "    <tr>\n",
              "      <th>3</th>\n",
              "      <td>Lukas</td>\n",
              "      <td>naah temardo en verdad 32707124 personas ya lo...</td>\n",
              "      <td>2023-01-02T16:26:56Z</td>\n",
              "      <td>326</td>\n",
              "      <td>10</td>\n",
              "    </tr>\n",
              "    <tr>\n",
              "      <th>4</th>\n",
              "      <td>breaking of the game 067</td>\n",
              "      <td>aparte de auto rickroll es muy buena fue un te...</td>\n",
              "      <td>2023-01-02T20:58:42Z</td>\n",
              "      <td>78</td>\n",
              "      <td>3</td>\n",
              "    </tr>\n",
              "  </tbody>\n",
              "</table>\n",
              "</div>\n",
              "      <button class=\"colab-df-convert\" onclick=\"convertToInteractive('df-0af9bc68-85cf-4716-bf51-4d326e4dee0e')\"\n",
              "              title=\"Convert this dataframe to an interactive table.\"\n",
              "              style=\"display:none;\">\n",
              "        \n",
              "  <svg xmlns=\"http://www.w3.org/2000/svg\" height=\"24px\"viewBox=\"0 0 24 24\"\n",
              "       width=\"24px\">\n",
              "    <path d=\"M0 0h24v24H0V0z\" fill=\"none\"/>\n",
              "    <path d=\"M18.56 5.44l.94 2.06.94-2.06 2.06-.94-2.06-.94-.94-2.06-.94 2.06-2.06.94zm-11 1L8.5 8.5l.94-2.06 2.06-.94-2.06-.94L8.5 2.5l-.94 2.06-2.06.94zm10 10l.94 2.06.94-2.06 2.06-.94-2.06-.94-.94-2.06-.94 2.06-2.06.94z\"/><path d=\"M17.41 7.96l-1.37-1.37c-.4-.4-.92-.59-1.43-.59-.52 0-1.04.2-1.43.59L10.3 9.45l-7.72 7.72c-.78.78-.78 2.05 0 2.83L4 21.41c.39.39.9.59 1.41.59.51 0 1.02-.2 1.41-.59l7.78-7.78 2.81-2.81c.8-.78.8-2.07 0-2.86zM5.41 20L4 18.59l7.72-7.72 1.47 1.35L5.41 20z\"/>\n",
              "  </svg>\n",
              "      </button>\n",
              "      \n",
              "  <style>\n",
              "    .colab-df-container {\n",
              "      display:flex;\n",
              "      flex-wrap:wrap;\n",
              "      gap: 12px;\n",
              "    }\n",
              "\n",
              "    .colab-df-convert {\n",
              "      background-color: #E8F0FE;\n",
              "      border: none;\n",
              "      border-radius: 50%;\n",
              "      cursor: pointer;\n",
              "      display: none;\n",
              "      fill: #1967D2;\n",
              "      height: 32px;\n",
              "      padding: 0 0 0 0;\n",
              "      width: 32px;\n",
              "    }\n",
              "\n",
              "    .colab-df-convert:hover {\n",
              "      background-color: #E2EBFA;\n",
              "      box-shadow: 0px 1px 2px rgba(60, 64, 67, 0.3), 0px 1px 3px 1px rgba(60, 64, 67, 0.15);\n",
              "      fill: #174EA6;\n",
              "    }\n",
              "\n",
              "    [theme=dark] .colab-df-convert {\n",
              "      background-color: #3B4455;\n",
              "      fill: #D2E3FC;\n",
              "    }\n",
              "\n",
              "    [theme=dark] .colab-df-convert:hover {\n",
              "      background-color: #434B5C;\n",
              "      box-shadow: 0px 1px 3px 1px rgba(0, 0, 0, 0.15);\n",
              "      filter: drop-shadow(0px 1px 2px rgba(0, 0, 0, 0.3));\n",
              "      fill: #FFFFFF;\n",
              "    }\n",
              "  </style>\n",
              "\n",
              "      <script>\n",
              "        const buttonEl =\n",
              "          document.querySelector('#df-0af9bc68-85cf-4716-bf51-4d326e4dee0e button.colab-df-convert');\n",
              "        buttonEl.style.display =\n",
              "          google.colab.kernel.accessAllowed ? 'block' : 'none';\n",
              "\n",
              "        async function convertToInteractive(key) {\n",
              "          const element = document.querySelector('#df-0af9bc68-85cf-4716-bf51-4d326e4dee0e');\n",
              "          const dataTable =\n",
              "            await google.colab.kernel.invokeFunction('convertToInteractive',\n",
              "                                                     [key], {});\n",
              "          if (!dataTable) return;\n",
              "\n",
              "          const docLinkHtml = 'Like what you see? Visit the ' +\n",
              "            '<a target=\"_blank\" href=https://colab.research.google.com/notebooks/data_table.ipynb>data table notebook</a>'\n",
              "            + ' to learn more about interactive tables.';\n",
              "          element.innerHTML = '';\n",
              "          dataTable['output_type'] = 'display_data';\n",
              "          await google.colab.output.renderOutput(dataTable, element);\n",
              "          const docLink = document.createElement('div');\n",
              "          docLink.innerHTML = docLinkHtml;\n",
              "          element.appendChild(docLink);\n",
              "        }\n",
              "      </script>\n",
              "    </div>\n",
              "  </div>\n",
              "  "
            ]
          },
          "metadata": {},
          "execution_count": 21
        }
      ]
    },
    {
      "cell_type": "code",
      "source": [
        "from langdetect import detect\n",
        "clean_df['Language'] = clean_df['Comment'].apply(lambda x: detect(x))\n",
        "clean_df.head()"
      ],
      "metadata": {
        "id": "pjeWOlFuMyAm",
        "colab": {
          "base_uri": "https://localhost:8080/",
          "height": 206
        },
        "outputId": "d7a6f533-117a-4b2e-8f6e-a343d9c9fe2b"
      },
      "execution_count": 22,
      "outputs": [
        {
          "output_type": "execute_result",
          "data": {
            "text/plain": [
              "                     Author  \\\n",
              "0               Rick Astley   \n",
              "1                       H1K   \n",
              "2              Alain Flores   \n",
              "3                     Lukas   \n",
              "4  breaking of the game 067   \n",
              "\n",
              "                                             Comment             Timestamp  \\\n",
              "0  1 billion views for never gonna give you up am...  2021-07-28T21:00:32Z   \n",
              "1     this isnt your first time here and you know it  2019-10-31T21:38:49Z   \n",
              "2  esta cancion es genialtanto tiempo y no ha sid...  2023-01-02T16:48:50Z   \n",
              "3  naah temardo en verdad 32707124 personas ya lo...  2023-01-02T16:26:56Z   \n",
              "4  aparte de auto rickroll es muy buena fue un te...  2023-01-02T20:58:42Z   \n",
              "\n",
              "     Likes  TotalReplies Language  \n",
              "0  1166879           497       en  \n",
              "1   994100           494       en  \n",
              "2      329            15       es  \n",
              "3      326            10       es  \n",
              "4       78             3       es  "
            ],
            "text/html": [
              "\n",
              "  <div id=\"df-2606be50-e9fe-4aaf-b480-f8d4e2e179d5\">\n",
              "    <div class=\"colab-df-container\">\n",
              "      <div>\n",
              "<style scoped>\n",
              "    .dataframe tbody tr th:only-of-type {\n",
              "        vertical-align: middle;\n",
              "    }\n",
              "\n",
              "    .dataframe tbody tr th {\n",
              "        vertical-align: top;\n",
              "    }\n",
              "\n",
              "    .dataframe thead th {\n",
              "        text-align: right;\n",
              "    }\n",
              "</style>\n",
              "<table border=\"1\" class=\"dataframe\">\n",
              "  <thead>\n",
              "    <tr style=\"text-align: right;\">\n",
              "      <th></th>\n",
              "      <th>Author</th>\n",
              "      <th>Comment</th>\n",
              "      <th>Timestamp</th>\n",
              "      <th>Likes</th>\n",
              "      <th>TotalReplies</th>\n",
              "      <th>Language</th>\n",
              "    </tr>\n",
              "  </thead>\n",
              "  <tbody>\n",
              "    <tr>\n",
              "      <th>0</th>\n",
              "      <td>Rick Astley</td>\n",
              "      <td>1 billion views for never gonna give you up am...</td>\n",
              "      <td>2021-07-28T21:00:32Z</td>\n",
              "      <td>1166879</td>\n",
              "      <td>497</td>\n",
              "      <td>en</td>\n",
              "    </tr>\n",
              "    <tr>\n",
              "      <th>1</th>\n",
              "      <td>H1K</td>\n",
              "      <td>this isnt your first time here and you know it</td>\n",
              "      <td>2019-10-31T21:38:49Z</td>\n",
              "      <td>994100</td>\n",
              "      <td>494</td>\n",
              "      <td>en</td>\n",
              "    </tr>\n",
              "    <tr>\n",
              "      <th>2</th>\n",
              "      <td>Alain Flores</td>\n",
              "      <td>esta cancion es genialtanto tiempo y no ha sid...</td>\n",
              "      <td>2023-01-02T16:48:50Z</td>\n",
              "      <td>329</td>\n",
              "      <td>15</td>\n",
              "      <td>es</td>\n",
              "    </tr>\n",
              "    <tr>\n",
              "      <th>3</th>\n",
              "      <td>Lukas</td>\n",
              "      <td>naah temardo en verdad 32707124 personas ya lo...</td>\n",
              "      <td>2023-01-02T16:26:56Z</td>\n",
              "      <td>326</td>\n",
              "      <td>10</td>\n",
              "      <td>es</td>\n",
              "    </tr>\n",
              "    <tr>\n",
              "      <th>4</th>\n",
              "      <td>breaking of the game 067</td>\n",
              "      <td>aparte de auto rickroll es muy buena fue un te...</td>\n",
              "      <td>2023-01-02T20:58:42Z</td>\n",
              "      <td>78</td>\n",
              "      <td>3</td>\n",
              "      <td>es</td>\n",
              "    </tr>\n",
              "  </tbody>\n",
              "</table>\n",
              "</div>\n",
              "      <button class=\"colab-df-convert\" onclick=\"convertToInteractive('df-2606be50-e9fe-4aaf-b480-f8d4e2e179d5')\"\n",
              "              title=\"Convert this dataframe to an interactive table.\"\n",
              "              style=\"display:none;\">\n",
              "        \n",
              "  <svg xmlns=\"http://www.w3.org/2000/svg\" height=\"24px\"viewBox=\"0 0 24 24\"\n",
              "       width=\"24px\">\n",
              "    <path d=\"M0 0h24v24H0V0z\" fill=\"none\"/>\n",
              "    <path d=\"M18.56 5.44l.94 2.06.94-2.06 2.06-.94-2.06-.94-.94-2.06-.94 2.06-2.06.94zm-11 1L8.5 8.5l.94-2.06 2.06-.94-2.06-.94L8.5 2.5l-.94 2.06-2.06.94zm10 10l.94 2.06.94-2.06 2.06-.94-2.06-.94-.94-2.06-.94 2.06-2.06.94z\"/><path d=\"M17.41 7.96l-1.37-1.37c-.4-.4-.92-.59-1.43-.59-.52 0-1.04.2-1.43.59L10.3 9.45l-7.72 7.72c-.78.78-.78 2.05 0 2.83L4 21.41c.39.39.9.59 1.41.59.51 0 1.02-.2 1.41-.59l7.78-7.78 2.81-2.81c.8-.78.8-2.07 0-2.86zM5.41 20L4 18.59l7.72-7.72 1.47 1.35L5.41 20z\"/>\n",
              "  </svg>\n",
              "      </button>\n",
              "      \n",
              "  <style>\n",
              "    .colab-df-container {\n",
              "      display:flex;\n",
              "      flex-wrap:wrap;\n",
              "      gap: 12px;\n",
              "    }\n",
              "\n",
              "    .colab-df-convert {\n",
              "      background-color: #E8F0FE;\n",
              "      border: none;\n",
              "      border-radius: 50%;\n",
              "      cursor: pointer;\n",
              "      display: none;\n",
              "      fill: #1967D2;\n",
              "      height: 32px;\n",
              "      padding: 0 0 0 0;\n",
              "      width: 32px;\n",
              "    }\n",
              "\n",
              "    .colab-df-convert:hover {\n",
              "      background-color: #E2EBFA;\n",
              "      box-shadow: 0px 1px 2px rgba(60, 64, 67, 0.3), 0px 1px 3px 1px rgba(60, 64, 67, 0.15);\n",
              "      fill: #174EA6;\n",
              "    }\n",
              "\n",
              "    [theme=dark] .colab-df-convert {\n",
              "      background-color: #3B4455;\n",
              "      fill: #D2E3FC;\n",
              "    }\n",
              "\n",
              "    [theme=dark] .colab-df-convert:hover {\n",
              "      background-color: #434B5C;\n",
              "      box-shadow: 0px 1px 3px 1px rgba(0, 0, 0, 0.15);\n",
              "      filter: drop-shadow(0px 1px 2px rgba(0, 0, 0, 0.3));\n",
              "      fill: #FFFFFF;\n",
              "    }\n",
              "  </style>\n",
              "\n",
              "      <script>\n",
              "        const buttonEl =\n",
              "          document.querySelector('#df-2606be50-e9fe-4aaf-b480-f8d4e2e179d5 button.colab-df-convert');\n",
              "        buttonEl.style.display =\n",
              "          google.colab.kernel.accessAllowed ? 'block' : 'none';\n",
              "\n",
              "        async function convertToInteractive(key) {\n",
              "          const element = document.querySelector('#df-2606be50-e9fe-4aaf-b480-f8d4e2e179d5');\n",
              "          const dataTable =\n",
              "            await google.colab.kernel.invokeFunction('convertToInteractive',\n",
              "                                                     [key], {});\n",
              "          if (!dataTable) return;\n",
              "\n",
              "          const docLinkHtml = 'Like what you see? Visit the ' +\n",
              "            '<a target=\"_blank\" href=https://colab.research.google.com/notebooks/data_table.ipynb>data table notebook</a>'\n",
              "            + ' to learn more about interactive tables.';\n",
              "          element.innerHTML = '';\n",
              "          dataTable['output_type'] = 'display_data';\n",
              "          await google.colab.output.renderOutput(dataTable, element);\n",
              "          const docLink = document.createElement('div');\n",
              "          docLink.innerHTML = docLinkHtml;\n",
              "          element.appendChild(docLink);\n",
              "        }\n",
              "      </script>\n",
              "    </div>\n",
              "  </div>\n",
              "  "
            ]
          },
          "metadata": {},
          "execution_count": 22
        }
      ]
    },
    {
      "cell_type": "code",
      "source": [
        "import pycountry\n",
        "# Convert ISO country codes to Languages\n",
        "clean_df['Language'] = clean_df['Language'].apply(lambda x: pycountry.languages.get(alpha_2=x).name)\n",
        "clean_df.head()"
      ],
      "metadata": {
        "id": "EotEzuxJt5Zi",
        "colab": {
          "base_uri": "https://localhost:8080/",
          "height": 206
        },
        "outputId": "7f4e49ef-c5e8-4289-9f51-9ab6486a3f51"
      },
      "execution_count": 23,
      "outputs": [
        {
          "output_type": "execute_result",
          "data": {
            "text/plain": [
              "                     Author  \\\n",
              "0               Rick Astley   \n",
              "1                       H1K   \n",
              "2              Alain Flores   \n",
              "3                     Lukas   \n",
              "4  breaking of the game 067   \n",
              "\n",
              "                                             Comment             Timestamp  \\\n",
              "0  1 billion views for never gonna give you up am...  2021-07-28T21:00:32Z   \n",
              "1     this isnt your first time here and you know it  2019-10-31T21:38:49Z   \n",
              "2  esta cancion es genialtanto tiempo y no ha sid...  2023-01-02T16:48:50Z   \n",
              "3  naah temardo en verdad 32707124 personas ya lo...  2023-01-02T16:26:56Z   \n",
              "4  aparte de auto rickroll es muy buena fue un te...  2023-01-02T20:58:42Z   \n",
              "\n",
              "     Likes  TotalReplies Language  \n",
              "0  1166879           497  English  \n",
              "1   994100           494  English  \n",
              "2      329            15  Spanish  \n",
              "3      326            10  Spanish  \n",
              "4       78             3  Spanish  "
            ],
            "text/html": [
              "\n",
              "  <div id=\"df-c4591117-cda8-4d0c-8cca-fcc29e48249e\">\n",
              "    <div class=\"colab-df-container\">\n",
              "      <div>\n",
              "<style scoped>\n",
              "    .dataframe tbody tr th:only-of-type {\n",
              "        vertical-align: middle;\n",
              "    }\n",
              "\n",
              "    .dataframe tbody tr th {\n",
              "        vertical-align: top;\n",
              "    }\n",
              "\n",
              "    .dataframe thead th {\n",
              "        text-align: right;\n",
              "    }\n",
              "</style>\n",
              "<table border=\"1\" class=\"dataframe\">\n",
              "  <thead>\n",
              "    <tr style=\"text-align: right;\">\n",
              "      <th></th>\n",
              "      <th>Author</th>\n",
              "      <th>Comment</th>\n",
              "      <th>Timestamp</th>\n",
              "      <th>Likes</th>\n",
              "      <th>TotalReplies</th>\n",
              "      <th>Language</th>\n",
              "    </tr>\n",
              "  </thead>\n",
              "  <tbody>\n",
              "    <tr>\n",
              "      <th>0</th>\n",
              "      <td>Rick Astley</td>\n",
              "      <td>1 billion views for never gonna give you up am...</td>\n",
              "      <td>2021-07-28T21:00:32Z</td>\n",
              "      <td>1166879</td>\n",
              "      <td>497</td>\n",
              "      <td>English</td>\n",
              "    </tr>\n",
              "    <tr>\n",
              "      <th>1</th>\n",
              "      <td>H1K</td>\n",
              "      <td>this isnt your first time here and you know it</td>\n",
              "      <td>2019-10-31T21:38:49Z</td>\n",
              "      <td>994100</td>\n",
              "      <td>494</td>\n",
              "      <td>English</td>\n",
              "    </tr>\n",
              "    <tr>\n",
              "      <th>2</th>\n",
              "      <td>Alain Flores</td>\n",
              "      <td>esta cancion es genialtanto tiempo y no ha sid...</td>\n",
              "      <td>2023-01-02T16:48:50Z</td>\n",
              "      <td>329</td>\n",
              "      <td>15</td>\n",
              "      <td>Spanish</td>\n",
              "    </tr>\n",
              "    <tr>\n",
              "      <th>3</th>\n",
              "      <td>Lukas</td>\n",
              "      <td>naah temardo en verdad 32707124 personas ya lo...</td>\n",
              "      <td>2023-01-02T16:26:56Z</td>\n",
              "      <td>326</td>\n",
              "      <td>10</td>\n",
              "      <td>Spanish</td>\n",
              "    </tr>\n",
              "    <tr>\n",
              "      <th>4</th>\n",
              "      <td>breaking of the game 067</td>\n",
              "      <td>aparte de auto rickroll es muy buena fue un te...</td>\n",
              "      <td>2023-01-02T20:58:42Z</td>\n",
              "      <td>78</td>\n",
              "      <td>3</td>\n",
              "      <td>Spanish</td>\n",
              "    </tr>\n",
              "  </tbody>\n",
              "</table>\n",
              "</div>\n",
              "      <button class=\"colab-df-convert\" onclick=\"convertToInteractive('df-c4591117-cda8-4d0c-8cca-fcc29e48249e')\"\n",
              "              title=\"Convert this dataframe to an interactive table.\"\n",
              "              style=\"display:none;\">\n",
              "        \n",
              "  <svg xmlns=\"http://www.w3.org/2000/svg\" height=\"24px\"viewBox=\"0 0 24 24\"\n",
              "       width=\"24px\">\n",
              "    <path d=\"M0 0h24v24H0V0z\" fill=\"none\"/>\n",
              "    <path d=\"M18.56 5.44l.94 2.06.94-2.06 2.06-.94-2.06-.94-.94-2.06-.94 2.06-2.06.94zm-11 1L8.5 8.5l.94-2.06 2.06-.94-2.06-.94L8.5 2.5l-.94 2.06-2.06.94zm10 10l.94 2.06.94-2.06 2.06-.94-2.06-.94-.94-2.06-.94 2.06-2.06.94z\"/><path d=\"M17.41 7.96l-1.37-1.37c-.4-.4-.92-.59-1.43-.59-.52 0-1.04.2-1.43.59L10.3 9.45l-7.72 7.72c-.78.78-.78 2.05 0 2.83L4 21.41c.39.39.9.59 1.41.59.51 0 1.02-.2 1.41-.59l7.78-7.78 2.81-2.81c.8-.78.8-2.07 0-2.86zM5.41 20L4 18.59l7.72-7.72 1.47 1.35L5.41 20z\"/>\n",
              "  </svg>\n",
              "      </button>\n",
              "      \n",
              "  <style>\n",
              "    .colab-df-container {\n",
              "      display:flex;\n",
              "      flex-wrap:wrap;\n",
              "      gap: 12px;\n",
              "    }\n",
              "\n",
              "    .colab-df-convert {\n",
              "      background-color: #E8F0FE;\n",
              "      border: none;\n",
              "      border-radius: 50%;\n",
              "      cursor: pointer;\n",
              "      display: none;\n",
              "      fill: #1967D2;\n",
              "      height: 32px;\n",
              "      padding: 0 0 0 0;\n",
              "      width: 32px;\n",
              "    }\n",
              "\n",
              "    .colab-df-convert:hover {\n",
              "      background-color: #E2EBFA;\n",
              "      box-shadow: 0px 1px 2px rgba(60, 64, 67, 0.3), 0px 1px 3px 1px rgba(60, 64, 67, 0.15);\n",
              "      fill: #174EA6;\n",
              "    }\n",
              "\n",
              "    [theme=dark] .colab-df-convert {\n",
              "      background-color: #3B4455;\n",
              "      fill: #D2E3FC;\n",
              "    }\n",
              "\n",
              "    [theme=dark] .colab-df-convert:hover {\n",
              "      background-color: #434B5C;\n",
              "      box-shadow: 0px 1px 3px 1px rgba(0, 0, 0, 0.15);\n",
              "      filter: drop-shadow(0px 1px 2px rgba(0, 0, 0, 0.3));\n",
              "      fill: #FFFFFF;\n",
              "    }\n",
              "  </style>\n",
              "\n",
              "      <script>\n",
              "        const buttonEl =\n",
              "          document.querySelector('#df-c4591117-cda8-4d0c-8cca-fcc29e48249e button.colab-df-convert');\n",
              "        buttonEl.style.display =\n",
              "          google.colab.kernel.accessAllowed ? 'block' : 'none';\n",
              "\n",
              "        async function convertToInteractive(key) {\n",
              "          const element = document.querySelector('#df-c4591117-cda8-4d0c-8cca-fcc29e48249e');\n",
              "          const dataTable =\n",
              "            await google.colab.kernel.invokeFunction('convertToInteractive',\n",
              "                                                     [key], {});\n",
              "          if (!dataTable) return;\n",
              "\n",
              "          const docLinkHtml = 'Like what you see? Visit the ' +\n",
              "            '<a target=\"_blank\" href=https://colab.research.google.com/notebooks/data_table.ipynb>data table notebook</a>'\n",
              "            + ' to learn more about interactive tables.';\n",
              "          element.innerHTML = '';\n",
              "          dataTable['output_type'] = 'display_data';\n",
              "          await google.colab.output.renderOutput(dataTable, element);\n",
              "          const docLink = document.createElement('div');\n",
              "          docLink.innerHTML = docLinkHtml;\n",
              "          element.appendChild(docLink);\n",
              "        }\n",
              "      </script>\n",
              "    </div>\n",
              "  </div>\n",
              "  "
            ]
          },
          "metadata": {},
          "execution_count": 23
        }
      ]
    },
    {
      "cell_type": "markdown",
      "source": [
        "## Text Blob\n"
      ],
      "metadata": {
        "id": "2gfluMSUrmHg"
      }
    },
    {
      "cell_type": "code",
      "source": [
        "from nltk.sentiment.util import *\n",
        "from textblob import TextBlob\n",
        "from nltk import tokenize\n",
        "# New variable for TextBlob approach\n",
        "textBlob = clean_df.loc[clean_df['Language']=='English']\n",
        "\n",
        "def get_polarity(text):\n",
        "  return TextBlob(text).sentiment.polarity\n",
        "\n",
        "textBlob['TextBlob_Polarity'] = textBlob['Comment'].apply(get_polarity)"
      ],
      "metadata": {
        "colab": {
          "base_uri": "https://localhost:8080/"
        },
        "id": "W02RT8cDrluz",
        "outputId": "8d9ef2bc-adf4-4f65-8057-251e90c105ce"
      },
      "execution_count": 24,
      "outputs": [
        {
          "output_type": "stream",
          "name": "stderr",
          "text": [
            "<ipython-input-24-6dc022b8ac93>:10: SettingWithCopyWarning: \n",
            "A value is trying to be set on a copy of a slice from a DataFrame.\n",
            "Try using .loc[row_indexer,col_indexer] = value instead\n",
            "\n",
            "See the caveats in the documentation: https://pandas.pydata.org/pandas-docs/stable/user_guide/indexing.html#returning-a-view-versus-a-copy\n",
            "  textBlob['TextBlob_Polarity'] = textBlob['Comment'].apply(get_polarity)\n"
          ]
        }
      ]
    },
    {
      "cell_type": "code",
      "source": [
        "textBlob['TextBlob_Sentiment_Type']=''\n",
        "textBlob.loc[textBlob.TextBlob_Polarity>0,'TextBlob_Sentiment_Type']='POSITIVE'\n",
        "textBlob.loc[textBlob.TextBlob_Polarity==0,'TextBlob_Sentiment_Type']='NEUTRAL'\n",
        "textBlob.loc[textBlob.TextBlob_Polarity<0,'TextBlob_Sentiment_Type']='NEGATIVE'"
      ],
      "metadata": {
        "colab": {
          "base_uri": "https://localhost:8080/"
        },
        "id": "i8qD9fHXszkA",
        "outputId": "0254078c-edd0-4cde-b6e0-24bfda73be05"
      },
      "execution_count": 25,
      "outputs": [
        {
          "output_type": "stream",
          "name": "stderr",
          "text": [
            "<ipython-input-25-a2cc16ededd8>:1: SettingWithCopyWarning: \n",
            "A value is trying to be set on a copy of a slice from a DataFrame.\n",
            "Try using .loc[row_indexer,col_indexer] = value instead\n",
            "\n",
            "See the caveats in the documentation: https://pandas.pydata.org/pandas-docs/stable/user_guide/indexing.html#returning-a-view-versus-a-copy\n",
            "  textBlob['TextBlob_Sentiment_Type']=''\n",
            "/usr/local/lib/python3.8/dist-packages/pandas/core/indexing.py:1817: SettingWithCopyWarning: \n",
            "A value is trying to be set on a copy of a slice from a DataFrame.\n",
            "Try using .loc[row_indexer,col_indexer] = value instead\n",
            "\n",
            "See the caveats in the documentation: https://pandas.pydata.org/pandas-docs/stable/user_guide/indexing.html#returning-a-view-versus-a-copy\n",
            "  self._setitem_single_column(loc, value, pi)\n"
          ]
        }
      ]
    },
    {
      "cell_type": "code",
      "source": [
        "textBlob.TextBlob_Sentiment_Type.value_counts()"
      ],
      "metadata": {
        "colab": {
          "base_uri": "https://localhost:8080/"
        },
        "id": "_ev2skkmveUw",
        "outputId": "2faac6bc-ab13-4769-9341-5e63df2c708d"
      },
      "execution_count": 26,
      "outputs": [
        {
          "output_type": "execute_result",
          "data": {
            "text/plain": [
              "POSITIVE    29\n",
              "NEUTRAL     10\n",
              "NEGATIVE     3\n",
              "Name: TextBlob_Sentiment_Type, dtype: int64"
            ]
          },
          "metadata": {},
          "execution_count": 26
        }
      ]
    },
    {
      "cell_type": "code",
      "source": [
        "textBlob.TextBlob_Sentiment_Type.value_counts().plot(kind='bar',title=\"TextBlob Sentiment Analysis\")"
      ],
      "metadata": {
        "colab": {
          "base_uri": "https://localhost:8080/",
          "height": 338
        },
        "id": "zs_O3z4-tNei",
        "outputId": "c1c15d17-e3f1-4983-f0b2-5df3e993d69c"
      },
      "execution_count": 27,
      "outputs": [
        {
          "output_type": "execute_result",
          "data": {
            "text/plain": [
              "<matplotlib.axes._subplots.AxesSubplot at 0x7f379b300670>"
            ]
          },
          "metadata": {},
          "execution_count": 27
        },
        {
          "output_type": "display_data",
          "data": {
            "text/plain": [
              "<Figure size 432x288 with 1 Axes>"
            ],
            "image/png": "[encoded data removed]"
          },
          "metadata": {
            "needs_background": "light"
          }
        }
      ]
    },
    {
      "cell_type": "markdown",
      "source": [
        "## Vader"
      ],
      "metadata": {
        "id": "o4BkWHCotcf_"
      }
    },
    {
      "cell_type": "code",
      "source": [
        "import nltk\n",
        "nltk.download('vader_lexicon')\n",
        "from nltk.sentiment.vader import SentimentIntensityAnalyzer\n",
        "\n",
        "vader_df = clean_df.loc[clean_df['Language']=='English']\n",
        "\n",
        "sid = SentimentIntensityAnalyzer()"
      ],
      "metadata": {
        "colab": {
          "base_uri": "https://localhost:8080/"
        },
        "id": "qPr96LfXte83",
        "outputId": "f3c71ff1-219f-46f0-f021-69ab140adfe1"
      },
      "execution_count": 28,
      "outputs": [
        {
          "output_type": "stream",
          "name": "stderr",
          "text": [
            "[nltk_data] Downloading package vader_lexicon to /root/nltk_data...\n"
          ]
        }
      ]
    },
    {
      "cell_type": "code",
      "source": [
        "vader_df['vader_scores'] = vader_df['Comment'].apply(lambda Comment: sid.polarity_scores(Comment))\n",
        "vader_df.head()"
      ],
      "metadata": {
        "colab": {
          "base_uri": "https://localhost:8080/",
          "height": 310
        },
        "id": "ywOe5tSatkIB",
        "outputId": "c4b5dade-3e5f-4b4e-cbec-8a55811d8af2"
      },
      "execution_count": 29,
      "outputs": [
        {
          "output_type": "stream",
          "name": "stderr",
          "text": [
            "<ipython-input-29-89412567477f>:1: SettingWithCopyWarning: \n",
            "A value is trying to be set on a copy of a slice from a DataFrame.\n",
            "Try using .loc[row_indexer,col_indexer] = value instead\n",
            "\n",
            "See the caveats in the documentation: https://pandas.pydata.org/pandas-docs/stable/user_guide/indexing.html#returning-a-view-versus-a-copy\n",
            "  vader_df['vader_scores'] = vader_df['Comment'].apply(lambda Comment: sid.polarity_scores(Comment))\n"
          ]
        },
        {
          "output_type": "execute_result",
          "data": {
            "text/plain": [
              "                  Author                                            Comment  \\\n",
              "0            Rick Astley  1 billion views for never gonna give you up am...   \n",
              "1                    H1K     this isnt your first time here and you know it   \n",
              "6                  Dylan  its come to the point that being rickrolled is...   \n",
              "8                 Peanut  no matter what you say you got rick rolled don...   \n",
              "11  dumb bee FBI edition  sometimes you just gotta rickroll yourself bec...   \n",
              "\n",
              "               Timestamp    Likes  TotalReplies Language  \\\n",
              "0   2021-07-28T21:00:32Z  1166879           497  English   \n",
              "1   2019-10-31T21:38:49Z   994100           494  English   \n",
              "6   2019-12-13T18:58:53Z   157769           490  English   \n",
              "8   2023-01-03T19:29:05Z        4             0  English   \n",
              "11  2019-07-23T06:54:55Z   143827           481  English   \n",
              "\n",
              "                                         vader_scores  \n",
              "0   {'neg': 0.127, 'neu': 0.476, 'pos': 0.397, 'co...  \n",
              "1   {'neg': 0.0, 'neu': 1.0, 'pos': 0.0, 'compound...  \n",
              "6   {'neg': 0.0, 'neu': 0.783, 'pos': 0.217, 'comp...  \n",
              "8   {'neg': 0.153, 'neu': 0.628, 'pos': 0.219, 'co...  \n",
              "11  {'neg': 0.18, 'neu': 0.82, 'pos': 0.0, 'compou...  "
            ],
            "text/html": [
              "\n",
              "  <div id=\"df-efee5f35-a9e9-4fef-9d36-4e84fd99bba3\">\n",
              "    <div class=\"colab-df-container\">\n",
              "      <div>\n",
              "<style scoped>\n",
              "    .dataframe tbody tr th:only-of-type {\n",
              "        vertical-align: middle;\n",
              "    }\n",
              "\n",
              "    .dataframe tbody tr th {\n",
              "        vertical-align: top;\n",
              "    }\n",
              "\n",
              "    .dataframe thead th {\n",
              "        text-align: right;\n",
              "    }\n",
              "</style>\n",
              "<table border=\"1\" class=\"dataframe\">\n",
              "  <thead>\n",
              "    <tr style=\"text-align: right;\">\n",
              "      <th></th>\n",
              "      <th>Author</th>\n",
              "      <th>Comment</th>\n",
              "      <th>Timestamp</th>\n",
              "      <th>Likes</th>\n",
              "      <th>TotalReplies</th>\n",
              "      <th>Language</th>\n",
              "      <th>vader_scores</th>\n",
              "    </tr>\n",
              "  </thead>\n",
              "  <tbody>\n",
              "    <tr>\n",
              "      <th>0</th>\n",
              "      <td>Rick Astley</td>\n",
              "      <td>1 billion views for never gonna give you up am...</td>\n",
              "      <td>2021-07-28T21:00:32Z</td>\n",
              "      <td>1166879</td>\n",
              "      <td>497</td>\n",
              "      <td>English</td>\n",
              "      <td>{'neg': 0.127, 'neu': 0.476, 'pos': 0.397, 'co...</td>\n",
              "    </tr>\n",
              "    <tr>\n",
              "      <th>1</th>\n",
              "      <td>H1K</td>\n",
              "      <td>this isnt your first time here and you know it</td>\n",
              "      <td>2019-10-31T21:38:49Z</td>\n",
              "      <td>994100</td>\n",
              "      <td>494</td>\n",
              "      <td>English</td>\n",
              "      <td>{'neg': 0.0, 'neu': 1.0, 'pos': 0.0, 'compound...</td>\n",
              "    </tr>\n",
              "    <tr>\n",
              "      <th>6</th>\n",
              "      <td>Dylan</td>\n",
              "      <td>its come to the point that being rickrolled is...</td>\n",
              "      <td>2019-12-13T18:58:53Z</td>\n",
              "      <td>157769</td>\n",
              "      <td>490</td>\n",
              "      <td>English</td>\n",
              "      <td>{'neg': 0.0, 'neu': 0.783, 'pos': 0.217, 'comp...</td>\n",
              "    </tr>\n",
              "    <tr>\n",
              "      <th>8</th>\n",
              "      <td>Peanut</td>\n",
              "      <td>no matter what you say you got rick rolled don...</td>\n",
              "      <td>2023-01-03T19:29:05Z</td>\n",
              "      <td>4</td>\n",
              "      <td>0</td>\n",
              "      <td>English</td>\n",
              "      <td>{'neg': 0.153, 'neu': 0.628, 'pos': 0.219, 'co...</td>\n",
              "    </tr>\n",
              "    <tr>\n",
              "      <th>11</th>\n",
              "      <td>dumb bee FBI edition</td>\n",
              "      <td>sometimes you just gotta rickroll yourself bec...</td>\n",
              "      <td>2019-07-23T06:54:55Z</td>\n",
              "      <td>143827</td>\n",
              "      <td>481</td>\n",
              "      <td>English</td>\n",
              "      <td>{'neg': 0.18, 'neu': 0.82, 'pos': 0.0, 'compou...</td>\n",
              "    </tr>\n",
              "  </tbody>\n",
              "</table>\n",
              "</div>\n",
              "      <button class=\"colab-df-convert\" onclick=\"convertToInteractive('df-efee5f35-a9e9-4fef-9d36-4e84fd99bba3')\"\n",
              "              title=\"Convert this dataframe to an interactive table.\"\n",
              "              style=\"display:none;\">\n",
              "        \n",
              "  <svg xmlns=\"http://www.w3.org/2000/svg\" height=\"24px\"viewBox=\"0 0 24 24\"\n",
              "       width=\"24px\">\n",
              "    <path d=\"M0 0h24v24H0V0z\" fill=\"none\"/>\n",
              "    <path d=\"M18.56 5.44l.94 2.06.94-2.06 2.06-.94-2.06-.94-.94-2.06-.94 2.06-2.06.94zm-11 1L8.5 8.5l.94-2.06 2.06-.94-2.06-.94L8.5 2.5l-.94 2.06-2.06.94zm10 10l.94 2.06.94-2.06 2.06-.94-2.06-.94-.94-2.06-.94 2.06-2.06.94z\"/><path d=\"M17.41 7.96l-1.37-1.37c-.4-.4-.92-.59-1.43-.59-.52 0-1.04.2-1.43.59L10.3 9.45l-7.72 7.72c-.78.78-.78 2.05 0 2.83L4 21.41c.39.39.9.59 1.41.59.51 0 1.02-.2 1.41-.59l7.78-7.78 2.81-2.81c.8-.78.8-2.07 0-2.86zM5.41 20L4 18.59l7.72-7.72 1.47 1.35L5.41 20z\"/>\n",
              "  </svg>\n",
              "      </button>\n",
              "      \n",
              "  <style>\n",
              "    .colab-df-container {\n",
              "      display:flex;\n",
              "      flex-wrap:wrap;\n",
              "      gap: 12px;\n",
              "    }\n",
              "\n",
              "    .colab-df-convert {\n",
              "      background-color: #E8F0FE;\n",
              "      border: none;\n",
              "      border-radius: 50%;\n",
              "      cursor: pointer;\n",
              "      display: none;\n",
              "      fill: #1967D2;\n",
              "      height: 32px;\n",
              "      padding: 0 0 0 0;\n",
              "      width: 32px;\n",
              "    }\n",
              "\n",
              "    .colab-df-convert:hover {\n",
              "      background-color: #E2EBFA;\n",
              "      box-shadow: 0px 1px 2px rgba(60, 64, 67, 0.3), 0px 1px 3px 1px rgba(60, 64, 67, 0.15);\n",
              "      fill: #174EA6;\n",
              "    }\n",
              "\n",
              "    [theme=dark] .colab-df-convert {\n",
              "      background-color: #3B4455;\n",
              "      fill: #D2E3FC;\n",
              "    }\n",
              "\n",
              "    [theme=dark] .colab-df-convert:hover {\n",
              "      background-color: #434B5C;\n",
              "      box-shadow: 0px 1px 3px 1px rgba(0, 0, 0, 0.15);\n",
              "      filter: drop-shadow(0px 1px 2px rgba(0, 0, 0, 0.3));\n",
              "      fill: #FFFFFF;\n",
              "    }\n",
              "  </style>\n",
              "\n",
              "      <script>\n",
              "        const buttonEl =\n",
              "          document.querySelector('#df-efee5f35-a9e9-4fef-9d36-4e84fd99bba3 button.colab-df-convert');\n",
              "        buttonEl.style.display =\n",
              "          google.colab.kernel.accessAllowed ? 'block' : 'none';\n",
              "\n",
              "        async function convertToInteractive(key) {\n",
              "          const element = document.querySelector('#df-efee5f35-a9e9-4fef-9d36-4e84fd99bba3');\n",
              "          const dataTable =\n",
              "            await google.colab.kernel.invokeFunction('convertToInteractive',\n",
              "                                                     [key], {});\n",
              "          if (!dataTable) return;\n",
              "\n",
              "          const docLinkHtml = 'Like what you see? Visit the ' +\n",
              "            '<a target=\"_blank\" href=https://colab.research.google.com/notebooks/data_table.ipynb>data table notebook</a>'\n",
              "            + ' to learn more about interactive tables.';\n",
              "          element.innerHTML = '';\n",
              "          dataTable['output_type'] = 'display_data';\n",
              "          await google.colab.output.renderOutput(dataTable, element);\n",
              "          const docLink = document.createElement('div');\n",
              "          docLink.innerHTML = docLinkHtml;\n",
              "          element.appendChild(docLink);\n",
              "        }\n",
              "      </script>\n",
              "    </div>\n",
              "  </div>\n",
              "  "
            ]
          },
          "metadata": {},
          "execution_count": 29
        }
      ]
    },
    {
      "cell_type": "code",
      "source": [
        "vader_df['compound'] = vader_df['vader_scores'].apply(lambda score_dict: score_dict['compound'])\n",
        "vader_df['vader_sentiment_type']=''\n",
        "vader_df.loc[vader_df.compound>0,'vader_sentiment_type']='POSITIVE'\n",
        "vader_df.loc[vader_df.compound==0,'vader_sentiment_type']='NEUTRAL'\n",
        "vader_df.loc[vader_df.compound<0,'vader_sentiment_type']='NEGATIVE'"
      ],
      "metadata": {
        "colab": {
          "base_uri": "https://localhost:8080/"
        },
        "id": "_LA4-7WYu2Ne",
        "outputId": "16274d11-e19b-4231-dbb4-814cb11e334c"
      },
      "execution_count": 33,
      "outputs": [
        {
          "output_type": "stream",
          "name": "stderr",
          "text": [
            "<ipython-input-33-69a074b60d0e>:1: SettingWithCopyWarning: \n",
            "A value is trying to be set on a copy of a slice from a DataFrame.\n",
            "Try using .loc[row_indexer,col_indexer] = value instead\n",
            "\n",
            "See the caveats in the documentation: https://pandas.pydata.org/pandas-docs/stable/user_guide/indexing.html#returning-a-view-versus-a-copy\n",
            "  vader_df['compound'] = vader_df['vader_scores'].apply(lambda score_dict: score_dict['compound'])\n",
            "<ipython-input-33-69a074b60d0e>:2: SettingWithCopyWarning: \n",
            "A value is trying to be set on a copy of a slice from a DataFrame.\n",
            "Try using .loc[row_indexer,col_indexer] = value instead\n",
            "\n",
            "See the caveats in the documentation: https://pandas.pydata.org/pandas-docs/stable/user_guide/indexing.html#returning-a-view-versus-a-copy\n",
            "  vader_df['vader_sentiment_type']=''\n",
            "/usr/local/lib/python3.8/dist-packages/pandas/core/indexing.py:1817: SettingWithCopyWarning: \n",
            "A value is trying to be set on a copy of a slice from a DataFrame.\n",
            "Try using .loc[row_indexer,col_indexer] = value instead\n",
            "\n",
            "See the caveats in the documentation: https://pandas.pydata.org/pandas-docs/stable/user_guide/indexing.html#returning-a-view-versus-a-copy\n",
            "  self._setitem_single_column(loc, value, pi)\n"
          ]
        }
      ]
    },
    {
      "cell_type": "code",
      "source": [
        "vader_df.vader_sentiment_type.value_counts()"
      ],
      "metadata": {
        "colab": {
          "base_uri": "https://localhost:8080/"
        },
        "id": "wAIbc8IzvYr7",
        "outputId": "418f984d-cb81-4ef0-ec91-ec49da2c053e"
      },
      "execution_count": 34,
      "outputs": [
        {
          "output_type": "execute_result",
          "data": {
            "text/plain": [
              "POSITIVE    23\n",
              "NEUTRAL     15\n",
              "NEGATIVE     4\n",
              "Name: vader_sentiment_type, dtype: int64"
            ]
          },
          "metadata": {},
          "execution_count": 34
        }
      ]
    },
    {
      "cell_type": "code",
      "source": [
        "vader_df.vader_sentiment_type.value_counts().plot(kind='bar',title=\"sentiment analysis\")"
      ],
      "metadata": {
        "colab": {
          "base_uri": "https://localhost:8080/",
          "height": 338
        },
        "id": "DvUbKI7puIPA",
        "outputId": "35db3e83-c682-4d1d-a794-e76ab69ce6a0"
      },
      "execution_count": 35,
      "outputs": [
        {
          "output_type": "execute_result",
          "data": {
            "text/plain": [
              "<matplotlib.axes._subplots.AxesSubplot at 0x7f37b17d0a60>"
            ]
          },
          "metadata": {},
          "execution_count": 35
        },
        {
          "output_type": "display_data",
          "data": {
            "text/plain": [
              "<Figure size 432x288 with 1 Axes>"
            ],
            "image/png": "[encoded data removed]"
          },
          "metadata": {
            "needs_background": "light"
          }
        }
      ]
    },
    {
      "cell_type": "markdown",
      "source": [
        "## Comparison"
      ],
      "metadata": {
        "id": "YHc1RvG110HP"
      }
    },
    {
      "cell_type": "code",
      "source": [
        "vader_df.groupby(['vader_sentiment_type']).head()"
      ],
      "metadata": {
        "id": "3MUqoH0v12zL"
      },
      "execution_count": null,
      "outputs": []
    },
    {
      "cell_type": "markdown",
      "source": [
        "After the initial analysis and visual inspection. There are more positive and negative counts using TextBlob than Vader.\n",
        "\n",
        "I think TextBlob is closer to the sentiment outcomes that I expect. Hence picking TextBlob for Sentiment analysis."
      ],
      "metadata": {
        "id": "OSY2TefT7kcN"
      }
    },
    {
      "cell_type": "markdown",
      "source": [
        "# DASHBOARD"
      ],
      "metadata": {
        "id": "MjJg8Eum8H-4"
      }
    },
    {
      "cell_type": "markdown",
      "source": [
        "A few insights that we draw:\n",
        "1. Top 10 liked comments\n",
        "2. Top 10 replies comments\n",
        "3. World Cloud\n",
        "4. Top languages commented in\n",
        "5. Sentiment analysis on the English comments"
      ],
      "metadata": {
        "id": "eSOhuC2K8LDM"
      }
    },
    {
      "cell_type": "markdown",
      "source": [
        "## FUNCTIONS"
      ],
      "metadata": {
        "id": "Mur22aN1D6hD"
      }
    },
    {
      "cell_type": "code",
      "source": [
        "url = 'https://www.youtube.com/watch?v=dQw4w9WgXcQ'"
      ],
      "metadata": {
        "id": "xHO2i54SErwI"
      },
      "execution_count": null,
      "outputs": []
    },
    {
      "cell_type": "code",
      "source": [
        "video_id = url.split('?v=')[-1]\n",
        "video_id"
      ],
      "metadata": {
        "id": "iyGSYm9_Ersu"
      },
      "execution_count": null,
      "outputs": []
    },
    {
      "cell_type": "code",
      "source": [
        "from googleapiclient.discovery import build\n",
        "import pandas as pd\n",
        "from cleantext import clean\n",
        "from langdetect import detect\n",
        "import pycountry\n",
        "from nltk.sentiment.util import *\n",
        "from textblob import TextBlob\n",
        "from nltk import tokenize\n",
        "\n",
        "def get_polarity(text):\n",
        "  return TextBlob(text).sentiment.polarity\n",
        "\n",
        "def parse_video(url) -> pd.DataFrame:\n",
        "  \"\"\"\n",
        "  Args:\n",
        "    url: URL Of the video to be parsed \n",
        "  Returns:\n",
        "    Dataframe with the processed and cleaned values\n",
        "  \"\"\"\n",
        "  api_key = '{api_secret}'\n",
        "  \n",
        "  # Get the video_id from the url\n",
        "  video_id = url.split('?v=')[-1]\n",
        "\n",
        "  # creating youtube resource object\n",
        "  youtube = build('youtube', 'v3',\n",
        "  developerKey=api_key)\n",
        "\n",
        "  # retrieve youtube video results\n",
        "  video_response=youtube.commentThreads().list(\n",
        "  part='snippet',\n",
        "  maxResults=1000,\n",
        "  order='relevance',\n",
        "  videoId=video_id\n",
        "  ).execute()\n",
        "\n",
        "  # empty list for storing reply\n",
        "  comments = []\n",
        "\n",
        "  # extracting required info from each result object\n",
        "  for item in video_response['items']:\n",
        "\n",
        "    # Extracting comments\n",
        "    comment = item['snippet']['topLevelComment']['snippet']['textOriginal']\n",
        "    # Extracting author\n",
        "    author = item['snippet']['topLevelComment']['snippet']['authorDisplayName']\n",
        "    # Extracting published time\n",
        "    published_at = item['snippet']['topLevelComment']['snippet']['publishedAt']\n",
        "    # Extracting likes\n",
        "    like_count = item['snippet']['topLevelComment']['snippet']['likeCount']\n",
        "    # Extracting total replies to the comment\n",
        "    reply_count = item['snippet']['totalReplyCount']\n",
        "\n",
        "    comments.append([author, comment, published_at, like_count, reply_count])\n",
        "  \n",
        "  df = pd.DataFrame({'Author': [i[0] for i in comments], \n",
        "                     'Comment': [i[1] for i in comments], \n",
        "                     'Timestamp': [i[2] for i in comments],\n",
        "                  'Likes': [i[3] for i in comments], \n",
        "                  'TotalReplies': [i[4] for i in comments]})\n",
        "  \n",
        "  # Remove extra spaces and make them lower case. Replace special emojis\n",
        "  df['Comment'] = df['Comment'].apply(lambda x: x.strip().lower().\n",
        "                                      replace('xd','').replace('<3',''))\n",
        "\n",
        "  # Clean text from line breaks, unicodes, emojis and punctuations\n",
        "  df['Comment'] = df['Comment'].apply(lambda x: clean(x, \n",
        "                                                      no_emoji=True, \n",
        "                                                      no_punct=True,\n",
        "                                                      no_line_breaks=True,\n",
        "                                                      fix_unicode=True))\n",
        "  \n",
        "  # Detect the languages of the comments\n",
        "  df['Language'] = df['Comment'].apply(lambda x: detect(x))\n",
        "\n",
        "  # Convert ISO country codes to Languages\n",
        "  df['Language'] = df['Language'].apply(lambda x: \n",
        "                                        pycountry.languages.get(alpha_2=x).name)\n",
        "  \n",
        "  # New variable for TextBlob approach\n",
        "  textBlob = df.loc[df['Language']=='English']\n",
        "\n",
        "  # Determining the polarity\n",
        "  textBlob['TextBlob_Polarity'] = textBlob['Comment'].apply(get_polarity)\n",
        "\n",
        "  textBlob['TextBlob_Sentiment_Type']=''\n",
        "  textBlob.loc[textBlob.TextBlob_Polarity>0,'TextBlob_Sentiment_Type']='POSITIVE'\n",
        "  textBlob.loc[textBlob.TextBlob_Polarity==0,'TextBlob_Sentiment_Type']='NEUTRAL'\n",
        "  textBlob.loc[textBlob.TextBlob_Polarity<0,'TextBlob_Sentiment_Type']='NEGATIVE'\n",
        "\n",
        "  return textBlob\n"
      ],
      "metadata": {
        "id": "CQSt7Ln8D6Lf"
      },
      "execution_count": null,
      "outputs": []
    },
    {
      "cell_type": "markdown",
      "source": [
        "## STREAMLIT"
      ],
      "metadata": {
        "id": "fxVadaOalxDE"
      }
    },
    {
      "cell_type": "code",
      "source": [
        "pip install streamlit"
      ],
      "metadata": {
        "id": "PCRc27pYh-I3"
      },
      "execution_count": null,
      "outputs": []
    },
    {
      "cell_type": "code",
      "source": [
        "pip install --upgrade protobuf"
      ],
      "metadata": {
        "id": "Z-tQT3MLnbya"
      },
      "execution_count": null,
      "outputs": []
    },
    {
      "cell_type": "code",
      "source": [
        "import streamlit as st \n",
        "st.set_page_config(\n",
        "    page_title=\"Real-Time Data Science Dashboard\",\n",
        "    page_icon=\"✅\",\n",
        "    layout=\"wide\",\n",
        ")\n",
        "st.markdown(\"### Detailed Data View\")\n",
        "st.dataframe(clean_df)"
      ],
      "metadata": {
        "id": "KiGRk_5ymMOa"
      },
      "execution_count": null,
      "outputs": []
    },
    {
      "cell_type": "code",
      "source": [
        "!streamlit run /usr/local/lib/python3.8/dist-packages/ipykernel_launcher.py"
      ],
      "metadata": {
        "id": "tcIBecoUnu0O"
      },
      "execution_count": null,
      "outputs": []
    }
  ]
}